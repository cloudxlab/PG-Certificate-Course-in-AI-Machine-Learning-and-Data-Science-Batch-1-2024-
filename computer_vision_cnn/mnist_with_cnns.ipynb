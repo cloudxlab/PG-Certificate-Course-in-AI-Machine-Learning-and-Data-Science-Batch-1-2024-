{
 "cells": [
  {
   "cell_type": "markdown",
   "metadata": {},
   "source": [
    "# Training with MNIST"
   ]
  },
  {
   "cell_type": "markdown",
   "metadata": {},
   "source": [
    "In this notebook we will make a simple CNN and train fashion MNIST with it. Fashion MNIST is like number MNIST, instead of numbers it has got images of wearables. The classes in Fashion MNIST are\n",
    "\n",
    "- 0 T-shirt/top\n",
    "- 1 Trouser\n",
    "- 2 Pullover\n",
    "- 3 Dress\n",
    "- 4 Coat\n",
    "- 5 Sandal\n",
    "- 6 Shirt\n",
    "- 7 Sneaker\n",
    "- 8 Bag\n",
    "- 9 Ankle boot"
   ]
  },
  {
   "cell_type": "code",
   "execution_count": 1,
   "metadata": {},
   "outputs": [
    {
     "name": "stdout",
     "output_type": "stream",
     "text": [
      "No GPU was detected. CNNs can be very slow without a GPU.\n"
     ]
    }
   ],
   "source": [
    "#This segment verifies the setup\n",
    "# Python ≥3.5 is required\n",
    "import sys\n",
    "assert sys.version_info >= (3, 5)\n",
    "\n",
    "# Scikit-Learn ≥0.20 is required\n",
    "import sklearn\n",
    "assert sklearn.__version__ >= \"0.20\"\n",
    "\n",
    "\n",
    "\n",
    "# TensorFlow ≥2.0 is required\n",
    "import tensorflow as tf\n",
    "from tensorflow import keras\n",
    "assert tf.__version__ >= \"2.0\"\n",
    "\n",
    "IS_COLAB=0\n",
    "if not tf.config.list_physical_devices('GPU'):\n",
    "    print(\"No GPU was detected. CNNs can be very slow without a GPU.\")\n",
    "    if IS_COLAB:\n",
    "        print(\"Go to Runtime > Change runtime and select a GPU hardware accelerator.\")\n",
    "\n",
    "# Common imports\n",
    "import numpy as np\n",
    "import os\n",
    "\n",
    "# to make this notebook's output stable across runs\n",
    "np.random.seed(42)\n",
    "tf.random.set_seed(42)\n",
    "\n",
    "# To plot pretty figures\n",
    "%matplotlib inline\n",
    "import matplotlib as mpl\n",
    "import matplotlib.pyplot as plt\n",
    "mpl.rc('axes', labelsize=14)\n",
    "mpl.rc('xtick', labelsize=12)\n",
    "mpl.rc('ytick', labelsize=12)\n",
    "\n",
    "# Where to save the figures\n",
    "PROJECT_ROOT_DIR = \".\"\n",
    "CHAPTER_ID = \"cnn\"\n",
    "IMAGES_PATH = os.path.join(PROJECT_ROOT_DIR, \"images\", CHAPTER_ID)\n",
    "os.makedirs(IMAGES_PATH, exist_ok=True)\n",
    "\n",
    "def save_fig(fig_id, tight_layout=True, fig_extension=\"png\", resolution=300):\n",
    "    path = os.path.join(IMAGES_PATH, fig_id + \".\" + fig_extension)\n",
    "    print(\"Saving figure\", fig_id)\n",
    "    if tight_layout:\n",
    "        plt.tight_layout()\n",
    "    plt.savefig(path, format=fig_extension, dpi=resolution)\n",
    "    \n",
    "def plot_image(image):\n",
    "    plt.imshow(image, cmap=\"gray\", interpolation=\"nearest\")\n",
    "    plt.axis(\"off\")\n",
    "\n",
    "def plot_color_image(image):\n",
    "    plt.imshow(image, interpolation=\"nearest\")\n",
    "    plt.axis(\"off\")"
   ]
  },
  {
   "cell_type": "markdown",
   "metadata": {},
   "source": [
    "We will do the following in this section\n",
    "- Load mnist data from Keras with train_full and test sets\n",
    "- Create train set and valid set\n",
    "- Normalise the input data\n",
    "- Add channel dimension to input"
   ]
  },
  {
   "cell_type": "code",
   "execution_count": 2,
   "metadata": {},
   "outputs": [
    {
     "name": "stdout",
     "output_type": "stream",
     "text": [
      "Shape of full train and test sets (60000, 28, 28) (60000,) (10000, 28, 28) (10000,)\n",
      "item0 9\n",
      "Shape of train and valid sets (25000, 28, 28) (25000,) (5000, 28, 28) (5000,)\n",
      "Shape of features (25000, 28, 28, 1) (5000, 28, 28, 1) (10000, 28, 28, 1)\n"
     ]
    },
    {
     "data": {
      "image/png": "[encoded data removed]",
      "text/plain": [
       "<Figure size 432x288 with 1 Axes>"
      ]
     },
     "metadata": {
      "needs_background": "light"
     },
     "output_type": "display_data"
    }
   ],
   "source": [
    "\n",
    "(X_train_full, y_train_full), (X_test, y_test) = keras.datasets.fashion_mnist.load_data()\n",
    "print (\"Shape of full train and test sets\", X_train_full.shape, y_train_full.shape, X_test.shape, y_test.shape)\n",
    "X_train, X_valid = X_train_full[:-35000], X_train_full[-5000:]\n",
    "y_train, y_valid = y_train_full[:-35000], y_train_full[-5000:]\n",
    "\n",
    "plt.imshow(X_train_full[0], cmap=\"Greys\")\n",
    "print (\"item0\", y_train_full[0])\n",
    "print (\"Shape of train and valid sets\", X_train.shape, y_train.shape, X_valid.shape, y_valid.shape)\n",
    "\n",
    "#Normalise the features set with mean and standard deviations\n",
    "X_mean = X_train.mean(axis=0, keepdims=True)\n",
    "X_std = X_train.std(axis=0, keepdims=True) + 1e-7\n",
    "X_train = (X_train - X_mean) / X_std\n",
    "X_valid = (X_valid - X_mean) / X_std\n",
    "X_test = (X_test - X_mean) / X_std\n",
    "\n",
    "#Add an extra dimension for channels and compatibility to tools\n",
    "X_train = X_train[..., np.newaxis]\n",
    "X_valid = X_valid[..., np.newaxis]\n",
    "X_test = X_test[..., np.newaxis]\n",
    "\n",
    "print (\"Shape of features\", X_train.shape, X_valid.shape, X_test.shape)"
   ]
  },
  {
   "cell_type": "markdown",
   "metadata": {},
   "source": [
    "- Image is 28x28 and has a single channel\n",
    "- MaxPooling of 2 reduces spacial dimension by 2 keeping memory requirements in control\n",
    "- Increase the number of filters (doubling)as we go deeper to create combine lower level feature to higher level features\n",
    "- We flatten the data and feed to the dense layers in the end. Makes it into a single dimensional array that can be input to dense layers\n",
    "- There is 50% normalisation to reduce overfitting\n",
    "- And finally a 10 output dense layer with softmax to bring it down to 10 \n"
   ]
  },
  {
   "cell_type": "code",
   "execution_count": 4,
   "metadata": {},
   "outputs": [],
   "source": [
    "keras.layers.MaxPooling2D?"
   ]
  },
  {
   "cell_type": "code",
   "execution_count": 7,
   "metadata": {},
   "outputs": [],
   "source": [
    "from functools import partial\n",
    "\n",
    "#Create a function with which we can more easily add convolution layers\n",
    "DefaultConv2D = partial(keras.layers.Conv2D,\n",
    "                        kernel_size=3, activation='relu', padding=\"SAME\")\n",
    "\n",
    "# def DefaultConv2D(filters, kernel_size, input_shape):\n",
    "#     return keras.layers.Conv2D(filters, kernel_size, input_shape,  kernel_size=3, \n",
    "#         activation='relu', padding=\"SAME\")\n",
    "\n",
    "model = keras.models.Sequential([\n",
    "    DefaultConv2D(filters=64, kernel_size=7, input_shape=[28, 28, 1]), # 28x28x64\n",
    "    keras.layers.MaxPooling2D(pool_size=2), #Same maxpooling applied regularly -> 14x14x64\n",
    "    DefaultConv2D(filters=128), # 14x14x128 \n",
    "    DefaultConv2D(filters=128), # 14x14x128\n",
    "    keras.layers.MaxPooling2D(pool_size=2), #7x7x128\n",
    "    DefaultConv2D(filters=256), #7x7x256\n",
    "    DefaultConv2D(filters=256), #7x7x256\n",
    "    keras.layers.MaxPooling2D(pool_size=2), # 3x3x256\n",
    "    DefaultConv2D(filters=256), # 3x3x256\n",
    "    DefaultConv2D(filters=256), # 3x3x256\n",
    "    keras.layers.MaxPooling2D(pool_size=2), # 1x1x256\n",
    "    keras.layers.Flatten(), #[256]\n",
    "    keras.layers.Dense(units=128, activation='relu'),\n",
    "    keras.layers.Dropout(0.5),\n",
    "    keras.layers.Dense(units=64, activation='relu'),\n",
    "    keras.layers.Dropout(0.5),\n",
    "    keras.layers.Dense(units=10, activation='softmax'),\n",
    "])"
   ]
  },
  {
   "cell_type": "code",
   "execution_count": 25,
   "metadata": {
    "scrolled": true
   },
   "outputs": [
    {
     "name": "stdout",
     "output_type": "stream",
     "text": [
      "Model: \"sequential_2\"\n",
      "_________________________________________________________________\n",
      "Layer (type)                 Output Shape              Param #   \n",
      "=================================================================\n",
      "conv2d_14 (Conv2D)           (None, 28, 28, 64)        3200      \n",
      "_________________________________________________________________\n",
      "max_pooling2d_8 (MaxPooling2 (None, 14, 14, 64)        0         \n",
      "_________________________________________________________________\n",
      "conv2d_15 (Conv2D)           (None, 14, 14, 128)       73856     \n",
      "_________________________________________________________________\n",
      "conv2d_16 (Conv2D)           (None, 14, 14, 128)       147584    \n",
      "_________________________________________________________________\n",
      "max_pooling2d_9 (MaxPooling2 (None, 7, 7, 128)         0         \n",
      "_________________________________________________________________\n",
      "conv2d_17 (Conv2D)           (None, 7, 7, 256)         295168    \n",
      "_________________________________________________________________\n",
      "conv2d_18 (Conv2D)           (None, 7, 7, 256)         590080    \n",
      "_________________________________________________________________\n",
      "max_pooling2d_10 (MaxPooling (None, 3, 3, 256)         0         \n",
      "_________________________________________________________________\n",
      "conv2d_19 (Conv2D)           (None, 3, 3, 256)         590080    \n",
      "_________________________________________________________________\n",
      "conv2d_20 (Conv2D)           (None, 3, 3, 256)         590080    \n",
      "_________________________________________________________________\n",
      "max_pooling2d_11 (MaxPooling (None, 1, 1, 256)         0         \n",
      "_________________________________________________________________\n",
      "flatten_2 (Flatten)          (None, 256)               0         \n",
      "_________________________________________________________________\n",
      "dense_6 (Dense)              (None, 128)               32896     \n",
      "_________________________________________________________________\n",
      "dropout_4 (Dropout)          (None, 128)               0         \n",
      "_________________________________________________________________\n",
      "dense_7 (Dense)              (None, 64)                8256      \n",
      "_________________________________________________________________\n",
      "dropout_5 (Dropout)          (None, 64)                0         \n",
      "_________________________________________________________________\n",
      "dense_8 (Dense)              (None, 10)                650       \n",
      "=================================================================\n",
      "Total params: 2,331,850\n",
      "Trainable params: 2,331,850\n",
      "Non-trainable params: 0\n",
      "_________________________________________________________________\n"
     ]
    }
   ],
   "source": [
    "model.summary()"
   ]
  },
  {
   "cell_type": "code",
   "execution_count": null,
   "metadata": {},
   "outputs": [],
   "source": [
    "model.compile(loss=\"sparse_categorical_crossentropy\", optimizer=\"nadam\", metrics=[\"accuracy\"])"
   ]
  },
  {
   "cell_type": "code",
   "execution_count": 27,
   "metadata": {},
   "outputs": [
    {
     "name": "stdout",
     "output_type": "stream",
     "text": [
      "Epoch 1/2\n",
      "782/782 [==============================] - 289s 368ms/step - loss: 0.4681 - accuracy: 0.8408 - val_loss: 0.4637 - val_accuracy: 0.8322\n",
      "Epoch 2/2\n",
      "782/782 [==============================] - 288s 369ms/step - loss: 0.4096 - accuracy: 0.8610 - val_loss: 0.3990 - val_accuracy: 0.8652\n",
      "313/313 [==============================] - 22s 69ms/step - loss: 0.4160 - accuracy: 0.8547\n"
     ]
    }
   ],
   "source": [
    "history = model.fit(X_train, y_train, epochs=2, validation_data=(X_valid, y_valid))\n",
    "score = model.evaluate(X_test, y_test)"
   ]
  },
  {
   "cell_type": "code",
   "execution_count": 28,
   "metadata": {},
   "outputs": [
    {
     "name": "stdout",
     "output_type": "stream",
     "text": [
      "Epoch 1/2\n",
      "782/782 [==============================] - 288s 368ms/step - loss: 0.3856 - accuracy: 0.8676 - val_loss: 0.3893 - val_accuracy: 0.8646\n",
      "Epoch 2/2\n",
      "782/782 [==============================] - 289s 369ms/step - loss: 0.3564 - accuracy: 0.8769 - val_loss: 0.3816 - val_accuracy: 0.8764\n",
      "313/313 [==============================] - 21s 68ms/step - loss: 0.3994 - accuracy: 0.8716\n"
     ]
    }
   ],
   "source": [
    "history = model.fit(X_train, y_train, epochs=2, validation_data=(X_valid, y_valid))\n",
    "score = model.evaluate(X_test, y_test)"
   ]
  },
  {
   "cell_type": "code",
   "execution_count": 33,
   "metadata": {},
   "outputs": [
    {
     "name": "stdout",
     "output_type": "stream",
     "text": [
      "Epoch 1/2\n",
      "782/782 [==============================] - 290s 370ms/step - loss: 0.3317 - accuracy: 0.8854 - val_loss: 0.3932 - val_accuracy: 0.8802\n",
      "Epoch 2/2\n",
      "782/782 [==============================] - 300s 384ms/step - loss: 0.3178 - accuracy: 0.8946 - val_loss: 0.3875 - val_accuracy: 0.8650\n",
      "313/313 [==============================] - 28s 90ms/step - loss: 0.3875 - accuracy: 0.8673\n"
     ]
    }
   ],
   "source": [
    "history = model.fit(X_train, y_train, epochs=2, validation_data=(X_valid, y_valid))\n",
    "score = model.evaluate(X_test, y_test)"
   ]
  },
  {
   "cell_type": "code",
   "execution_count": 29,
   "metadata": {
    "scrolled": true
   },
   "outputs": [
    {
     "name": "stdout",
     "output_type": "stream",
     "text": [
      "[0.39938512444496155, 0.8715999722480774]\n"
     ]
    }
   ],
   "source": [
    "print (score)"
   ]
  },
  {
   "cell_type": "code",
   "execution_count": 30,
   "metadata": {},
   "outputs": [],
   "source": [
    "X_new = X_test[10:20] # pretend we have new images\n",
    "y_pred = model.predict(X_new)"
   ]
  },
  {
   "cell_type": "code",
   "execution_count": 31,
   "metadata": {},
   "outputs": [
    {
     "name": "stdout",
     "output_type": "stream",
     "text": [
      "[4 5 7 3 4 1 2 4 8 0]\n"
     ]
    }
   ],
   "source": [
    "#Print actual data from test\n",
    "print (y_test[10:20])"
   ]
  },
  {
   "cell_type": "code",
   "execution_count": 32,
   "metadata": {},
   "outputs": [
    {
     "name": "stdout",
     "output_type": "stream",
     "text": [
      "[4 5 5 3 4 1 2 4 8 0]\n"
     ]
    }
   ],
   "source": [
    "#Print the output of the predicted set\n",
    "print (np.argmax(y_pred, axis=1))"
   ]
  },
  {
   "cell_type": "code",
   "execution_count": null,
   "metadata": {},
   "outputs": [],
   "source": []
  }
 ],
 "metadata": {
  "kernelspec": {
   "display_name": "tensorflow2",
   "language": "python",
   "name": "tensorflow2"
  },
  "language_info": {
   "codemirror_mode": {
    "name": "ipython",
    "version": 3
   },
   "file_extension": ".py",
   "mimetype": "text/x-python",
   "name": "python",
   "nbconvert_exporter": "python",
   "pygments_lexer": "ipython3",
   "version": "3.6.8"
  },
  "toc": {
   "base_numbering": 1,
   "nav_menu": {},
   "number_sections": true,
   "sideBar": true,
   "skip_h1_title": false,
   "title_cell": "Table of Contents",
   "title_sidebar": "Contents",
   "toc_cell": false,
   "toc_position": {},
   "toc_section_display": true,
   "toc_window_display": false
  }
 },
 "nbformat": 4,
 "nbformat_minor": 2
}
