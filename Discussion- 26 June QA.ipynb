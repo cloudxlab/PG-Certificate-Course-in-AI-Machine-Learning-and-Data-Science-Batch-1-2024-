{
 "cells": [
  {
   "cell_type": "code",
   "execution_count": 2,
   "metadata": {},
   "outputs": [],
   "source": [
    "import numpy as np\n",
    "arr = np.array([-10, -5, 0, 5, 10])"
   ]
  },
  {
   "cell_type": "code",
   "execution_count": 3,
   "metadata": {},
   "outputs": [],
   "source": [
    "vals = 1 /(1 + 1/np.exp(arr))"
   ]
  },
  {
   "cell_type": "code",
   "execution_count": 4,
   "metadata": {},
   "outputs": [
    {
     "data": {
      "text/plain": [
       "array([4.53978687e-05, 6.69285092e-03, 5.00000000e-01, 9.93307149e-01,\n",
       "       9.99954602e-01])"
      ]
     },
     "execution_count": 4,
     "metadata": {},
     "output_type": "execute_result"
    }
   ],
   "source": [
    "vals"
   ]
  },
  {
   "cell_type": "code",
   "execution_count": 6,
   "metadata": {},
   "outputs": [],
   "source": [
    "actual =    [0, 0, 1, 1, 1]\n",
    "predicted = [0, 0.4, 0.01, 0.99, 0.99]"
   ]
  },
  {
   "cell_type": "code",
   "execution_count": 29,
   "metadata": {},
   "outputs": [],
   "source": [
    "def entropy_loss(actual, predicted):\n",
    "    return -sum(actual*np.log(predicted))"
   ]
  },
  {
   "cell_type": "code",
   "execution_count": null,
   "metadata": {},
   "outputs": [],
   "source": [
    "actual = [1, 2, 3]\n",
    "predicted = [(0.9, 0.01, 0.09), (0.005, 0.99, 0.005), (0.005, 0.99, 0.005)]"
   ]
  },
  {
   "cell_type": "code",
   "execution_count": 30,
   "metadata": {},
   "outputs": [
    {
     "data": {
      "text/plain": [
       "27.631021115928547"
      ]
     },
     "execution_count": 30,
     "metadata": {},
     "output_type": "execute_result"
    }
   ],
   "source": [
    "actual =    [0, 0, 1, 1, 1]\n",
    "predicted = [0.0001, 0.0001, 0.0001, 0.0001, 0.0001]\n",
    "entropy_loss(actual, predicted)"
   ]
  },
  {
   "cell_type": "code",
   "execution_count": 17,
   "metadata": {},
   "outputs": [
    {
     "data": {
      "text/plain": [
       "0.1254611873648292"
      ]
     },
     "execution_count": 17,
     "metadata": {},
     "output_type": "execute_result"
    }
   ],
   "source": [
    "actual =    [0, 0, 1, 1, 1]\n",
    "predicted = [0.1, 0.1, 0.9, 0.99, 0.99]\n",
    "entropy_loss(actual, predicted)"
   ]
  },
  {
   "cell_type": "code",
   "execution_count": 8,
   "metadata": {},
   "outputs": [],
   "source": [
    "loss = -sum(actual*np.log(vals))"
   ]
  },
  {
   "cell_type": "code",
   "execution_count": 9,
   "metadata": {},
   "outputs": [
    {
     "data": {
      "text/plain": [
       "0.69990792794828"
      ]
     },
     "execution_count": 9,
     "metadata": {},
     "output_type": "execute_result"
    }
   ],
   "source": [
    "loss"
   ]
  },
  {
   "cell_type": "markdown",
   "metadata": {},
   "source": [
    "def model(input):\n",
    "    return sum(input * np.array([1,2,3,3]))\n",
    "def sigmoid(arr):\n",
    "    # Converted it into probabilities\n",
    "    return 1 /(1 + 1/np.exp(arr))\n",
    "    \n",
    "vals = model(Input)\n",
    "vals = amplify(vals)\n",
    "loss = []\n",
    "\n",
    "Logistic Regression - Classification technique\n",
    "\n",
    "Data --> A*x + B --> Sigmoid --> Entropy_Loss\n",
    "\n",
    "Linear Regression - Regression technique\n",
    "\n",
    "Data -> A*x + B -> MSE_LOSS\n",
    "\n",
    "Compute Rate of change of entropy_loss wrt A and B \n",
    "and tweak A and B \n",
    "Repeat this process until the loss stops dropping further."
   ]
  },
  {
   "cell_type": "markdown",
   "metadata": {},
   "source": [
    "Gradient Descent can be used with quite a few loss functions. \n",
    "Avoid the loss function which are non-continuous."
   ]
  },
  {
   "cell_type": "code",
   "execution_count": 35,
   "metadata": {},
   "outputs": [],
   "source": [
    "# Data -> A*x + B -> actual -> MAE (sum(abs(predict -  actual)))"
   ]
  },
  {
   "cell_type": "code",
   "execution_count": 34,
   "metadata": {},
   "outputs": [],
   "source": [
    "# At x = zero, the MAE is bad for gradient descent.\n",
    "# And at very high value, the MSE jumps too much.\n",
    "\n",
    "# Huber - best of MSE, MAE"
   ]
  },
  {
   "cell_type": "code",
   "execution_count": 32,
   "metadata": {},
   "outputs": [],
   "source": [
    "# If loss is not decreasing: \n",
    "# 1. There is no relation in the data and output - 50%\n",
    "# 2. Learning rate is high\n",
    "# 3. Model is underfitting - you need complex model.\n"
   ]
  },
  {
   "cell_type": "code",
   "execution_count": 38,
   "metadata": {},
   "outputs": [],
   "source": [
    "import random"
   ]
  },
  {
   "cell_type": "code",
   "execution_count": 43,
   "metadata": {},
   "outputs": [
    {
     "name": "stdout",
     "output_type": "stream",
     "text": [
      "0.5714025946899135\n",
      "0.4288890546751146\n",
      "0.5780913011344704\n",
      "0.20609823213950174\n"
     ]
    }
   ],
   "source": [
    "random.seed(10)\n",
    "print(random.random())\n",
    "print(random.random())\n",
    "print(random.random())\n",
    "print(random.random())"
   ]
  },
  {
   "cell_type": "code",
   "execution_count": 44,
   "metadata": {},
   "outputs": [
    {
     "name": "stdout",
     "output_type": "stream",
     "text": [
      "0.5714025946899135\n",
      "0.4288890546751146\n",
      "0.5780913011344704\n",
      "0.20609823213950174\n"
     ]
    }
   ],
   "source": [
    "random.seed(10)\n",
    "print(random.random())\n",
    "print(random.random())\n",
    "print(random.random())\n",
    "print(random.random())"
   ]
  },
  {
   "cell_type": "code",
   "execution_count": null,
   "metadata": {},
   "outputs": [],
   "source": []
  }
 ],
 "metadata": {
  "kernelspec": {
   "display_name": "Python 3",
   "language": "python",
   "name": "python3"
  },
  "language_info": {
   "codemirror_mode": {
    "name": "ipython",
    "version": 3
   },
   "file_extension": ".py",
   "mimetype": "text/x-python",
   "name": "python",
   "nbconvert_exporter": "python",
   "pygments_lexer": "ipython3",
   "version": "3.6.8"
  },
  "toc": {
   "base_numbering": 1,
   "nav_menu": {},
   "number_sections": true,
   "sideBar": true,
   "skip_h1_title": false,
   "title_cell": "Table of Contents",
   "title_sidebar": "Contents",
   "toc_cell": false,
   "toc_position": {},
   "toc_section_display": true,
   "toc_window_display": false
  }
 },
 "nbformat": 4,
 "nbformat_minor": 2
}
