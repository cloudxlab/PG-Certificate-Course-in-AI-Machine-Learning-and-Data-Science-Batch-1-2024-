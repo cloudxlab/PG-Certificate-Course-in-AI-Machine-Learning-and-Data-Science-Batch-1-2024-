{
 "cells": [
  {
   "cell_type": "markdown",
   "metadata": {},
   "source": [
    "**Introduction to Artificial Neural Networks with Keras**\n",
    "\n",
    "This notebook is inspired from the handson-ml2 GitHub repository by Aurélien Geron\n",
    "\n",
    "https://github.com/ageron/handson-ml2"
   ]
  },
  {
   "cell_type": "markdown",
   "metadata": {},
   "source": [
    "# Setup"
   ]
  },
  {
   "cell_type": "markdown",
   "metadata": {},
   "source": [
    "First, let's import a few common modules, ensure MatplotLib plots figures inline and prepare a function to save the figures. We also check that Python 3.5 or later is installed (although Python 2.x may work, it is deprecated so we strongly recommend you use Python 3 instead), as well as Scikit-Learn ≥0.20 and TensorFlow ≥2.0."
   ]
  },
  {
   "cell_type": "code",
   "execution_count": 1,
   "metadata": {},
   "outputs": [],
   "source": [
    "# Python ≥3.5 is required\n",
    "import sys\n",
    "assert sys.version_info >= (3, 5)\n",
    "\n",
    "# Scikit-Learn ≥0.20 is required\n",
    "import sklearn\n",
    "assert sklearn.__version__ >= \"0.20\"\n",
    "\n",
    "try:\n",
    "    # %tensorflow_version only exists in Colab.\n",
    "    %tensorflow_version 2.x\n",
    "except Exception:\n",
    "    \n",
    "    pass\n"
   ]
  },
  {
   "cell_type": "code",
   "execution_count": 2,
   "metadata": {},
   "outputs": [],
   "source": [
    "# TensorFlow ≥2.0 is required\n",
    "import tensorflow as tf\n",
    "#assert tf.__version__ >= \"2.0\"\n"
   ]
  },
  {
   "cell_type": "code",
   "execution_count": 3,
   "metadata": {},
   "outputs": [],
   "source": [
    "\n",
    "\n",
    "# Common imports\n",
    "import numpy as np\n",
    "import os\n",
    "\n",
    "# to make this notebook's output stable across runs\n",
    "np.random.seed(42)\n",
    "\n",
    "# To plot pretty figures\n",
    "%matplotlib inline\n",
    "import matplotlib as mpl\n",
    "import matplotlib.pyplot as plt\n",
    "mpl.rc('axes', labelsize=14)\n",
    "mpl.rc('xtick', labelsize=12)\n",
    "mpl.rc('ytick', labelsize=12)\n",
    "\n"
   ]
  },
  {
   "cell_type": "code",
   "execution_count": 4,
   "metadata": {},
   "outputs": [],
   "source": [
    "# Where to save the figures\n",
    "PROJECT_ROOT_DIR = \".\"\n",
    "CHAPTER_ID = \"ann\"\n",
    "IMAGES_PATH = os.path.join(PROJECT_ROOT_DIR, \"images\", CHAPTER_ID)\n",
    "os.makedirs(IMAGES_PATH, exist_ok=True)\n",
    "\n",
    "def save_fig(fig_id, tight_layout=True, fig_extension=\"png\", resolution=300):\n",
    "    path = os.path.join(IMAGES_PATH, fig_id + \".\" + fig_extension)\n",
    "    print(\"Saving figure\", fig_id)\n",
    "    if tight_layout:\n",
    "        plt.tight_layout()\n",
    "    plt.savefig(path, format=fig_extension, dpi=resolution)\n",
    "\n",
    "# Ignore useless warnings (see SciPy issue #5998)\n",
    "import warnings\n",
    "warnings.filterwarnings(action=\"ignore\", message=\"^internal gelsd\")"
   ]
  },
  {
   "cell_type": "markdown",
   "metadata": {},
   "source": [
    "# Perceptrons"
   ]
  },
  {
   "cell_type": "markdown",
   "metadata": {},
   "source": [
    "**Note**: we set `max_iter` and `tol` explicitly to avoid warnings about the fact that their default value will change in future versions of Scikit-Learn."
   ]
  },
  {
   "cell_type": "code",
   "execution_count": 5,
   "metadata": {},
   "outputs": [],
   "source": [
    "# Import the libraries\n",
    "import numpy as np\n",
    "from sklearn.datasets import load_iris # contains the Iris dataset\n",
    "from sklearn.linear_model import Perceptron # Perceptron"
   ]
  },
  {
   "cell_type": "code",
   "execution_count": 6,
   "metadata": {},
   "outputs": [],
   "source": [
    "# Import the Iris dataset\n",
    "iris = load_iris() # load dataset\n",
    "X = iris.data[:, (2, 3)]  # consider only the petal length, petal width\n",
    "y = (iris.target == 0).astype(np.int) # predicting only Iris-setosa"
   ]
  },
  {
   "cell_type": "code",
   "execution_count": 7,
   "metadata": {},
   "outputs": [
    {
     "data": {
      "text/plain": [
       "array([[1.4, 0.2],\n",
       "       [1.4, 0.2],\n",
       "       [1.3, 0.2],\n",
       "       [1.5, 0.2],\n",
       "       [1.4, 0.2],\n",
       "       [1.7, 0.4],\n",
       "       [1.4, 0.3],\n",
       "       [1.5, 0.2],\n",
       "       [1.4, 0.2],\n",
       "       [1.5, 0.1],\n",
       "       [1.5, 0.2],\n",
       "       [1.6, 0.2],\n",
       "       [1.4, 0.1],\n",
       "       [1.1, 0.1],\n",
       "       [1.2, 0.2],\n",
       "       [1.5, 0.4],\n",
       "       [1.3, 0.4],\n",
       "       [1.4, 0.3],\n",
       "       [1.7, 0.3],\n",
       "       [1.5, 0.3],\n",
       "       [1.7, 0.2],\n",
       "       [1.5, 0.4],\n",
       "       [1. , 0.2],\n",
       "       [1.7, 0.5],\n",
       "       [1.9, 0.2],\n",
       "       [1.6, 0.2],\n",
       "       [1.6, 0.4],\n",
       "       [1.5, 0.2],\n",
       "       [1.4, 0.2],\n",
       "       [1.6, 0.2],\n",
       "       [1.6, 0.2],\n",
       "       [1.5, 0.4],\n",
       "       [1.5, 0.1],\n",
       "       [1.4, 0.2],\n",
       "       [1.5, 0.2],\n",
       "       [1.2, 0.2],\n",
       "       [1.3, 0.2],\n",
       "       [1.4, 0.1],\n",
       "       [1.3, 0.2],\n",
       "       [1.5, 0.2],\n",
       "       [1.3, 0.3],\n",
       "       [1.3, 0.3],\n",
       "       [1.3, 0.2],\n",
       "       [1.6, 0.6],\n",
       "       [1.9, 0.4],\n",
       "       [1.4, 0.3],\n",
       "       [1.6, 0.2],\n",
       "       [1.4, 0.2],\n",
       "       [1.5, 0.2],\n",
       "       [1.4, 0.2],\n",
       "       [4.7, 1.4],\n",
       "       [4.5, 1.5],\n",
       "       [4.9, 1.5],\n",
       "       [4. , 1.3],\n",
       "       [4.6, 1.5],\n",
       "       [4.5, 1.3],\n",
       "       [4.7, 1.6],\n",
       "       [3.3, 1. ],\n",
       "       [4.6, 1.3],\n",
       "       [3.9, 1.4],\n",
       "       [3.5, 1. ],\n",
       "       [4.2, 1.5],\n",
       "       [4. , 1. ],\n",
       "       [4.7, 1.4],\n",
       "       [3.6, 1.3],\n",
       "       [4.4, 1.4],\n",
       "       [4.5, 1.5],\n",
       "       [4.1, 1. ],\n",
       "       [4.5, 1.5],\n",
       "       [3.9, 1.1],\n",
       "       [4.8, 1.8],\n",
       "       [4. , 1.3],\n",
       "       [4.9, 1.5],\n",
       "       [4.7, 1.2],\n",
       "       [4.3, 1.3],\n",
       "       [4.4, 1.4],\n",
       "       [4.8, 1.4],\n",
       "       [5. , 1.7],\n",
       "       [4.5, 1.5],\n",
       "       [3.5, 1. ],\n",
       "       [3.8, 1.1],\n",
       "       [3.7, 1. ],\n",
       "       [3.9, 1.2],\n",
       "       [5.1, 1.6],\n",
       "       [4.5, 1.5],\n",
       "       [4.5, 1.6],\n",
       "       [4.7, 1.5],\n",
       "       [4.4, 1.3],\n",
       "       [4.1, 1.3],\n",
       "       [4. , 1.3],\n",
       "       [4.4, 1.2],\n",
       "       [4.6, 1.4],\n",
       "       [4. , 1.2],\n",
       "       [3.3, 1. ],\n",
       "       [4.2, 1.3],\n",
       "       [4.2, 1.2],\n",
       "       [4.2, 1.3],\n",
       "       [4.3, 1.3],\n",
       "       [3. , 1.1],\n",
       "       [4.1, 1.3],\n",
       "       [6. , 2.5],\n",
       "       [5.1, 1.9],\n",
       "       [5.9, 2.1],\n",
       "       [5.6, 1.8],\n",
       "       [5.8, 2.2],\n",
       "       [6.6, 2.1],\n",
       "       [4.5, 1.7],\n",
       "       [6.3, 1.8],\n",
       "       [5.8, 1.8],\n",
       "       [6.1, 2.5],\n",
       "       [5.1, 2. ],\n",
       "       [5.3, 1.9],\n",
       "       [5.5, 2.1],\n",
       "       [5. , 2. ],\n",
       "       [5.1, 2.4],\n",
       "       [5.3, 2.3],\n",
       "       [5.5, 1.8],\n",
       "       [6.7, 2.2],\n",
       "       [6.9, 2.3],\n",
       "       [5. , 1.5],\n",
       "       [5.7, 2.3],\n",
       "       [4.9, 2. ],\n",
       "       [6.7, 2. ],\n",
       "       [4.9, 1.8],\n",
       "       [5.7, 2.1],\n",
       "       [6. , 1.8],\n",
       "       [4.8, 1.8],\n",
       "       [4.9, 1.8],\n",
       "       [5.6, 2.1],\n",
       "       [5.8, 1.6],\n",
       "       [6.1, 1.9],\n",
       "       [6.4, 2. ],\n",
       "       [5.6, 2.2],\n",
       "       [5.1, 1.5],\n",
       "       [5.6, 1.4],\n",
       "       [6.1, 2.3],\n",
       "       [5.6, 2.4],\n",
       "       [5.5, 1.8],\n",
       "       [4.8, 1.8],\n",
       "       [5.4, 2.1],\n",
       "       [5.6, 2.4],\n",
       "       [5.1, 2.3],\n",
       "       [5.1, 1.9],\n",
       "       [5.9, 2.3],\n",
       "       [5.7, 2.5],\n",
       "       [5.2, 2.3],\n",
       "       [5. , 1.9],\n",
       "       [5.2, 2. ],\n",
       "       [5.4, 2.3],\n",
       "       [5.1, 1.8]])"
      ]
     },
     "execution_count": 7,
     "metadata": {},
     "output_type": "execute_result"
    }
   ],
   "source": [
    "X"
   ]
  },
  {
   "cell_type": "code",
   "execution_count": 8,
   "metadata": {},
   "outputs": [
    {
     "data": {
      "text/plain": [
       "array([1, 1, 1, 1, 1, 1, 1, 1, 1, 1, 1, 1, 1, 1, 1, 1, 1, 1, 1, 1, 1, 1,\n",
       "       1, 1, 1, 1, 1, 1, 1, 1, 1, 1, 1, 1, 1, 1, 1, 1, 1, 1, 1, 1, 1, 1,\n",
       "       1, 1, 1, 1, 1, 1, 0, 0, 0, 0, 0, 0, 0, 0, 0, 0, 0, 0, 0, 0, 0, 0,\n",
       "       0, 0, 0, 0, 0, 0, 0, 0, 0, 0, 0, 0, 0, 0, 0, 0, 0, 0, 0, 0, 0, 0,\n",
       "       0, 0, 0, 0, 0, 0, 0, 0, 0, 0, 0, 0, 0, 0, 0, 0, 0, 0, 0, 0, 0, 0,\n",
       "       0, 0, 0, 0, 0, 0, 0, 0, 0, 0, 0, 0, 0, 0, 0, 0, 0, 0, 0, 0, 0, 0,\n",
       "       0, 0, 0, 0, 0, 0, 0, 0, 0, 0, 0, 0, 0, 0, 0, 0, 0, 0])"
      ]
     },
     "execution_count": 8,
     "metadata": {},
     "output_type": "execute_result"
    }
   ],
   "source": [
    "y"
   ]
  },
  {
   "cell_type": "code",
   "execution_count": 9,
   "metadata": {},
   "outputs": [
    {
     "data": {
      "text/plain": [
       "Perceptron(alpha=0.0001, class_weight=None, early_stopping=False, eta0=1.0,\n",
       "           fit_intercept=True, max_iter=1000, n_iter_no_change=5, n_jobs=None,\n",
       "           penalty=None, random_state=42, shuffle=True, tol=0.001,\n",
       "           validation_fraction=0.1, verbose=0, warm_start=False)"
      ]
     },
     "execution_count": 9,
     "metadata": {},
     "output_type": "execute_result"
    }
   ],
   "source": [
    "# Training the Perceptron on the Iris dataset\n",
    "per_clf = Perceptron(max_iter=1000, tol=1e-3, random_state=42) # creating model\n",
    "per_clf.fit(X, y) # training model"
   ]
  },
  {
   "cell_type": "code",
   "execution_count": 10,
   "metadata": {},
   "outputs": [],
   "source": [
    "# Predicting using our model\n",
    "y_pred = per_clf.predict([[2, 0.5]])"
   ]
  },
  {
   "cell_type": "code",
   "execution_count": 11,
   "metadata": {},
   "outputs": [
    {
     "data": {
      "text/plain": [
       "array([1])"
      ]
     },
     "execution_count": 11,
     "metadata": {},
     "output_type": "execute_result"
    }
   ],
   "source": [
    "y_pred"
   ]
  },
  {
   "cell_type": "code",
   "execution_count": 12,
   "metadata": {
    "scrolled": true
   },
   "outputs": [
    {
     "data": {
      "image/png": "[encoded data removed]",
      "text/plain": [
       "<Figure size 720x288 with 1 Axes>"
      ]
     },
     "metadata": {
      "needs_background": "light"
     },
     "output_type": "display_data"
    }
   ],
   "source": [
    "# Plotting prediction of Iris-Setosa vs Not Iris-Setosa\n",
    "\n",
    "a = -per_clf.coef_[0][0] / per_clf.coef_[0][1]\n",
    "b = -per_clf.intercept_ / per_clf.coef_[0][1]\n",
    "\n",
    "axes = [0, 5, 0, 2]\n",
    "\n",
    "# meshgrid function is used to create a rectangular grid out of two given\n",
    "# one-dimensional arrays representing the Cartesian indexing or Matrix indexing\n",
    "\n",
    "x0, x1 = np.meshgrid(\n",
    "        np.linspace(axes[0], axes[1], 500).reshape(-1, 1),\n",
    "        np.linspace(axes[2], axes[3], 200).reshape(-1, 1),\n",
    "    )\n",
    "\n",
    "# ravel returns contiguous flattened array\n",
    "# (1D array with all the input-array elements and with the same type as it)\n",
    "\n",
    "X_new = np.c_[x0.ravel(), x1.ravel()] # Translates slice objects to concatenation along the second axis.\n",
    "y_predict = per_clf.predict(X_new)\n",
    "zz = y_predict.reshape(x0.shape)\n",
    "\n",
    "plt.figure(figsize=(10, 4))\n",
    "plt.plot(X[y==0, 0], X[y==0, 1], \"bs\", label=\"Not Iris-Setosa\")\n",
    "plt.plot(X[y==1, 0], X[y==1, 1], \"yo\", label=\"Iris-Setosa\")\n",
    "\n",
    "plt.plot([axes[0], axes[1]], [a * axes[0] + b, a * axes[1] + b], \"k-\", linewidth=3)\n",
    "from matplotlib.colors import ListedColormap\n",
    "custom_cmap = ListedColormap(['#9898ff', '#fafab0'])\n",
    "\n",
    "plt.contourf(x0, x1, zz, cmap=custom_cmap)\n",
    "plt.xlabel(\"Petal length\", fontsize=14)\n",
    "plt.ylabel(\"Petal width\", fontsize=14)\n",
    "plt.legend(loc=\"lower right\", fontsize=14)\n",
    "plt.axis(axes)\n",
    "plt.show()"
   ]
  },
  {
   "cell_type": "markdown",
   "metadata": {},
   "source": [
    "# Activation functions"
   ]
  },
  {
   "cell_type": "code",
   "execution_count": 13,
   "metadata": {},
   "outputs": [],
   "source": [
    "def sigmoid(z):\n",
    "    return 1 / (1 + np.exp(-z))\n",
    "\n",
    "def relu(z):\n",
    "    return np.maximum(0, z)\n",
    "\n",
    "def derivative(f, z, eps=0.000001):\n",
    "    return (f(z + eps) - f(z - eps))/(2 * eps)"
   ]
  },
  {
   "cell_type": "code",
   "execution_count": 14,
   "metadata": {},
   "outputs": [
    {
     "data": {
      "text/plain": [
       "1.0007970779778823"
      ]
     },
     "execution_count": 14,
     "metadata": {},
     "output_type": "execute_result"
    }
   ],
   "source": [
    "sigmoid(2) + relu(-9) + 0.12"
   ]
  },
  {
   "cell_type": "code",
   "execution_count": 15,
   "metadata": {},
   "outputs": [
    {
     "data": {
      "image/png": "[encoded data removed]",
      "text/plain": [
       "<Figure size 792x288 with 2 Axes>"
      ]
     },
     "metadata": {
      "needs_background": "light"
     },
     "output_type": "display_data"
    }
   ],
   "source": [
    "# plotting the Activation functions and their derivatives\n",
    "\n",
    "z = np.linspace(-5, 5, 200)\n",
    "\n",
    "plt.figure(figsize=(11,4))\n",
    "\n",
    "# first plot\n",
    "\n",
    "plt.subplot(121)\n",
    "plt.plot(z, np.sign(z), \"r-\", linewidth=1, label=\"Step\")\n",
    "plt.plot(z, sigmoid(z), \"g--\", linewidth=2, label=\"Sigmoid\")\n",
    "plt.plot(z, np.tanh(z), \"b-\", linewidth=2, label=\"Tanh\")\n",
    "plt.plot(z, relu(z), \"m-.\", linewidth=2, label=\"ReLU\")\n",
    "plt.grid(True)\n",
    "plt.legend(loc=\"center right\", fontsize=14)\n",
    "plt.title(\"Activation functions\", fontsize=14)\n",
    "plt.axis([-5, 5, -1.2, 1.2])\n",
    "\n",
    "# second plot\n",
    "\n",
    "plt.subplot(122)\n",
    "plt.plot(z, derivative(np.sign, z), \"r-\", linewidth=1, label=\"Step\")\n",
    "plt.plot(0, 0, \"ro\", markersize=5)\n",
    "plt.plot(0, 0, \"rx\", markersize=10)\n",
    "plt.plot(z, derivative(sigmoid, z), \"g--\", linewidth=2, label=\"Sigmoid\")\n",
    "plt.plot(z, derivative(np.tanh, z), \"b-\", linewidth=2, label=\"Tanh\")\n",
    "plt.plot(z, derivative(relu, z), \"m-.\", linewidth=2, label=\"ReLU\")\n",
    "plt.grid(True)\n",
    "plt.title(\"Derivatives\", fontsize=14)\n",
    "plt.axis([-5, 5, -0.2, 1.2])\n",
    "\n",
    "plt.show()"
   ]
  },
  {
   "cell_type": "code",
   "execution_count": 16,
   "metadata": {},
   "outputs": [],
   "source": [
    "def heaviside(z):\n",
    "    return (z >= 0).astype(z.dtype)\n",
    "\n",
    "def mlp_xor(x1, x2, activation=heaviside):\n",
    "    a = activation(x1 + x2 - 1.5)\n",
    "    b = activation(x1 + x2 - 0.5)\n",
    "    return activation(-a + b - 0.5)"
   ]
  },
  {
   "cell_type": "code",
   "execution_count": 17,
   "metadata": {
    "scrolled": true
   },
   "outputs": [
    {
     "data": {
      "image/png": "[encoded data removed]",
      "text/plain": [
       "<Figure size 720x288 with 2 Axes>"
      ]
     },
     "metadata": {
      "needs_background": "light"
     },
     "output_type": "display_data"
    }
   ],
   "source": [
    "# plotting the Heaviside and Sigmoid function\n",
    "\n",
    "x1s = np.linspace(-0.2, 1.2, 100)\n",
    "x2s = np.linspace(-0.2, 1.2, 100)\n",
    "x1, x2 = np.meshgrid(x1s, x2s)\n",
    "\n",
    "z1 = mlp_xor(x1, x2, activation=heaviside)\n",
    "z2 = mlp_xor(x1, x2, activation=sigmoid)\n",
    "\n",
    "plt.figure(figsize=(10,4))\n",
    "\n",
    "# first plot\n",
    "\n",
    "plt.subplot(121)\n",
    "plt.contourf(x1, x2, z1)\n",
    "plt.plot([0, 1], [0, 1], \"gs\", markersize=20)\n",
    "plt.plot([0, 1], [1, 0], \"y^\", markersize=20)\n",
    "plt.title(\"Activation function: heaviside\", fontsize=14)\n",
    "plt.grid(True)\n",
    "\n",
    "# second plot\n",
    "\n",
    "plt.subplot(122)\n",
    "plt.contourf(x1, x2, z2)\n",
    "plt.plot([0, 1], [0, 1], \"gs\", markersize=20)\n",
    "plt.plot([0, 1], [1, 0], \"y^\", markersize=20)\n",
    "plt.title(\"Activation function: sigmoid\", fontsize=14)\n",
    "plt.grid(True)"
   ]
  },
  {
   "cell_type": "code",
   "execution_count": 18,
   "metadata": {},
   "outputs": [
    {
     "data": {
      "text/plain": [
       "array([0.52497919, 0.47502081])"
      ]
     },
     "execution_count": 18,
     "metadata": {},
     "output_type": "execute_result"
    }
   ],
   "source": [
    "import numpy as np\n",
    "a = np.exp([0.4, 0.3])\n",
    "a/np.sum(a)"
   ]
  },
  {
   "cell_type": "markdown",
   "metadata": {},
   "source": [
    "# Building an Image Classifier"
   ]
  },
  {
   "cell_type": "markdown",
   "metadata": {},
   "source": [
    "First let's import TensorFlow and Keras."
   ]
  },
  {
   "cell_type": "code",
   "execution_count": 19,
   "metadata": {},
   "outputs": [
    {
     "data": {
      "text/plain": [
       "array([1.4918247 , 1.34985881])"
      ]
     },
     "execution_count": 19,
     "metadata": {},
     "output_type": "execute_result"
    }
   ],
   "source": [
    "np.exp([0.4, 0.3])"
   ]
  },
  {
   "cell_type": "code",
   "execution_count": 10,
   "metadata": {},
   "outputs": [],
   "source": [
    "import tensorflow as tf\n",
    "from tensorflow import keras"
   ]
  },
  {
   "cell_type": "code",
   "execution_count": 11,
   "metadata": {},
   "outputs": [
    {
     "data": {
      "text/plain": [
       "'2.6.0'"
      ]
     },
     "execution_count": 11,
     "metadata": {},
     "output_type": "execute_result"
    }
   ],
   "source": [
    "tf.__version__"
   ]
  },
  {
   "cell_type": "code",
   "execution_count": 12,
   "metadata": {},
   "outputs": [
    {
     "data": {
      "text/plain": [
       "'2.6.0'"
      ]
     },
     "execution_count": 12,
     "metadata": {},
     "output_type": "execute_result"
    }
   ],
   "source": [
    "keras.__version__"
   ]
  },
  {
   "cell_type": "markdown",
   "metadata": {},
   "source": [
    "Let's start by loading the fashion MNIST dataset. Keras has a number of functions to load popular datasets in `keras.datasets`. The dataset is already split for you between a training set and a test set, but it can be useful to split the training set further to have a validation set:\n",
    "\n",
    "\n",
    "For more infor: https://github.com/zalandoresearch/fashion-mnist"
   ]
  },
  {
   "cell_type": "code",
   "execution_count": 29,
   "metadata": {},
   "outputs": [],
   "source": [
    "fashion_mnist = keras.datasets.fashion_mnist # loading the dataset\n",
    "(X_train_full, y_train_full), (X_test, y_test) = fashion_mnist.load_data() # sorting into test and train set"
   ]
  },
  {
   "cell_type": "code",
   "execution_count": 32,
   "metadata": {},
   "outputs": [
    {
     "data": {
      "text/plain": [
       "(60000, 28, 28)"
      ]
     },
     "execution_count": 32,
     "metadata": {},
     "output_type": "execute_result"
    }
   ],
   "source": [
    "X_train_full.shape"
   ]
  },
  {
   "cell_type": "code",
   "execution_count": 33,
   "metadata": {},
   "outputs": [
    {
     "data": {
      "text/plain": [
       "(60000,)"
      ]
     },
     "execution_count": 33,
     "metadata": {},
     "output_type": "execute_result"
    }
   ],
   "source": [
    "y_train_full.shape"
   ]
  },
  {
   "cell_type": "markdown",
   "metadata": {},
   "source": [
    "The training set contains 60,000 grayscale images, each 28x28 pixels:"
   ]
  },
  {
   "cell_type": "code",
   "execution_count": 34,
   "metadata": {},
   "outputs": [
    {
     "data": {
      "text/plain": [
       "(60000, 28, 28)"
      ]
     },
     "execution_count": 34,
     "metadata": {},
     "output_type": "execute_result"
    }
   ],
   "source": [
    "X_train_full.shape # checking the shape of the training set"
   ]
  },
  {
   "cell_type": "code",
   "execution_count": 38,
   "metadata": {},
   "outputs": [
    {
     "data": {
      "text/plain": [
       "<matplotlib.image.AxesImage at 0x7fa710fdc6d8>"
      ]
     },
     "execution_count": 38,
     "metadata": {},
     "output_type": "execute_result"
    },
    {
     "data": {
      "image/png": "[encoded data removed]",
      "text/plain": [
       "<Figure size 432x288 with 1 Axes>"
      ]
     },
     "metadata": {
      "needs_background": "light"
     },
     "output_type": "display_data"
    }
   ],
   "source": [
    "plt.imshow(X_train_full[2])"
   ]
  },
  {
   "cell_type": "code",
   "execution_count": 26,
   "metadata": {
    "scrolled": true
   },
   "outputs": [
    {
     "data": {
      "text/plain": [
       "3"
      ]
     },
     "execution_count": 26,
     "metadata": {},
     "output_type": "execute_result"
    }
   ],
   "source": [
    "X_train_full.ndim"
   ]
  },
  {
   "cell_type": "markdown",
   "metadata": {},
   "source": [
    "Each pixel intensity is represented as a byte (0 to 255):"
   ]
  },
  {
   "cell_type": "code",
   "execution_count": 27,
   "metadata": {},
   "outputs": [
    {
     "data": {
      "text/plain": [
       "dtype('uint8')"
      ]
     },
     "execution_count": 27,
     "metadata": {},
     "output_type": "execute_result"
    }
   ],
   "source": [
    "X_train_full.dtype"
   ]
  },
  {
   "cell_type": "markdown",
   "metadata": {},
   "source": [
    "Let's split the full training set into a validation set and a (smaller) training set. We also scale the pixel intensities down to the 0-1 range and convert them to floats, by dividing by 255."
   ]
  },
  {
   "cell_type": "code",
   "execution_count": 40,
   "metadata": {},
   "outputs": [],
   "source": [
    "X_valid, X_train = X_train_full[:5000] / 255., X_train_full[5000:] / 255.\n",
    "y_valid, y_train = y_train_full[:5000], y_train_full[5000:]\n",
    "X_test = X_test / 255."
   ]
  },
  {
   "cell_type": "markdown",
   "metadata": {},
   "source": [
    "You can plot an image using Matplotlib's `imshow()` function, with a `'binary'`\n",
    " color map:"
   ]
  },
  {
   "cell_type": "code",
   "execution_count": 41,
   "metadata": {},
   "outputs": [
    {
     "data": {
      "text/plain": [
       "4"
      ]
     },
     "execution_count": 41,
     "metadata": {},
     "output_type": "execute_result"
    }
   ],
   "source": [
    "y_train[0]"
   ]
  },
  {
   "cell_type": "code",
   "execution_count": 42,
   "metadata": {},
   "outputs": [
    {
     "data": {
      "image/png": "[encoded data removed]",
      "text/plain": [
       "<Figure size 432x288 with 1 Axes>"
      ]
     },
     "metadata": {
      "needs_background": "light"
     },
     "output_type": "display_data"
    }
   ],
   "source": [
    "plt.imshow(X_train[0], cmap=\"binary\")\n",
    "plt.axis('off')\n",
    "plt.show()"
   ]
  },
  {
   "cell_type": "markdown",
   "metadata": {},
   "source": [
    "The labels are the class IDs (represented as uint8), from 0 to 9:"
   ]
  },
  {
   "cell_type": "code",
   "execution_count": 43,
   "metadata": {},
   "outputs": [],
   "source": [
    "a = np.array([1,2,3])"
   ]
  },
  {
   "cell_type": "code",
   "execution_count": 44,
   "metadata": {},
   "outputs": [],
   "source": [
    "b = a[1:2]"
   ]
  },
  {
   "cell_type": "code",
   "execution_count": 45,
   "metadata": {},
   "outputs": [
    {
     "data": {
      "text/plain": [
       "array([1, 2, 3])"
      ]
     },
     "execution_count": 45,
     "metadata": {},
     "output_type": "execute_result"
    }
   ],
   "source": [
    "a"
   ]
  },
  {
   "cell_type": "code",
   "execution_count": 46,
   "metadata": {},
   "outputs": [],
   "source": [
    "b[0] = 20"
   ]
  },
  {
   "cell_type": "code",
   "execution_count": 47,
   "metadata": {},
   "outputs": [
    {
     "data": {
      "text/plain": [
       "array([ 1, 20,  3])"
      ]
     },
     "execution_count": 47,
     "metadata": {},
     "output_type": "execute_result"
    }
   ],
   "source": [
    "a"
   ]
  },
  {
   "cell_type": "code",
   "execution_count": 48,
   "metadata": {},
   "outputs": [
    {
     "data": {
      "text/plain": [
       "array([4, 0, 7, ..., 3, 0, 5], dtype=uint8)"
      ]
     },
     "execution_count": 48,
     "metadata": {},
     "output_type": "execute_result"
    }
   ],
   "source": [
    "y_train"
   ]
  },
  {
   "cell_type": "markdown",
   "metadata": {},
   "source": [
    "Here are the corresponding class names:"
   ]
  },
  {
   "cell_type": "code",
   "execution_count": 60,
   "metadata": {},
   "outputs": [],
   "source": [
    "class_names = [\"T-shirt/top\", \"Trouser\", \"Pullover\", \"Dress\", \"Coat\",\n",
    "               \"Sandal\", \"Shirt\", \"Sneaker\", \"Bag\", \"Ankle boot\"]"
   ]
  },
  {
   "cell_type": "code",
   "execution_count": 61,
   "metadata": {},
   "outputs": [
    {
     "name": "stdout",
     "output_type": "stream",
     "text": [
      "2\n"
     ]
    },
    {
     "data": {
      "text/plain": [
       "<matplotlib.image.AxesImage at 0x7fa726be67f0>"
      ]
     },
     "execution_count": 61,
     "metadata": {},
     "output_type": "execute_result"
    },
    {
     "data": {
      "image/png": "[encoded data removed]",
      "text/plain": [
       "<Figure size 432x288 with 1 Axes>"
      ]
     },
     "metadata": {
      "needs_background": "light"
     },
     "output_type": "display_data"
    }
   ],
   "source": [
    "i = 5\n",
    "print(y_train_full[i])\n",
    "plt.imshow(X_train_full[i])"
   ]
  },
  {
   "cell_type": "markdown",
   "metadata": {},
   "source": [
    "So the first image in the training set is a coat:"
   ]
  },
  {
   "cell_type": "code",
   "execution_count": 62,
   "metadata": {},
   "outputs": [
    {
     "data": {
      "text/plain": [
       "'Coat'"
      ]
     },
     "execution_count": 62,
     "metadata": {},
     "output_type": "execute_result"
    }
   ],
   "source": [
    "class_names[y_train[0]]"
   ]
  },
  {
   "cell_type": "markdown",
   "metadata": {},
   "source": [
    "The validation set contains 5,000 images, and the test set contains 10,000 images:"
   ]
  },
  {
   "cell_type": "code",
   "execution_count": 63,
   "metadata": {},
   "outputs": [
    {
     "data": {
      "text/plain": [
       "(5000, 28, 28)"
      ]
     },
     "execution_count": 63,
     "metadata": {},
     "output_type": "execute_result"
    }
   ],
   "source": [
    "X_valid.shape"
   ]
  },
  {
   "cell_type": "code",
   "execution_count": 64,
   "metadata": {},
   "outputs": [
    {
     "data": {
      "text/plain": [
       "(10000, 28, 28)"
      ]
     },
     "execution_count": 64,
     "metadata": {},
     "output_type": "execute_result"
    }
   ],
   "source": [
    "X_test.shape"
   ]
  },
  {
   "cell_type": "markdown",
   "metadata": {},
   "source": [
    "Let's take a look at a sample of the images in the dataset:"
   ]
  },
  {
   "cell_type": "code",
   "execution_count": 65,
   "metadata": {},
   "outputs": [
    {
     "data": {
      "image/png": "[encoded data removed]",
      "text/plain": [
       "<Figure size 864x345.6 with 40 Axes>"
      ]
     },
     "metadata": {
      "needs_background": "light"
     },
     "output_type": "display_data"
    }
   ],
   "source": [
    "n_rows = 4\n",
    "n_cols = 10\n",
    "plt.figure(figsize=(n_cols * 1.2, n_rows * 1.2))\n",
    "for row in range(n_rows):\n",
    "    for col in range(n_cols):\n",
    "        index = n_cols * row + col\n",
    "        plt.subplot(n_rows, n_cols, index + 1)\n",
    "        plt.imshow(X_train[index], cmap=\"binary\", interpolation=\"nearest\")\n",
    "        plt.axis('off')\n",
    "        plt.title(class_names[y_train[index]], fontsize=12)\n",
    "plt.subplots_adjust(wspace=0.2, hspace=0.5)\n",
    "plt.show()"
   ]
  },
  {
   "cell_type": "code",
   "execution_count": 66,
   "metadata": {},
   "outputs": [],
   "source": [
    "# Creating a classification MLP with Keras' Sequential API\n",
    "\n",
    "model = keras.models.Sequential()\n",
    "model.add(keras.layers.Flatten(input_shape=[28, 28])) # flatten layer\n",
    "model.add(keras.layers.Dense(300, activation=\"relu\")) # dense layer 1\n",
    "model.add(keras.layers.Dense(100, activation=\"relu\")) # dense layer 2\n",
    "model.add(keras.layers.Dense(10, activation=\"softmax\")) # softmax layer"
   ]
  },
  {
   "cell_type": "code",
   "execution_count": 67,
   "metadata": {
    "scrolled": true
   },
   "outputs": [],
   "source": [
    "# 1. 784\n",
    "#     - 785*300\n",
    "# 2. 300\n",
    "#     - 301 * 100\n",
    "# 3. 100\n",
    "#     - 101*10\n",
    "# 4. 10\n",
    "\n",
    "# 785*300 + 301 * 100 + 101*10"
   ]
  },
  {
   "cell_type": "code",
   "execution_count": 68,
   "metadata": {},
   "outputs": [
    {
     "name": "stdout",
     "output_type": "stream",
     "text": [
      "Model: \"sequential\"\n",
      "_________________________________________________________________\n",
      "Layer (type)                 Output Shape              Param #   \n",
      "=================================================================\n",
      "flatten (Flatten)            (None, 784)               0         \n",
      "_________________________________________________________________\n",
      "dense (Dense)                (None, 300)               235500    \n",
      "_________________________________________________________________\n",
      "dense_1 (Dense)              (None, 100)               30100     \n",
      "_________________________________________________________________\n",
      "dense_2 (Dense)              (None, 10)                1010      \n",
      "=================================================================\n",
      "Total params: 266,610\n",
      "Trainable params: 266,610\n",
      "Non-trainable params: 0\n",
      "_________________________________________________________________\n"
     ]
    }
   ],
   "source": [
    "model.summary()"
   ]
  },
  {
   "cell_type": "code",
   "execution_count": 69,
   "metadata": {},
   "outputs": [
    {
     "data": {
      "text/plain": [
       "[array([[ 0.02840802,  0.01686813,  0.04491008, ..., -0.05240711,\n",
       "          0.03513945,  0.01870586],\n",
       "        [ 0.03770851, -0.0247621 , -0.00019499, ..., -0.01699687,\n",
       "         -0.03141862, -0.0624897 ],\n",
       "        [ 0.02039602,  0.0721727 ,  0.01790177, ..., -0.01658954,\n",
       "          0.00852233,  0.07150561],\n",
       "        ...,\n",
       "        [ 0.03724034, -0.05903575,  0.05291204, ...,  0.04780247,\n",
       "          0.04612859, -0.05955775],\n",
       "        [ 0.03479572,  0.05364679, -0.03972163, ...,  0.0144036 ,\n",
       "          0.05057805,  0.00011113],\n",
       "        [ 0.06341891, -0.03090525, -0.06262738, ..., -0.06923725,\n",
       "          0.0541908 ,  0.06179783]], dtype=float32),\n",
       " array([0., 0., 0., 0., 0., 0., 0., 0., 0., 0., 0., 0., 0., 0., 0., 0., 0.,\n",
       "        0., 0., 0., 0., 0., 0., 0., 0., 0., 0., 0., 0., 0., 0., 0., 0., 0.,\n",
       "        0., 0., 0., 0., 0., 0., 0., 0., 0., 0., 0., 0., 0., 0., 0., 0., 0.,\n",
       "        0., 0., 0., 0., 0., 0., 0., 0., 0., 0., 0., 0., 0., 0., 0., 0., 0.,\n",
       "        0., 0., 0., 0., 0., 0., 0., 0., 0., 0., 0., 0., 0., 0., 0., 0., 0.,\n",
       "        0., 0., 0., 0., 0., 0., 0., 0., 0., 0., 0., 0., 0., 0., 0., 0., 0.,\n",
       "        0., 0., 0., 0., 0., 0., 0., 0., 0., 0., 0., 0., 0., 0., 0., 0., 0.,\n",
       "        0., 0., 0., 0., 0., 0., 0., 0., 0., 0., 0., 0., 0., 0., 0., 0., 0.,\n",
       "        0., 0., 0., 0., 0., 0., 0., 0., 0., 0., 0., 0., 0., 0., 0., 0., 0.,\n",
       "        0., 0., 0., 0., 0., 0., 0., 0., 0., 0., 0., 0., 0., 0., 0., 0., 0.,\n",
       "        0., 0., 0., 0., 0., 0., 0., 0., 0., 0., 0., 0., 0., 0., 0., 0., 0.,\n",
       "        0., 0., 0., 0., 0., 0., 0., 0., 0., 0., 0., 0., 0., 0., 0., 0., 0.,\n",
       "        0., 0., 0., 0., 0., 0., 0., 0., 0., 0., 0., 0., 0., 0., 0., 0., 0.,\n",
       "        0., 0., 0., 0., 0., 0., 0., 0., 0., 0., 0., 0., 0., 0., 0., 0., 0.,\n",
       "        0., 0., 0., 0., 0., 0., 0., 0., 0., 0., 0., 0., 0., 0., 0., 0., 0.,\n",
       "        0., 0., 0., 0., 0., 0., 0., 0., 0., 0., 0., 0., 0., 0., 0., 0., 0.,\n",
       "        0., 0., 0., 0., 0., 0., 0., 0., 0., 0., 0., 0., 0., 0., 0., 0., 0.,\n",
       "        0., 0., 0., 0., 0., 0., 0., 0., 0., 0., 0.], dtype=float32),\n",
       " array([[ 0.00605658,  0.0804218 , -0.04568136, ..., -0.02393721,\n",
       "         -0.05066677, -0.11001062],\n",
       "        [ 0.03436784,  0.08134321,  0.11061608, ...,  0.11265609,\n",
       "         -0.00330725, -0.11396345],\n",
       "        [-0.05254274, -0.05735823, -0.10824996, ..., -0.09175284,\n",
       "          0.07921017, -0.07877558],\n",
       "        ...,\n",
       "        [ 0.03710378, -0.02088862,  0.04522514, ..., -0.06128761,\n",
       "         -0.07236321, -0.00930178],\n",
       "        [-0.02376218, -0.09758194,  0.09590899, ..., -0.02529414,\n",
       "         -0.06969704,  0.0812201 ],\n",
       "        [-0.0701593 , -0.05228323,  0.12158012, ..., -0.11813598,\n",
       "         -0.07099945, -0.01582224]], dtype=float32),\n",
       " array([0., 0., 0., 0., 0., 0., 0., 0., 0., 0., 0., 0., 0., 0., 0., 0., 0.,\n",
       "        0., 0., 0., 0., 0., 0., 0., 0., 0., 0., 0., 0., 0., 0., 0., 0., 0.,\n",
       "        0., 0., 0., 0., 0., 0., 0., 0., 0., 0., 0., 0., 0., 0., 0., 0., 0.,\n",
       "        0., 0., 0., 0., 0., 0., 0., 0., 0., 0., 0., 0., 0., 0., 0., 0., 0.,\n",
       "        0., 0., 0., 0., 0., 0., 0., 0., 0., 0., 0., 0., 0., 0., 0., 0., 0.,\n",
       "        0., 0., 0., 0., 0., 0., 0., 0., 0., 0., 0., 0., 0., 0., 0.],\n",
       "       dtype=float32),\n",
       " array([[-0.1911131 , -0.22479248,  0.13192534,  0.02183837,  0.21100438,\n",
       "          0.05492675,  0.21674222,  0.2180247 ,  0.11071986,  0.18036664],\n",
       "        [-0.1150739 ,  0.2147086 , -0.16872185,  0.00588036, -0.14450505,\n",
       "         -0.18975326, -0.02414748, -0.13251336, -0.04163972,  0.2329678 ],\n",
       "        [-0.01550426,  0.03552878, -0.20435202,  0.07862541, -0.00278029,\n",
       "         -0.09446295,  0.15554339, -0.08554794,  0.129197  ,  0.006477  ],\n",
       "        [ 0.06849927, -0.00305502,  0.0875608 , -0.12374619, -0.21270257,\n",
       "          0.16219306, -0.03500892,  0.14024755,  0.03352749, -0.10769774],\n",
       "        [ 0.20273662,  0.10216603, -0.19413526,  0.21187964, -0.2215885 ,\n",
       "          0.1315637 ,  0.08943325, -0.18848309, -0.17755105,  0.05649221],\n",
       "        [ 0.13657054,  0.06714284, -0.10558955, -0.04949263, -0.14225586,\n",
       "          0.04535156,  0.10437912, -0.14692447,  0.17853028,  0.2244595 ],\n",
       "        [-0.03710181, -0.13625579, -0.00810015, -0.04155046,  0.0182111 ,\n",
       "          0.15567687,  0.06805792,  0.03072798,  0.18209028,  0.03855711],\n",
       "        [-0.02938776,  0.04086012,  0.0474605 ,  0.10269406, -0.08552389,\n",
       "          0.1936427 ,  0.19498739, -0.05836782,  0.20800129, -0.10170741],\n",
       "        [ 0.10758722, -0.19587852,  0.16229352, -0.13077222,  0.13875487,\n",
       "          0.19150627, -0.06854209,  0.16442093,  0.1771763 , -0.20833516],\n",
       "        [-0.22885625,  0.08168942,  0.00350951, -0.1532779 , -0.10033311,\n",
       "          0.16572818, -0.16569912,  0.13999182, -0.01501642,  0.13698918],\n",
       "        [-0.10563409,  0.04072213,  0.18731248,  0.22695348, -0.06190662,\n",
       "          0.11695382,  0.06535369, -0.02284662, -0.05433646,  0.06258526],\n",
       "        [-0.15752436, -0.16327927,  0.13551265, -0.22111292,  0.02713951,\n",
       "         -0.03832626,  0.03923082,  0.01053531,  0.2135407 , -0.14627798],\n",
       "        [-0.1054098 ,  0.11269408, -0.20929563,  0.20252407, -0.19404507,\n",
       "         -0.13887453, -0.05164716, -0.00604451, -0.12254779, -0.13577764],\n",
       "        [-0.09359033, -0.12777382,  0.07021183, -0.12196301, -0.211164  ,\n",
       "          0.05182573, -0.11411923, -0.02680042, -0.11501232,  0.21693727],\n",
       "        [ 0.0714677 , -0.13940291, -0.03090706,  0.0150388 , -0.05729488,\n",
       "          0.07255045, -0.14087945, -0.04752614, -0.09188817,  0.09734067],\n",
       "        [ 0.17588681, -0.14751741, -0.04679787, -0.01989979,  0.08294183,\n",
       "          0.17928588, -0.09630053, -0.05001716,  0.03752649, -0.09540103],\n",
       "        [-0.22148834,  0.20830175,  0.18161955, -0.06004025, -0.20709217,\n",
       "          0.19855061,  0.20569831, -0.08141495, -0.10452522, -0.11579895],\n",
       "        [-0.0267351 , -0.19959517, -0.04629751,  0.08792609,  0.19736373,\n",
       "          0.10061231, -0.2056031 , -0.21837145, -0.09745722, -0.17339686],\n",
       "        [ 0.00035258, -0.00046061,  0.13550374,  0.20625848, -0.14461151,\n",
       "          0.1403954 , -0.1903081 ,  0.12923309, -0.20869187, -0.20249379],\n",
       "        [ 0.06790492, -0.02977426, -0.04970038, -0.1665465 ,  0.09623581,\n",
       "          0.20165336, -0.09692979,  0.13120192,  0.07334498, -0.18268025],\n",
       "        [ 0.01504448, -0.16303015,  0.03334579,  0.05307072, -0.20898731,\n",
       "         -0.10271466,  0.208709  ,  0.15468884, -0.00631736, -0.0889781 ],\n",
       "        [-0.0823732 ,  0.15585643,  0.07685867, -0.22182538, -0.10729466,\n",
       "          0.02500105, -0.22367081,  0.17832136, -0.13918969,  0.04587394],\n",
       "        [ 0.07605299,  0.12662598,  0.22620386, -0.2016154 ,  0.01110105,\n",
       "         -0.07792293, -0.03804418,  0.1234245 ,  0.09808326, -0.14455116],\n",
       "        [-0.10899303,  0.08496287, -0.02702649, -0.11202016, -0.07933047,\n",
       "         -0.11286219, -0.18119758, -0.12608   ,  0.18882447, -0.15305644],\n",
       "        [ 0.07556561, -0.11526512, -0.23177347,  0.08774513,  0.05403996,\n",
       "         -0.03194377,  0.1389468 , -0.21483643,  0.16971079, -0.21804225],\n",
       "        [-0.15595105, -0.20882216,  0.0841023 , -0.0377358 , -0.06301759,\n",
       "         -0.17996171, -0.18106084, -0.13067845,  0.13851354, -0.07149266],\n",
       "        [ 0.0729914 , -0.04486597, -0.23177642, -0.19237469,  0.11888131,\n",
       "         -0.05197151,  0.02215427, -0.0624548 , -0.12177096, -0.0246215 ],\n",
       "        [ 0.19917253,  0.16015977, -0.15039015,  0.03777122, -0.18743715,\n",
       "         -0.18425913,  0.0214192 , -0.1527317 , -0.20181234,  0.23157078],\n",
       "        [ 0.21252722,  0.09993079,  0.18364996, -0.20655316, -0.03073612,\n",
       "         -0.16589522, -0.05525009, -0.22646886,  0.06515613,  0.11277807],\n",
       "        [-0.05255233, -0.20449017,  0.13686761,  0.18489718, -0.01570521,\n",
       "         -0.19089939,  0.16184515, -0.18448654,  0.02061236,  0.05966204],\n",
       "        [-0.14410442,  0.12064645,  0.13226372, -0.17779621,  0.05871978,\n",
       "         -0.22328861,  0.1372261 , -0.14908834,  0.14644381, -0.05657884],\n",
       "        [ 0.12792194, -0.0353487 , -0.17926039, -0.21102051,  0.00113392,\n",
       "         -0.11907509, -0.11668592,  0.17602238,  0.08111119,  0.10340038],\n",
       "        [ 0.16741142, -0.02430996,  0.10269883,  0.21764997, -0.03375712,\n",
       "          0.08926058, -0.1090593 , -0.00804909,  0.06131071, -0.1407552 ],\n",
       "        [ 0.20129478,  0.11378157,  0.10953137,  0.19598538,  0.03358662,\n",
       "          0.02637422, -0.13760798,  0.00429958,  0.06510675, -0.01860249],\n",
       "        [-0.04080476,  0.18297681, -0.05110063, -0.01296887,  0.22165662,\n",
       "          0.05198711,  0.11928394,  0.05603176,  0.04682365, -0.12419644],\n",
       "        [-0.18996386,  0.0032429 , -0.04488952,  0.1274091 , -0.22286202,\n",
       "          0.0987896 ,  0.11250916,  0.06472978, -0.18328056, -0.00066452],\n",
       "        [-0.04305182,  0.1807656 ,  0.06634122, -0.20116514, -0.01303902,\n",
       "         -0.2245124 , -0.16250527, -0.04296485,  0.22120932, -0.04309721],\n",
       "        [ 0.1716168 , -0.1314359 , -0.09656407,  0.03666726, -0.19923975,\n",
       "          0.1476607 ,  0.18042153,  0.11004376, -0.10912929,  0.20201847],\n",
       "        [-0.08650462, -0.11019288, -0.04127532,  0.14125279,  0.04944685,\n",
       "         -0.18040322, -0.17079324, -0.10286133, -0.14514339, -0.00080495],\n",
       "        [-0.12118902, -0.13493896,  0.17682523,  0.21843505, -0.00184755,\n",
       "          0.01275699,  0.02009323, -0.0790534 , -0.06233187,  0.17170042],\n",
       "        [-0.19274287, -0.14932565, -0.01329188,  0.02680811,  0.07317415,\n",
       "         -0.08186431, -0.2310918 ,  0.18007034,  0.21031123,  0.0216848 ],\n",
       "        [-0.19156608,  0.10504988,  0.16439414,  0.20907006,  0.07416669,\n",
       "         -0.21017854,  0.1434972 , -0.04685105, -0.00334141,  0.04432708],\n",
       "        [-0.10418034, -0.1856684 , -0.21703267, -0.06211275,  0.08593252,\n",
       "         -0.07043485,  0.06771508, -0.01862009, -0.14719313, -0.09467432],\n",
       "        [-0.01768874,  0.1299679 , -0.1922072 ,  0.06265572, -0.16399819,\n",
       "         -0.07115756,  0.22266614, -0.10677542,  0.11306798,  0.05938131],\n",
       "        [ 0.22268271,  0.07311061,  0.13500476,  0.07444209,  0.08413371,\n",
       "         -0.06107382,  0.20553768, -0.17487049,  0.2310457 ,  0.17462394],\n",
       "        [ 0.1683192 , -0.19775836,  0.01692379, -0.17866242,  0.09800592,\n",
       "         -0.08616117,  0.0206936 ,  0.02664205,  0.04158893,  0.09317511],\n",
       "        [ 0.12783742, -0.22347671, -0.13489857, -0.09640867,  0.19152287,\n",
       "         -0.06199704, -0.06758006,  0.15658048, -0.0218274 , -0.05939968],\n",
       "        [-0.01937102,  0.22790805,  0.15382898, -0.00064954, -0.08465801,\n",
       "         -0.08824298, -0.10415973,  0.15206468, -0.18968323, -0.1421823 ],\n",
       "        [-0.16191483,  0.2277455 ,  0.04644206, -0.07503407,  0.16913319,\n",
       "         -0.03987585,  0.0245941 , -0.14182955, -0.08768432,  0.19143918],\n",
       "        [ 0.12166679,  0.11106855, -0.1499719 , -0.15852976, -0.09839664,\n",
       "         -0.02552284, -0.07721259,  0.08617795, -0.05485436, -0.14814612],\n",
       "        [ 0.16652372, -0.19581264, -0.14167699, -0.14396733,  0.00184633,\n",
       "         -0.02020705,  0.01591776, -0.17202154,  0.22216934,  0.18959615],\n",
       "        [ 0.06184131,  0.19842455,  0.09397426, -0.21491657,  0.19137871,\n",
       "         -0.08008592,  0.15826178, -0.13212447, -0.03209443,  0.00212674],\n",
       "        [ 0.18319693,  0.15824667, -0.0485972 ,  0.0033384 ,  0.02717149,\n",
       "         -0.03600687,  0.10785222,  0.03870368,  0.18880829, -0.19825706],\n",
       "        [-0.09033602,  0.13931626,  0.11772245,  0.07307065, -0.04953784,\n",
       "          0.13441876,  0.11439112,  0.17817888, -0.12799382, -0.11682925],\n",
       "        [-0.14484867, -0.08919331,  0.01782125,  0.1333637 , -0.02517861,\n",
       "          0.15586519,  0.21070251, -0.22702953,  0.19513354, -0.22460973],\n",
       "        [-0.05311701, -0.05190641,  0.15342942, -0.17417401, -0.15157151,\n",
       "         -0.04671079, -0.0400717 ,  0.06409973,  0.12999952,  0.0913915 ],\n",
       "        [ 0.1368179 , -0.10683861, -0.07750253,  0.11710727, -0.19996083,\n",
       "          0.14151844, -0.05480942,  0.15837362, -0.13974997, -0.03734559],\n",
       "        [-0.17179736,  0.09523571,  0.20396382,  0.07986805,  0.1329298 ,\n",
       "          0.03113323, -0.04598853,  0.20453694,  0.20010644, -0.00275311],\n",
       "        [-0.18219219, -0.1308861 , -0.02190486,  0.17137238, -0.08564723,\n",
       "         -0.09819378, -0.14413448,  0.10758793,  0.10514575,  0.1681808 ],\n",
       "        [-0.15974899,  0.19171599, -0.09136064, -0.20669197, -0.07034531,\n",
       "          0.06104031,  0.10466439, -0.13580036, -0.20105611,  0.04241431],\n",
       "        [ 0.14749297,  0.15979865,  0.11020809, -0.19156924,  0.17495987,\n",
       "          0.15299642, -0.04051766,  0.12567642,  0.21020359, -0.20382693],\n",
       "        [-0.20638204, -0.18991391, -0.12690017, -0.18075457,  0.07470003,\n",
       "          0.17178723, -0.06790814, -0.14066584,  0.23224968, -0.15306196],\n",
       "        [-0.08152387, -0.2304093 ,  0.08768487,  0.17085183, -0.09816784,\n",
       "         -0.1151081 , -0.02533524,  0.19222865,  0.17719802, -0.2266568 ],\n",
       "        [-0.16929203,  0.13889313,  0.11198431, -0.2204166 ,  0.02506095,\n",
       "         -0.10851961, -0.15292336,  0.07679179, -0.07576373,  0.04871663],\n",
       "        [ 0.0403583 ,  0.04379189,  0.11996767,  0.1508115 ,  0.20310423,\n",
       "         -0.15796092,  0.18617788,  0.0273388 ,  0.05230522, -0.03469972],\n",
       "        [ 0.03122306, -0.12356901,  0.23289111, -0.03773747, -0.2006954 ,\n",
       "          0.05385369,  0.18474218, -0.07277669, -0.15924323, -0.21714197],\n",
       "        [-0.14984968, -0.06156784, -0.00621413,  0.08823657, -0.192339  ,\n",
       "         -0.23075493, -0.01639919, -0.11430527,  0.08619362,  0.188032  ],\n",
       "        [-0.2086442 ,  0.22950539, -0.19998896,  0.15637809,  0.14651462,\n",
       "         -0.2069161 ,  0.06082687, -0.04982015,  0.1553505 ,  0.06466269],\n",
       "        [ 0.18386811, -0.14780842, -0.14382973, -0.09357241,  0.00822955,\n",
       "          0.17792886,  0.22491586,  0.05900955, -0.09155436,  0.1342353 ],\n",
       "        [ 0.16497207,  0.10258481, -0.02454138, -0.11652087,  0.02292779,\n",
       "          0.04008156,  0.15295622, -0.14825493, -0.2161897 , -0.21179356],\n",
       "        [-0.00424235, -0.19091693, -0.1366269 ,  0.11430332,  0.04720798,\n",
       "          0.01115751, -0.04043841,  0.11491743,  0.13120288,  0.19526818],\n",
       "        [ 0.01232429,  0.19312412,  0.03365105,  0.1131244 ,  0.04623303,\n",
       "         -0.19246942,  0.20711955,  0.11939216,  0.07402566, -0.23332372],\n",
       "        [-0.20254646,  0.10883513, -0.01763923,  0.08025351,  0.20281452,\n",
       "         -0.1989444 , -0.07188188,  0.09333375,  0.2078191 ,  0.02775431],\n",
       "        [ 0.08487001,  0.02273944, -0.00086682, -0.08433166, -0.09927632,\n",
       "         -0.13508299, -0.08917421,  0.22482273,  0.22250766, -0.13514397],\n",
       "        [-0.15227038,  0.09759319,  0.09158278, -0.20845298,  0.08114845,\n",
       "         -0.14366046,  0.05097044, -0.17941329,  0.00105764, -0.08537716],\n",
       "        [-0.08282401,  0.1153546 , -0.02122921,  0.16102067, -0.02528295,\n",
       "          0.05529463,  0.21089372, -0.03321087, -0.20023814, -0.07626587],\n",
       "        [-0.22775936,  0.05945396, -0.14721271,  0.22729903, -0.13704085,\n",
       "         -0.13091177, -0.18780889,  0.18354473,  0.03151673, -0.00625104],\n",
       "        [-0.14237525,  0.15461332, -0.1899373 , -0.20473729,  0.13318545,\n",
       "         -0.01670505, -0.05062811,  0.03338414, -0.18274261, -0.01726489],\n",
       "        [-0.17761129, -0.17576313, -0.05801368,  0.08439097, -0.21981335,\n",
       "         -0.02556232, -0.08990616,  0.2238363 ,  0.10262764, -0.16384818],\n",
       "        [ 0.11458611,  0.08756068,  0.01437373,  0.17427406, -0.12949386,\n",
       "         -0.10845725,  0.08377105, -0.02882136, -0.03709629, -0.06652649],\n",
       "        [ 0.08319369,  0.06217861,  0.08271307, -0.02648586, -0.0470044 ,\n",
       "          0.12566161, -0.05820696, -0.1394778 ,  0.137966  ,  0.19162264],\n",
       "        [ 0.11612579, -0.07387175,  0.00710398, -0.20073175, -0.19850808,\n",
       "         -0.19459254, -0.10574841,  0.06186467,  0.13206795,  0.1476075 ],\n",
       "        [-0.1808789 ,  0.01759976,  0.01913109, -0.11574043,  0.10603881,\n",
       "          0.01659575, -0.16493276, -0.03029506, -0.18844941, -0.06355348],\n",
       "        [-0.1122033 ,  0.05201378,  0.11055815, -0.10569869,  0.03257698,\n",
       "         -0.16714118,  0.03950807, -0.11528511,  0.21191883,  0.00616406],\n",
       "        [-0.10953254,  0.08139151, -0.19943938, -0.14282304, -0.21634789,\n",
       "          0.11144122,  0.02432215, -0.16188726,  0.09249839, -0.21331   ],\n",
       "        [-0.13024212, -0.04939374,  0.15750492,  0.22901651, -0.22232942,\n",
       "         -0.08619909, -0.11819168, -0.02377751,  0.00540489,  0.1593669 ],\n",
       "        [-0.23286562, -0.13511413,  0.05516469,  0.16735345, -0.05857335,\n",
       "         -0.17334116, -0.15608919, -0.22176814,  0.09853441,  0.04656923],\n",
       "        [ 0.1551053 ,  0.18825218, -0.08488069, -0.16741526,  0.06000695,\n",
       "         -0.12107666,  0.1885621 ,  0.17982823, -0.02034909, -0.10050929],\n",
       "        [-0.14171296,  0.13605738,  0.1770454 , -0.08351719, -0.214253  ,\n",
       "         -0.20435914, -0.17082036,  0.21655452,  0.14299226,  0.2297323 ],\n",
       "        [-0.05679846, -0.14249118,  0.22228792,  0.10796481, -0.01304086,\n",
       "         -0.1445123 ,  0.11980826,  0.05789179,  0.1312922 , -0.12436644],\n",
       "        [-0.01947193, -0.09080103,  0.02555692, -0.04352774, -0.10118444,\n",
       "          0.15822306, -0.2245417 ,  0.1108152 , -0.06172554,  0.07974681],\n",
       "        [-0.10073797, -0.12564167, -0.11378307,  0.14684626, -0.03167982,\n",
       "          0.18844914,  0.02519163, -0.00785926, -0.11124144,  0.07987487],\n",
       "        [-0.13827823, -0.22479036, -0.04233046, -0.07171622, -0.07199363,\n",
       "         -0.20413542, -0.09062223, -0.18008938, -0.04141398,  0.20169228],\n",
       "        [-0.0114377 , -0.03994663, -0.08586572, -0.15722257, -0.20897862,\n",
       "         -0.01248693, -0.06283206,  0.0986301 ,  0.10861334, -0.18657352],\n",
       "        [ 0.054189  ,  0.00843291, -0.12783775, -0.02788539,  0.04607466,\n",
       "         -0.03616221,  0.15712723,  0.02850157, -0.09715314,  0.08650196],\n",
       "        [ 0.16009572, -0.17322184, -0.07799566, -0.01075436, -0.10057972,\n",
       "          0.1652188 ,  0.15463158, -0.1616177 , -0.01275654, -0.157515  ],\n",
       "        [-0.17577694,  0.02026892, -0.12730432, -0.06002955,  0.04753089,\n",
       "          0.10531688, -0.12747148,  0.21094796, -0.07466778, -0.20303094],\n",
       "        [ 0.15852982, -0.01443036,  0.16994348,  0.08724204, -0.00950935,\n",
       "          0.23269784, -0.06497239, -0.13738932,  0.10948843, -0.17019826],\n",
       "        [-0.12368177,  0.19196337, -0.04186712, -0.12086862, -0.11207879,\n",
       "          0.1240516 ,  0.07128918,  0.2109985 ,  0.1660017 ,  0.22642219],\n",
       "        [ 0.04336664, -0.01821572,  0.05014741, -0.1556282 ,  0.02348551,\n",
       "          0.13506311,  0.08890235,  0.14246511, -0.1809586 , -0.1858389 ]],\n",
       "       dtype=float32),\n",
       " array([0., 0., 0., 0., 0., 0., 0., 0., 0., 0.], dtype=float32)]"
      ]
     },
     "execution_count": 69,
     "metadata": {},
     "output_type": "execute_result"
    }
   ],
   "source": [
    "model.get_weights()"
   ]
  },
  {
   "cell_type": "markdown",
   "metadata": {},
   "source": [
    "There are 270,000 weights + biases\n",
    "--\n",
    "What is the default values of weights?\n",
    "    A. All zeros\n",
    "    *B. All random values\n",
    "\n",
    "What is the default value for biases?\n",
    "    *A. Zero\n",
    "    B. Random\n"
   ]
  },
  {
   "cell_type": "code",
   "execution_count": 37,
   "metadata": {},
   "outputs": [],
   "source": [
    "def softmax(arr):\n",
    "    pos = np.exp(arr)\n",
    "    return pos/np.sum(pos)"
   ]
  },
  {
   "cell_type": "code",
   "execution_count": 38,
   "metadata": {},
   "outputs": [
    {
     "data": {
      "text/plain": [
       "array([1.00000000e+00, 3.17997090e-22, 1.18506486e-27])"
      ]
     },
     "execution_count": 38,
     "metadata": {},
     "output_type": "execute_result"
    }
   ],
   "source": [
    "softmax([50,0.5,-12])"
   ]
  },
  {
   "cell_type": "markdown",
   "metadata": {},
   "source": [
    "**Why do we need clear_session?**\n",
    "\n",
    "It is useful when you're creating multiple models in succession, such as during hyperparameter search or cross-validation. Each model you train adds nodes (potentially numbering in the thousands) to the graph. EVentually models will become slower and slower to train, and you may also run out of memory. Clearing the session removes all the nodes left over from previous models, freeing memory and preventing slowdown."
   ]
  },
  {
   "cell_type": "code",
   "execution_count": 39,
   "metadata": {},
   "outputs": [
    {
     "data": {
      "text/plain": [
       "2.302585092994046"
      ]
     },
     "execution_count": 39,
     "metadata": {},
     "output_type": "execute_result"
    }
   ],
   "source": [
    "np.log(10)"
   ]
  },
  {
   "cell_type": "code",
   "execution_count": null,
   "metadata": {},
   "outputs": [],
   "source": []
  },
  {
   "cell_type": "code",
   "execution_count": 44,
   "metadata": {},
   "outputs": [],
   "source": [
    "from numpy import log10\n",
    "def my_cross_entropy(actual, predicted):\n",
    "    return -np.dot(actual, log10(predicted))\n",
    "\n",
    "def binary_cross_entropy(actual, predicted):\n",
    "    return my_cross_entropy([actual, 1-actual], [predicted, 1-predicted])"
   ]
  },
  {
   "cell_type": "code",
   "execution_count": 45,
   "metadata": {
    "scrolled": false
   },
   "outputs": [
    {
     "data": {
      "text/plain": [
       "1.980043648054024"
      ]
     },
     "execution_count": 45,
     "metadata": {},
     "output_type": "execute_result"
    }
   ],
   "source": [
    "binary_cross_entropy(0.01, 0.99)"
   ]
  },
  {
   "cell_type": "code",
   "execution_count": 56,
   "metadata": {},
   "outputs": [
    {
     "data": {
      "text/plain": [
       "2.0"
      ]
     },
     "execution_count": 56,
     "metadata": {},
     "output_type": "execute_result"
    }
   ],
   "source": [
    "binary_cross_entropy(1, 0.01)"
   ]
  },
  {
   "cell_type": "code",
   "execution_count": 55,
   "metadata": {},
   "outputs": [
    {
     "data": {
      "text/plain": [
       "1.0"
      ]
     },
     "execution_count": 55,
     "metadata": {},
     "output_type": "execute_result"
    }
   ],
   "source": [
    "binary_cross_entropy(1, 0.1)"
   ]
  },
  {
   "cell_type": "code",
   "execution_count": 54,
   "metadata": {},
   "outputs": [
    {
     "data": {
      "text/plain": [
       "0.3010299956639812"
      ]
     },
     "execution_count": 54,
     "metadata": {},
     "output_type": "execute_result"
    }
   ],
   "source": [
    "binary_cross_entropy(1, 0.5)"
   ]
  },
  {
   "cell_type": "code",
   "execution_count": 53,
   "metadata": {},
   "outputs": [
    {
     "data": {
      "text/plain": [
       "0.09691001300805639"
      ]
     },
     "execution_count": 53,
     "metadata": {},
     "output_type": "execute_result"
    }
   ],
   "source": [
    "binary_cross_entropy(1, 0.8)"
   ]
  },
  {
   "cell_type": "code",
   "execution_count": 52,
   "metadata": {},
   "outputs": [
    {
     "data": {
      "text/plain": [
       "0.045757490560675115"
      ]
     },
     "execution_count": 52,
     "metadata": {},
     "output_type": "execute_result"
    }
   ],
   "source": [
    "binary_cross_entropy(1, 0.9)"
   ]
  },
  {
   "cell_type": "code",
   "execution_count": 51,
   "metadata": {},
   "outputs": [
    {
     "data": {
      "text/plain": [
       "0.004364805402450088"
      ]
     },
     "execution_count": 51,
     "metadata": {},
     "output_type": "execute_result"
    }
   ],
   "source": [
    "binary_cross_entropy(1, 0.99)"
   ]
  },
  {
   "cell_type": "code",
   "execution_count": 50,
   "metadata": {},
   "outputs": [
    {
     "data": {
      "text/plain": [
       "0.0004345117740176917"
      ]
     },
     "execution_count": 50,
     "metadata": {},
     "output_type": "execute_result"
    }
   ],
   "source": [
    "binary_cross_entropy(1, 0.999)"
   ]
  },
  {
   "cell_type": "code",
   "execution_count": 47,
   "metadata": {},
   "outputs": [
    {
     "data": {
      "text/plain": [
       "0.044277509294401086"
      ]
     },
     "execution_count": 47,
     "metadata": {},
     "output_type": "execute_result"
    }
   ],
   "source": [
    "binary_cross_entropy(0.02, 0.01)"
   ]
  },
  {
   "cell_type": "code",
   "execution_count": 48,
   "metadata": {},
   "outputs": [
    {
     "data": {
      "text/plain": [
       "0.14118174150460758"
      ]
     },
     "execution_count": 48,
     "metadata": {},
     "output_type": "execute_result"
    }
   ],
   "source": [
    "binary_cross_entropy(0.9, 0.9)"
   ]
  },
  {
   "cell_type": "code",
   "execution_count": 45,
   "metadata": {},
   "outputs": [
    {
     "data": {
      "text/plain": [
       "0.9045757490560675"
      ]
     },
     "execution_count": 45,
     "metadata": {},
     "output_type": "execute_result"
    }
   ],
   "source": [
    "binary_cross_entropy(0.9, 0.1)"
   ]
  },
  {
   "cell_type": "code",
   "execution_count": 63,
   "metadata": {},
   "outputs": [],
   "source": [
    "keras.backend.clear_session() # clearing session\n",
    "np.random.seed(42) # generating random see\n",
    "tf.random.set_seed(42) # set.seed function helps reuse same set of random variables"
   ]
  },
  {
   "cell_type": "code",
   "execution_count": 93,
   "metadata": {},
   "outputs": [],
   "source": [
    "# Better way of doing it\n",
    "\n",
    "model = keras.models.Sequential([\n",
    "    keras.layers.Flatten(input_shape=[28, 28]),\n",
    "    keras.layers.Dense(200, activation=\"relu\"),\n",
    "    keras.layers.Dense(200, activation=\"relu\"),\n",
    "    keras.layers.Dense(100, activation=\"relu\"),\n",
    "    keras.layers.Dense(10, activation=\"softmax\")\n",
    "])"
   ]
  },
  {
   "cell_type": "code",
   "execution_count": 100,
   "metadata": {},
   "outputs": [],
   "source": [
    "flattened = model.layers[0](X_train_full[:1])"
   ]
  },
  {
   "cell_type": "code",
   "execution_count": null,
   "metadata": {},
   "outputs": [],
   "source": [
    "flattened"
   ]
  },
  {
   "cell_type": "code",
   "execution_count": 120,
   "metadata": {},
   "outputs": [
    {
     "data": {
      "text/plain": [
       "[]"
      ]
     },
     "execution_count": 120,
     "metadata": {},
     "output_type": "execute_result"
    }
   ],
   "source": [
    "model.layers[0].weights"
   ]
  },
  {
   "cell_type": "code",
   "execution_count": 123,
   "metadata": {},
   "outputs": [],
   "source": [
    "output_1 = model.layers[1](flattened)"
   ]
  },
  {
   "cell_type": "code",
   "execution_count": 124,
   "metadata": {},
   "outputs": [
    {
     "data": {
      "text/plain": [
       "<tf.Tensor: shape=(1, 200), dtype=float32, numpy=\n",
       "array([[  0.       , 131.69257  ,  21.57375  ,  28.908886 ,   0.       ,\n",
       "          0.       ,   0.       ,   0.       ,   0.       ,   0.       ,\n",
       "        279.57065  ,  68.00006  ,   0.       ,   0.       , 153.40721  ,\n",
       "          0.       , 216.69212  ,  61.399487 ,   0.       , 109.203865 ,\n",
       "          0.       ,   0.       ,   0.       ,   0.       ,  16.129665 ,\n",
       "        219.6293   ,   0.       ,   0.       , 302.41638  ,   0.       ,\n",
       "          0.       ,   0.       ,   0.       ,   0.       ,   0.       ,\n",
       "         59.209618 ,   0.       , 164.35172  ,   0.       ,  55.403656 ,\n",
       "        187.3092   , 105.81226  ,  93.35919  ,   0.       ,   0.       ,\n",
       "          0.       ,   0.       , 217.0109   , 426.40067  ,   0.       ,\n",
       "          0.       ,   0.       , 211.91603  , 164.776    , 103.7183   ,\n",
       "        211.94548  ,   0.       ,   0.       ,  91.41054  , 326.40707  ,\n",
       "          0.       , 121.12972  ,   0.       ,  31.633543 ,  89.18798  ,\n",
       "        132.12671  ,   0.       ,   0.       , 245.45871  , 431.1338   ,\n",
       "          0.       ,   0.       ,   0.       ,   0.       ,  44.99891  ,\n",
       "          0.       ,   0.       , 126.55919  ,   0.       ,   0.7442565,\n",
       "         18.334303 ,  30.016142 ,   0.       ,   0.       , 270.22806  ,\n",
       "          0.       ,  82.89179  , 410.65192  ,   0.       , 133.99539  ,\n",
       "        254.54378  ,   0.       ,   0.       ,   0.       ,   0.       ,\n",
       "          0.       ,  54.555874 ,   0.       ,   0.       , 331.3715   ,\n",
       "          0.       ,   0.       ,   0.       ,   0.       ,  87.203    ,\n",
       "          1.2578478,   0.       ,   0.       ,   0.       , 184.33421  ,\n",
       "          0.       ,   0.       ,   0.       ,   0.       ,   0.       ,\n",
       "          0.       ,   0.       ,  43.611454 , 137.6518   ,  51.993385 ,\n",
       "        191.6828   ,   0.       , 149.18839  , 203.55367  ,   0.       ,\n",
       "          0.       ,   5.889382 ,  91.233444 ,  95.60291  ,  33.970745 ,\n",
       "        128.84737  , 246.00064  , 223.66542  ,   0.       ,   0.       ,\n",
       "          0.       , 211.08754  ,   0.       ,   0.       ,   0.       ,\n",
       "        167.43263  ,   0.       ,   0.       ,  66.58991  , 243.67055  ,\n",
       "        110.894745 , 287.93753  ,   6.834935 , 151.46695  ,   0.       ,\n",
       "          0.       ,   0.       , 137.0791   ,   0.       , 172.8101   ,\n",
       "        365.4379   ,   0.       ,   0.       , 231.21677  ,   0.       ,\n",
       "          0.       ,  12.003609 ,   0.       ,  81.49997  ,   0.       ,\n",
       "          0.       ,  77.4432   ,   0.       , 250.27011  ,   0.       ,\n",
       "        431.16425  ,   0.       , 215.35695  ,   0.       ,   0.       ,\n",
       "         58.456535 , 162.02011  ,   0.       ,   0.       ,   0.       ,\n",
       "          0.       ,  91.91286  ,   0.       ,   0.       ,  99.09192  ,\n",
       "         65.265114 ,   0.       ,  65.40836  ,   0.       ,   0.       ,\n",
       "          0.       ,  90.37804  ,   8.76693  ,   5.908006 ,  63.372566 ,\n",
       "        151.20377  ,  45.681046 , 202.96016  ,   0.       ,   0.       ]],\n",
       "      dtype=float32)>"
      ]
     },
     "execution_count": 124,
     "metadata": {},
     "output_type": "execute_result"
    }
   ],
   "source": [
    "output_1"
   ]
  },
  {
   "cell_type": "code",
   "execution_count": 103,
   "metadata": {},
   "outputs": [],
   "source": [
    "output_2 = model.layers[2](output_1)"
   ]
  },
  {
   "cell_type": "code",
   "execution_count": 105,
   "metadata": {},
   "outputs": [],
   "source": [
    "output_3 = model.layers[3](output_2)"
   ]
  },
  {
   "cell_type": "code",
   "execution_count": 109,
   "metadata": {},
   "outputs": [],
   "source": [
    "output_probs = model.layers[4](output_3)"
   ]
  },
  {
   "cell_type": "code",
   "execution_count": 111,
   "metadata": {},
   "outputs": [
    {
     "data": {
      "text/plain": [
       "<tf.Tensor: shape=(1, 10), dtype=float32, numpy=\n",
       "array([[9.9899524e-01, 0.0000000e+00, 0.0000000e+00, 0.0000000e+00,\n",
       "        1.0047150e-03, 0.0000000e+00, 5.5712906e-22, 3.7676845e-21,\n",
       "        0.0000000e+00, 0.0000000e+00]], dtype=float32)>"
      ]
     },
     "execution_count": 111,
     "metadata": {},
     "output_type": "execute_result"
    }
   ],
   "source": [
    "output_probs"
   ]
  },
  {
   "cell_type": "code",
   "execution_count": 114,
   "metadata": {},
   "outputs": [
    {
     "data": {
      "text/plain": [
       "<tf.Tensor: shape=(1, 10), dtype=float32, numpy=\n",
       "array([[9.9899524e-01, 0.0000000e+00, 0.0000000e+00, 0.0000000e+00,\n",
       "        1.0047150e-03, 0.0000000e+00, 5.5712906e-22, 3.7676845e-21,\n",
       "        0.0000000e+00, 0.0000000e+00]], dtype=float32)>"
      ]
     },
     "execution_count": 114,
     "metadata": {},
     "output_type": "execute_result"
    }
   ],
   "source": [
    "model(X_train_full[:1])"
   ]
  },
  {
   "cell_type": "code",
   "execution_count": 122,
   "metadata": {},
   "outputs": [
    {
     "data": {
      "text/plain": [
       "array([9.35719813e-14, 2.06106005e-09, 4.53978686e-05, 9.99954600e-01])"
      ]
     },
     "execution_count": 122,
     "metadata": {},
     "output_type": "execute_result"
    }
   ],
   "source": [
    "vals = [10, 20, 30, 40]\n",
    "def __softmax(x):\n",
    "    exps = np.exp(x)\n",
    "    return exps/np.sum(exps)\n",
    "__softmax(vals)"
   ]
  },
  {
   "cell_type": "code",
   "execution_count": 91,
   "metadata": {},
   "outputs": [
    {
     "data": {
      "text/plain": [
       "[<keras.layers.core.Flatten at 0x7fa7268c17f0>,\n",
       " <keras.layers.core.Dense at 0x7fa726695588>,\n",
       " <keras.layers.core.Dense at 0x7fa726695898>,\n",
       " <keras.layers.core.Dense at 0x7fa726695c18>,\n",
       " <keras.layers.core.Dense at 0x7fa726695f28>]"
      ]
     },
     "execution_count": 91,
     "metadata": {},
     "output_type": "execute_result"
    }
   ],
   "source": [
    "model.layers # viewing the layers"
   ]
  },
  {
   "cell_type": "code",
   "execution_count": 125,
   "metadata": {},
   "outputs": [
    {
     "name": "stdout",
     "output_type": "stream",
     "text": [
      "Help on method compile in module keras.engine.training:\n",
      "\n",
      "compile(optimizer='rmsprop', loss=None, metrics=None, loss_weights=None, weighted_metrics=None, run_eagerly=None, steps_per_execution=None, **kwargs) method of keras.engine.sequential.Sequential instance\n",
      "    Configures the model for training.\n",
      "    \n",
      "    Example:\n",
      "    \n",
      "    ```python\n",
      "    model.compile(optimizer=tf.keras.optimizer.Adam(learning_rate=1e-3),\n",
      "                  loss=tf.keras.losses.BinaryCrossentropy(),\n",
      "                  metrics=[tf.keras.metrics.BinaryAccuracy(),\n",
      "                           tf.keras.metrics.FalseNegatives()])\n",
      "    ```\n",
      "    \n",
      "    Args:\n",
      "        optimizer: String (name of optimizer) or optimizer instance. See\n",
      "          `tf.keras.optimizers`.\n",
      "        loss: Loss function. Maybe be a string (name of loss function), or\n",
      "          a `tf.keras.losses.Loss` instance. See `tf.keras.losses`. A loss\n",
      "          function is any callable with the signature `loss = fn(y_true,\n",
      "          y_pred)`, where `y_true` are the ground truth values, and\n",
      "          `y_pred` are the model's predictions.\n",
      "          `y_true` should have shape\n",
      "          `(batch_size, d0, .. dN)` (except in the case of\n",
      "          sparse loss functions such as\n",
      "          sparse categorical crossentropy which expects integer arrays of shape\n",
      "          `(batch_size, d0, .. dN-1)`).\n",
      "          `y_pred` should have shape `(batch_size, d0, .. dN)`.\n",
      "          The loss function should return a float tensor.\n",
      "          If a custom `Loss` instance is\n",
      "          used and reduction is set to `None`, return value has shape\n",
      "          `(batch_size, d0, .. dN-1)` i.e. per-sample or per-timestep loss\n",
      "          values; otherwise, it is a scalar. If the model has multiple outputs,\n",
      "          you can use a different loss on each output by passing a dictionary\n",
      "          or a list of losses. The loss value that will be minimized by the\n",
      "          model will then be the sum of all individual losses, unless\n",
      "          `loss_weights` is specified.\n",
      "        metrics: List of metrics to be evaluated by the model during training\n",
      "          and testing. Each of this can be a string (name of a built-in\n",
      "          function), function or a `tf.keras.metrics.Metric` instance. See\n",
      "          `tf.keras.metrics`. Typically you will use `metrics=['accuracy']`. A\n",
      "          function is any callable with the signature `result = fn(y_true,\n",
      "          y_pred)`. To specify different metrics for different outputs of a\n",
      "          multi-output model, you could also pass a dictionary, such as\n",
      "          `metrics={'output_a': 'accuracy', 'output_b': ['accuracy', 'mse']}`.\n",
      "          You can also pass a list to specify a metric or a list of metrics\n",
      "          for each output, such as `metrics=[['accuracy'], ['accuracy', 'mse']]`\n",
      "          or `metrics=['accuracy', ['accuracy', 'mse']]`. When you pass the\n",
      "          strings 'accuracy' or 'acc', we convert this to one of\n",
      "          `tf.keras.metrics.BinaryAccuracy`,\n",
      "          `tf.keras.metrics.CategoricalAccuracy`,\n",
      "          `tf.keras.metrics.SparseCategoricalAccuracy` based on the loss\n",
      "          function used and the model output shape. We do a similar\n",
      "          conversion for the strings 'crossentropy' and 'ce' as well.\n",
      "        loss_weights: Optional list or dictionary specifying scalar coefficients\n",
      "          (Python floats) to weight the loss contributions of different model\n",
      "          outputs. The loss value that will be minimized by the model will then\n",
      "          be the *weighted sum* of all individual losses, weighted by the\n",
      "          `loss_weights` coefficients.\n",
      "            If a list, it is expected to have a 1:1 mapping to the model's\n",
      "              outputs. If a dict, it is expected to map output names (strings)\n",
      "              to scalar coefficients.\n",
      "        weighted_metrics: List of metrics to be evaluated and weighted by\n",
      "          `sample_weight` or `class_weight` during training and testing.\n",
      "        run_eagerly: Bool. Defaults to `False`. If `True`, this `Model`'s\n",
      "          logic will not be wrapped in a `tf.function`. Recommended to leave\n",
      "          this as `None` unless your `Model` cannot be run inside a\n",
      "          `tf.function`. `run_eagerly=True` is not supported when using\n",
      "          `tf.distribute.experimental.ParameterServerStrategy`.\n",
      "        steps_per_execution: Int. Defaults to 1. The number of batches to\n",
      "          run during each `tf.function` call. Running multiple batches\n",
      "          inside a single `tf.function` call can greatly improve performance\n",
      "          on TPUs or small models with a large Python overhead.\n",
      "          At most, one full epoch will be run each\n",
      "          execution. If a number larger than the size of the epoch is passed,\n",
      "          the execution will be truncated to the size of the epoch.\n",
      "          Note that if `steps_per_execution` is set to `N`,\n",
      "          `Callback.on_batch_begin` and `Callback.on_batch_end` methods\n",
      "          will only be called every `N` batches\n",
      "          (i.e. before/after each `tf.function` execution).\n",
      "        **kwargs: Arguments supported for backwards compatibility only.\n",
      "    \n",
      "    Raises:\n",
      "        ValueError: In case of invalid arguments for\n",
      "            `optimizer`, `loss` or `metrics`.\n",
      "\n"
     ]
    }
   ],
   "source": [
    "help(model.compile)"
   ]
  },
  {
   "cell_type": "code",
   "execution_count": 92,
   "metadata": {
    "scrolled": false
   },
   "outputs": [
    {
     "name": "stdout",
     "output_type": "stream",
     "text": [
      "Model: \"sequential_2\"\n",
      "_________________________________________________________________\n",
      "Layer (type)                 Output Shape              Param #   \n",
      "=================================================================\n",
      "flatten_2 (Flatten)          (None, 784)               0         \n",
      "_________________________________________________________________\n",
      "dense_7 (Dense)              (None, 200)               157000    \n",
      "_________________________________________________________________\n",
      "dense_8 (Dense)              (None, 200)               40200     \n",
      "_________________________________________________________________\n",
      "dense_9 (Dense)              (None, 100)               20100     \n",
      "_________________________________________________________________\n",
      "dense_10 (Dense)             (None, 10)                1010      \n",
      "=================================================================\n",
      "Total params: 218,310\n",
      "Trainable params: 218,310\n",
      "Non-trainable params: 0\n",
      "_________________________________________________________________\n"
     ]
    }
   ],
   "source": [
    "model.summary() # viewing the summary of the model"
   ]
  },
  {
   "cell_type": "code",
   "execution_count": 77,
   "metadata": {
    "scrolled": true
   },
   "outputs": [
    {
     "data": {
      "image/png": "[encoded data removed]",
      "text/plain": [
       "<IPython.core.display.Image object>"
      ]
     },
     "execution_count": 77,
     "metadata": {},
     "output_type": "execute_result"
    }
   ],
   "source": [
    "keras.utils.plot_model(model, \"my_fashion_mnist_model.png\", show_shapes=True)"
   ]
  },
  {
   "cell_type": "code",
   "execution_count": 78,
   "metadata": {},
   "outputs": [
    {
     "data": {
      "text/plain": [
       "'dense_3'"
      ]
     },
     "execution_count": 78,
     "metadata": {},
     "output_type": "execute_result"
    }
   ],
   "source": [
    "hidden1 = model.layers[1] # first layer\n",
    "hidden1.name"
   ]
  },
  {
   "cell_type": "code",
   "execution_count": 79,
   "metadata": {},
   "outputs": [
    {
     "data": {
      "text/plain": [
       "True"
      ]
     },
     "execution_count": 79,
     "metadata": {},
     "output_type": "execute_result"
    }
   ],
   "source": [
    "model.get_layer(hidden1.name) is hidden1 # checking if the layer is hidden"
   ]
  },
  {
   "cell_type": "code",
   "execution_count": 80,
   "metadata": {},
   "outputs": [],
   "source": [
    "weights, biases = hidden1.get_weights() # getting the weights and biases"
   ]
  },
  {
   "cell_type": "code",
   "execution_count": 81,
   "metadata": {},
   "outputs": [
    {
     "data": {
      "text/plain": [
       "array([[ 0.03888108, -0.00939855,  0.03317763, ...,  0.02930794,\n",
       "         0.03172725,  0.04778075],\n",
       "       [ 0.03790224, -0.00738622,  0.06263085, ...,  0.03278365,\n",
       "         0.00670519,  0.04480663],\n",
       "       [ 0.03700666, -0.0626063 , -0.0040013 , ...,  0.03454743,\n",
       "        -0.05895277,  0.07011044],\n",
       "       ...,\n",
       "       [-0.02991851, -0.07511713, -0.07048063, ..., -0.07770621,\n",
       "         0.0569725 , -0.02674051],\n",
       "       [-0.02172321,  0.05363187, -0.00475102, ...,  0.00468348,\n",
       "         0.05635796, -0.02266899],\n",
       "       [-0.06665361, -0.04101135, -0.04962211, ...,  0.02720671,\n",
       "        -0.06356603, -0.0680234 ]], dtype=float32)"
      ]
     },
     "execution_count": 81,
     "metadata": {},
     "output_type": "execute_result"
    }
   ],
   "source": [
    "weights # checking the weights"
   ]
  },
  {
   "cell_type": "code",
   "execution_count": 82,
   "metadata": {},
   "outputs": [
    {
     "data": {
      "text/plain": [
       "(784, 200)"
      ]
     },
     "execution_count": 82,
     "metadata": {},
     "output_type": "execute_result"
    }
   ],
   "source": [
    "weights.shape"
   ]
  },
  {
   "cell_type": "code",
   "execution_count": 83,
   "metadata": {
    "scrolled": true
   },
   "outputs": [
    {
     "data": {
      "text/plain": [
       "array([0., 0., 0., 0., 0., 0., 0., 0., 0., 0., 0., 0., 0., 0., 0., 0., 0.,\n",
       "       0., 0., 0., 0., 0., 0., 0., 0., 0., 0., 0., 0., 0., 0., 0., 0., 0.,\n",
       "       0., 0., 0., 0., 0., 0., 0., 0., 0., 0., 0., 0., 0., 0., 0., 0., 0.,\n",
       "       0., 0., 0., 0., 0., 0., 0., 0., 0., 0., 0., 0., 0., 0., 0., 0., 0.,\n",
       "       0., 0., 0., 0., 0., 0., 0., 0., 0., 0., 0., 0., 0., 0., 0., 0., 0.,\n",
       "       0., 0., 0., 0., 0., 0., 0., 0., 0., 0., 0., 0., 0., 0., 0., 0., 0.,\n",
       "       0., 0., 0., 0., 0., 0., 0., 0., 0., 0., 0., 0., 0., 0., 0., 0., 0.,\n",
       "       0., 0., 0., 0., 0., 0., 0., 0., 0., 0., 0., 0., 0., 0., 0., 0., 0.,\n",
       "       0., 0., 0., 0., 0., 0., 0., 0., 0., 0., 0., 0., 0., 0., 0., 0., 0.,\n",
       "       0., 0., 0., 0., 0., 0., 0., 0., 0., 0., 0., 0., 0., 0., 0., 0., 0.,\n",
       "       0., 0., 0., 0., 0., 0., 0., 0., 0., 0., 0., 0., 0., 0., 0., 0., 0.,\n",
       "       0., 0., 0., 0., 0., 0., 0., 0., 0., 0., 0., 0., 0.], dtype=float32)"
      ]
     },
     "execution_count": 83,
     "metadata": {},
     "output_type": "execute_result"
    }
   ],
   "source": [
    "biases # checking the biases"
   ]
  },
  {
   "cell_type": "code",
   "execution_count": 84,
   "metadata": {},
   "outputs": [
    {
     "data": {
      "text/plain": [
       "(200,)"
      ]
     },
     "execution_count": 84,
     "metadata": {},
     "output_type": "execute_result"
    }
   ],
   "source": [
    "biases.shape"
   ]
  },
  {
   "cell_type": "code",
   "execution_count": 85,
   "metadata": {},
   "outputs": [],
   "source": [
    "res = tf.keras.utils.to_categorical([1, 2, 0, 4])"
   ]
  },
  {
   "cell_type": "code",
   "execution_count": 86,
   "metadata": {},
   "outputs": [
    {
     "data": {
      "text/plain": [
       "array([[0., 1., 0., 0., 0.],\n",
       "       [0., 0., 1., 0., 0.],\n",
       "       [1., 0., 0., 0., 0.],\n",
       "       [0., 0., 0., 0., 1.]], dtype=float32)"
      ]
     },
     "execution_count": 86,
     "metadata": {},
     "output_type": "execute_result"
    }
   ],
   "source": [
    "res"
   ]
  },
  {
   "cell_type": "code",
   "execution_count": 87,
   "metadata": {},
   "outputs": [
    {
     "data": {
      "text/plain": [
       "array([1, 2, 0, 4])"
      ]
     },
     "execution_count": 87,
     "metadata": {},
     "output_type": "execute_result"
    }
   ],
   "source": [
    "np.argmax(res, axis=1)"
   ]
  },
  {
   "cell_type": "code",
   "execution_count": null,
   "metadata": {},
   "outputs": [],
   "source": []
  },
  {
   "cell_type": "code",
   "execution_count": 88,
   "metadata": {},
   "outputs": [],
   "source": [
    "sgd = keras.optimizers.SGD(learning_rate=0.01)\n",
    "# Compiling the model we created\n",
    "\n",
    "model.compile(loss=\"sparse_categorical_crossentropy\",\n",
    "              optimizer=sgd,\n",
    "              metrics=[\"accuracy\"])"
   ]
  },
  {
   "cell_type": "markdown",
   "metadata": {},
   "source": [
    "This is equivalent to:"
   ]
  },
  {
   "cell_type": "markdown",
   "metadata": {},
   "source": [
    "```python\n",
    "model.compile(loss=keras.losses.sparse_categorical_crossentropy,\n",
    "              optimizer=keras.optimizers.SGD(),\n",
    "              metrics=[keras.metrics.sparse_categorical_accuracy])\n",
    "```"
   ]
  },
  {
   "cell_type": "code",
   "execution_count": 89,
   "metadata": {},
   "outputs": [
    {
     "data": {
      "text/plain": [
       "(55000, 28, 28)"
      ]
     },
     "execution_count": 89,
     "metadata": {},
     "output_type": "execute_result"
    }
   ],
   "source": [
    "X_train.shape"
   ]
  },
  {
   "cell_type": "markdown",
   "metadata": {},
   "source": [
    "1. Increasing number of layers gives the ability to \n",
    "handle complex problems.\n",
    "2. When the model is underrfitting, increase number of layers.\n",
    "3. If it is over fitting, stop increasing layers, \n",
    "decrease layer or regularize."
   ]
  },
  {
   "cell_type": "code",
   "execution_count": 72,
   "metadata": {
    "scrolled": true
   },
   "outputs": [
    {
     "name": "stdout",
     "output_type": "stream",
     "text": [
      "Epoch 1/30\n",
      "1719/1719 [==============================] - 5s 3ms/step - loss: 0.7193 - accuracy: 0.7620 - val_loss: 0.5138 - val_accuracy: 0.8278\n",
      "Epoch 2/30\n",
      "1719/1719 [==============================] - 4s 3ms/step - loss: 0.4888 - accuracy: 0.8305 - val_loss: 0.4629 - val_accuracy: 0.8408\n",
      "Epoch 3/30\n",
      "1719/1719 [==============================] - 4s 3ms/step - loss: 0.4464 - accuracy: 0.8448 - val_loss: 0.4153 - val_accuracy: 0.8588\n",
      "Epoch 4/30\n",
      "1719/1719 [==============================] - 4s 3ms/step - loss: 0.4205 - accuracy: 0.8535 - val_loss: 0.4216 - val_accuracy: 0.8538\n",
      "Epoch 5/30\n",
      "1719/1719 [==============================] - 4s 3ms/step - loss: 0.4008 - accuracy: 0.8595 - val_loss: 0.3955 - val_accuracy: 0.8634\n",
      "Epoch 6/30\n",
      "1719/1719 [==============================] - 6s 3ms/step - loss: 0.3839 - accuracy: 0.8650 - val_loss: 0.3794 - val_accuracy: 0.8672\n",
      "Epoch 7/30\n",
      "1719/1719 [==============================] - 4s 3ms/step - loss: 0.3713 - accuracy: 0.8682 - val_loss: 0.3884 - val_accuracy: 0.8688\n",
      "Epoch 8/30\n",
      "1719/1719 [==============================] - 5s 3ms/step - loss: 0.3590 - accuracy: 0.8730 - val_loss: 0.3681 - val_accuracy: 0.8710\n",
      "Epoch 9/30\n",
      "1719/1719 [==============================] - 4s 3ms/step - loss: 0.3483 - accuracy: 0.8767 - val_loss: 0.3581 - val_accuracy: 0.8736\n",
      "Epoch 10/30\n",
      "1719/1719 [==============================] - 4s 3ms/step - loss: 0.3395 - accuracy: 0.8792 - val_loss: 0.3447 - val_accuracy: 0.8784\n",
      "Epoch 11/30\n",
      "1719/1719 [==============================] - 4s 2ms/step - loss: 0.3302 - accuracy: 0.8813 - val_loss: 0.3426 - val_accuracy: 0.8790\n",
      "Epoch 12/30\n",
      "1719/1719 [==============================] - 4s 2ms/step - loss: 0.3220 - accuracy: 0.8846 - val_loss: 0.3339 - val_accuracy: 0.8810\n",
      "Epoch 13/30\n",
      "1719/1719 [==============================] - 4s 2ms/step - loss: 0.3148 - accuracy: 0.8884 - val_loss: 0.3288 - val_accuracy: 0.8842\n",
      "Epoch 14/30\n",
      "1719/1719 [==============================] - 4s 2ms/step - loss: 0.3076 - accuracy: 0.8904 - val_loss: 0.3532 - val_accuracy: 0.8698\n",
      "Epoch 15/30\n",
      "1719/1719 [==============================] - 4s 2ms/step - loss: 0.3017 - accuracy: 0.8925 - val_loss: 0.3211 - val_accuracy: 0.8844\n",
      "Epoch 16/30\n",
      "1719/1719 [==============================] - 4s 2ms/step - loss: 0.2955 - accuracy: 0.8944 - val_loss: 0.3363 - val_accuracy: 0.8804\n",
      "Epoch 17/30\n",
      "1719/1719 [==============================] - 4s 2ms/step - loss: 0.2894 - accuracy: 0.8950 - val_loss: 0.3356 - val_accuracy: 0.8802\n",
      "Epoch 18/30\n",
      "1719/1719 [==============================] - 4s 2ms/step - loss: 0.2845 - accuracy: 0.8976 - val_loss: 0.3287 - val_accuracy: 0.8826\n",
      "Epoch 19/30\n",
      "1719/1719 [==============================] - 4s 2ms/step - loss: 0.2784 - accuracy: 0.9007 - val_loss: 0.3312 - val_accuracy: 0.8810\n",
      "Epoch 20/30\n",
      "1719/1719 [==============================] - 4s 2ms/step - loss: 0.2727 - accuracy: 0.9027 - val_loss: 0.3135 - val_accuracy: 0.8860\n",
      "Epoch 21/30\n",
      "1719/1719 [==============================] - 4s 2ms/step - loss: 0.2690 - accuracy: 0.9028 - val_loss: 0.3117 - val_accuracy: 0.8870\n",
      "Epoch 22/30\n",
      "1719/1719 [==============================] - 4s 2ms/step - loss: 0.2647 - accuracy: 0.9048 - val_loss: 0.3198 - val_accuracy: 0.8840\n",
      "Epoch 23/30\n",
      "1719/1719 [==============================] - 4s 2ms/step - loss: 0.2600 - accuracy: 0.9050 - val_loss: 0.3096 - val_accuracy: 0.8870\n",
      "Epoch 24/30\n",
      "1719/1719 [==============================] - 4s 2ms/step - loss: 0.2557 - accuracy: 0.9083 - val_loss: 0.3175 - val_accuracy: 0.8842\n",
      "Epoch 25/30\n",
      "1719/1719 [==============================] - 4s 2ms/step - loss: 0.2512 - accuracy: 0.9099 - val_loss: 0.3036 - val_accuracy: 0.8906\n",
      "Epoch 26/30\n",
      "1719/1719 [==============================] - 4s 2ms/step - loss: 0.2472 - accuracy: 0.9117 - val_loss: 0.2960 - val_accuracy: 0.8926\n",
      "Epoch 27/30\n",
      "1719/1719 [==============================] - 4s 2ms/step - loss: 0.2428 - accuracy: 0.9132 - val_loss: 0.3108 - val_accuracy: 0.8878\n",
      "Epoch 28/30\n",
      "1719/1719 [==============================] - 4s 2ms/step - loss: 0.2395 - accuracy: 0.9141 - val_loss: 0.3326 - val_accuracy: 0.8826\n",
      "Epoch 29/30\n",
      "1719/1719 [==============================] - 4s 2ms/step - loss: 0.2354 - accuracy: 0.9148 - val_loss: 0.2904 - val_accuracy: 0.8956\n",
      "Epoch 30/30\n",
      "1719/1719 [==============================] - 4s 2ms/step - loss: 0.2317 - accuracy: 0.9170 - val_loss: 0.2972 - val_accuracy: 0.8954\n"
     ]
    }
   ],
   "source": [
    "history = model.fit(X_train, y_train, epochs=30,\n",
    "                    validation_data=(X_valid, y_valid)) # fitting the model to training data"
   ]
  },
  {
   "cell_type": "code",
   "execution_count": 63,
   "metadata": {},
   "outputs": [
    {
     "data": {
      "text/plain": [
       "{'batch_size': 32,\n",
       " 'epochs': 30,\n",
       " 'steps': 1719,\n",
       " 'samples': 55000,\n",
       " 'verbose': 0,\n",
       " 'do_validation': True,\n",
       " 'metrics': ['loss', 'accuracy', 'val_loss', 'val_accuracy']}"
      ]
     },
     "execution_count": 63,
     "metadata": {},
     "output_type": "execute_result"
    }
   ],
   "source": [
    "history.params # getting the param history"
   ]
  },
  {
   "cell_type": "code",
   "execution_count": 130,
   "metadata": {},
   "outputs": [],
   "source": []
  },
  {
   "cell_type": "code",
   "execution_count": 126,
   "metadata": {},
   "outputs": [
    {
     "name": "stdout",
     "output_type": "stream",
     "text": [
      "[0, 1, 2, 3, 4, 5, 6, 7, 8, 9, 10, 11, 12, 13, 14, 15, 16, 17, 18, 19, 20, 21, 22, 23, 24, 25, 26, 27, 28, 29]\n"
     ]
    }
   ],
   "source": [
    "print(history.epoch) # epoch history"
   ]
  },
  {
   "cell_type": "code",
   "execution_count": 127,
   "metadata": {},
   "outputs": [
    {
     "data": {
      "text/plain": [
       "dict_keys(['loss', 'accuracy', 'val_loss', 'val_accuracy'])"
      ]
     },
     "execution_count": 127,
     "metadata": {},
     "output_type": "execute_result"
    }
   ],
   "source": [
    "history.history.keys() # printing the history keys"
   ]
  },
  {
   "cell_type": "code",
   "execution_count": 128,
   "metadata": {},
   "outputs": [
    {
     "data": {
      "image/png": "[encoded data removed]",
      "text/plain": [
       "<Figure size 576x360 with 1 Axes>"
      ]
     },
     "metadata": {
      "needs_background": "light"
     },
     "output_type": "display_data"
    }
   ],
   "source": [
    "# Plotting the mean training loss and accuracy measured over each epoch\n",
    "# and the mean validation loss and accuracy measured at the end of each epoch\n",
    "\n",
    "import pandas as pd\n",
    "\n",
    "pd.DataFrame(history.history).plot(figsize=(8, 5))\n",
    "plt.grid(True)\n",
    "plt.gca().set_ylim(0, 1) # setting limits for y-axis\n",
    "plt.show()"
   ]
  },
  {
   "cell_type": "code",
   "execution_count": 66,
   "metadata": {},
   "outputs": [
    {
     "name": "stdout",
     "output_type": "stream",
     "text": [
      "10000/10000 [==============================] - 1s 59us/sample - loss: 0.3362\n"
     ]
    },
    {
     "data": {
      "text/plain": [
       "[0.33624030063152316, 0.8818667]"
      ]
     },
     "execution_count": 66,
     "metadata": {},
     "output_type": "execute_result"
    }
   ],
   "source": [
    "model.evaluate(X_test, y_test) # Evaluating the model"
   ]
  },
  {
   "cell_type": "code",
   "execution_count": 67,
   "metadata": {},
   "outputs": [
    {
     "data": {
      "text/plain": [
       "['T-shirt/top',\n",
       " 'Trouser',\n",
       " 'Pullover',\n",
       " 'Dress',\n",
       " 'Coat',\n",
       " 'Sandal',\n",
       " 'Shirt',\n",
       " 'Sneaker',\n",
       " 'Bag',\n",
       " 'Ankle boot']"
      ]
     },
     "execution_count": 67,
     "metadata": {},
     "output_type": "execute_result"
    }
   ],
   "source": [
    "class_names"
   ]
  },
  {
   "cell_type": "code",
   "execution_count": 78,
   "metadata": {},
   "outputs": [
    {
     "data": {
      "text/plain": [
       "array([[0.12, 0.01, 0.03, 0.11, 0.01, 0.49, 0.12, 0.09, 0.01, 0.01],\n",
       "       [0.12, 0.01, 0.03, 0.11, 0.01, 0.49, 0.12, 0.09, 0.01, 0.01],\n",
       "       [0.12, 0.01, 0.03, 0.11, 0.01, 0.49, 0.12, 0.09, 0.01, 0.01]],\n",
       "      dtype=float32)"
      ]
     },
     "execution_count": 78,
     "metadata": {},
     "output_type": "execute_result"
    }
   ],
   "source": [
    "# predicting first 3 elements\n",
    "\n",
    "X_new = X_test[:3]\n",
    "y_proba = model.predict(X_new)\n",
    "y_proba.round(2)"
   ]
  },
  {
   "cell_type": "code",
   "execution_count": 79,
   "metadata": {},
   "outputs": [
    {
     "data": {
      "text/plain": [
       "<matplotlib.image.AxesImage at 0x7ffb90385cc0>"
      ]
     },
     "execution_count": 79,
     "metadata": {},
     "output_type": "execute_result"
    },
    {
     "data": {
      "image/png": "[encoded data removed]",
      "text/plain": [
       "<Figure size 432x288 with 1 Axes>"
      ]
     },
     "metadata": {
      "needs_background": "light"
     },
     "output_type": "display_data"
    }
   ],
   "source": [
    "plt.imshow(X_new[2])"
   ]
  },
  {
   "cell_type": "code",
   "execution_count": 80,
   "metadata": {
    "scrolled": false
   },
   "outputs": [
    {
     "name": "stdout",
     "output_type": "stream",
     "text": [
      "Epoch 1/30\n",
      "1719/1719 [==============================] - 4s 2ms/step - loss: 0.8315 - accuracy: 0.7156 - val_loss: 0.6484 - val_accuracy: 0.7776\n",
      "Epoch 2/30\n",
      "1719/1719 [==============================] - 4s 2ms/step - loss: 0.5060 - accuracy: 0.8206 - val_loss: 0.4454 - val_accuracy: 0.8414\n",
      "Epoch 3/30\n",
      "1719/1719 [==============================] - 4s 2ms/step - loss: 0.4448 - accuracy: 0.8407 - val_loss: 0.6525 - val_accuracy: 0.7666\n",
      "Epoch 4/30\n",
      "1719/1719 [==============================] - 4s 2ms/step - loss: 0.4116 - accuracy: 0.8535 - val_loss: 0.3880 - val_accuracy: 0.8638\n",
      "Epoch 5/30\n",
      "1719/1719 [==============================] - 4s 2ms/step - loss: 0.3885 - accuracy: 0.8598 - val_loss: 0.3752 - val_accuracy: 0.8652\n",
      "Epoch 6/30\n",
      "1719/1719 [==============================] - 4s 2ms/step - loss: 0.3683 - accuracy: 0.8677 - val_loss: 0.3767 - val_accuracy: 0.8642\n",
      "Epoch 7/30\n",
      "1719/1719 [==============================] - 4s 2ms/step - loss: 0.3552 - accuracy: 0.8713 - val_loss: 0.3629 - val_accuracy: 0.8708\n",
      "Epoch 8/30\n",
      "1719/1719 [==============================] - 4s 2ms/step - loss: 0.3441 - accuracy: 0.8745 - val_loss: 0.3803 - val_accuracy: 0.8600\n",
      "Epoch 9/30\n",
      "1719/1719 [==============================] - 4s 2ms/step - loss: 0.3335 - accuracy: 0.8775 - val_loss: 0.3627 - val_accuracy: 0.8686\n",
      "Epoch 10/30\n",
      "1719/1719 [==============================] - 4s 2ms/step - loss: 0.3240 - accuracy: 0.8812 - val_loss: 0.3679 - val_accuracy: 0.8640\n",
      "Epoch 11/30\n",
      "1719/1719 [==============================] - 4s 2ms/step - loss: 0.3165 - accuracy: 0.8847 - val_loss: 0.3461 - val_accuracy: 0.8762\n",
      "Epoch 12/30\n",
      "1719/1719 [==============================] - 4s 2ms/step - loss: 0.3075 - accuracy: 0.8870 - val_loss: 0.3326 - val_accuracy: 0.8780\n",
      "Epoch 13/30\n",
      "1719/1719 [==============================] - 4s 2ms/step - loss: 0.3008 - accuracy: 0.8899 - val_loss: 0.3473 - val_accuracy: 0.8758\n",
      "Epoch 14/30\n",
      "1719/1719 [==============================] - 4s 2ms/step - loss: 0.2952 - accuracy: 0.8909 - val_loss: 0.3432 - val_accuracy: 0.8730\n",
      "Epoch 15/30\n",
      "1719/1719 [==============================] - 4s 2ms/step - loss: 0.2876 - accuracy: 0.8937 - val_loss: 0.3400 - val_accuracy: 0.8726\n",
      "Epoch 16/30\n",
      "1719/1719 [==============================] - 4s 2ms/step - loss: 0.2828 - accuracy: 0.8967 - val_loss: 0.3151 - val_accuracy: 0.8840\n",
      "Epoch 17/30\n",
      "1719/1719 [==============================] - 4s 2ms/step - loss: 0.2778 - accuracy: 0.8974 - val_loss: 0.3647 - val_accuracy: 0.8706\n",
      "Epoch 18/30\n",
      "1719/1719 [==============================] - 4s 2ms/step - loss: 0.2709 - accuracy: 0.9004 - val_loss: 0.3237 - val_accuracy: 0.8852\n",
      "Epoch 19/30\n",
      "1719/1719 [==============================] - 4s 2ms/step - loss: 0.2663 - accuracy: 0.9023 - val_loss: 0.3342 - val_accuracy: 0.8800\n",
      "Epoch 20/30\n",
      "1719/1719 [==============================] - 4s 2ms/step - loss: 0.2623 - accuracy: 0.9027 - val_loss: 0.3476 - val_accuracy: 0.8720\n",
      "Epoch 21/30\n",
      "1719/1719 [==============================] - 4s 2ms/step - loss: 0.2570 - accuracy: 0.9056 - val_loss: 0.3111 - val_accuracy: 0.8906\n",
      "Epoch 22/30\n",
      "1719/1719 [==============================] - 4s 2ms/step - loss: 0.2525 - accuracy: 0.9069 - val_loss: 0.3076 - val_accuracy: 0.8928\n",
      "Epoch 23/30\n",
      "1719/1719 [==============================] - 5s 3ms/step - loss: 0.2483 - accuracy: 0.9084 - val_loss: 0.3101 - val_accuracy: 0.8892\n",
      "Epoch 24/30\n",
      "1719/1719 [==============================] - 4s 2ms/step - loss: 0.2443 - accuracy: 0.9085 - val_loss: 0.3146 - val_accuracy: 0.8900\n",
      "Epoch 25/30\n",
      "1719/1719 [==============================] - 4s 2ms/step - loss: 0.2392 - accuracy: 0.9110 - val_loss: 0.3130 - val_accuracy: 0.8898\n",
      "Epoch 26/30\n",
      "1719/1719 [==============================] - 4s 2ms/step - loss: 0.2365 - accuracy: 0.9121 - val_loss: 0.3181 - val_accuracy: 0.8886\n",
      "Epoch 27/30\n",
      "1719/1719 [==============================] - 4s 2ms/step - loss: 0.2330 - accuracy: 0.9137 - val_loss: 0.3178 - val_accuracy: 0.8898\n",
      "Epoch 28/30\n",
      "1719/1719 [==============================] - 4s 2ms/step - loss: 0.2287 - accuracy: 0.9156 - val_loss: 0.3345 - val_accuracy: 0.8810\n",
      "Epoch 29/30\n",
      "1719/1719 [==============================] - 4s 2ms/step - loss: 0.2250 - accuracy: 0.9172 - val_loss: 0.3321 - val_accuracy: 0.8818\n",
      "Epoch 30/30\n",
      "1719/1719 [==============================] - 4s 2ms/step - loss: 0.2227 - accuracy: 0.9173 - val_loss: 0.3283 - val_accuracy: 0.8852\n"
     ]
    }
   ],
   "source": [
    "keras.backend.clear_session() # clearing session\n",
    "np.random.seed(42) # generating random see\n",
    "tf.random.set_seed(42) # set.seed function helps reuse same set of random variables\n",
    "\n",
    "# Better way of doing it\n",
    "\n",
    "model = keras.models.Sequential([\n",
    "    keras.layers.Flatten(input_shape=[28, 28]),\n",
    "    keras.layers.Dense(100, activation=\"relu\"),\n",
    "    keras.layers.Dense(50, activation=\"relu\"),\n",
    "    keras.layers.Dense(50, activation=\"relu\"),\n",
    "    keras.layers.Dense(50, activation=\"relu\"),\n",
    "    keras.layers.Dense(10, activation=\"softmax\")\n",
    "])\n",
    "\n",
    "sgd = keras.optimizers.SGD(learning_rate=0.01)\n",
    "# Compiling the model we created\n",
    "\n",
    "model.compile(loss=\"sparse_categorical_crossentropy\",\n",
    "              optimizer=sgd,\n",
    "              metrics=[\"accuracy\"])\n",
    "\n",
    "history = model.fit(X_train, y_train, epochs=30,\n",
    "                    validation_data=(X_valid, y_valid)) # fitting the model to training data\n",
    "\n",
    "\n",
    "\n"
   ]
  },
  {
   "cell_type": "code",
   "execution_count": 70,
   "metadata": {},
   "outputs": [
    {
     "data": {
      "text/plain": [
       "array([9, 2, 1])"
      ]
     },
     "execution_count": 70,
     "metadata": {},
     "output_type": "execute_result"
    }
   ],
   "source": [
    "np.argmax(y_proba.round(2), axis=1)"
   ]
  },
  {
   "cell_type": "code",
   "execution_count": 71,
   "metadata": {},
   "outputs": [
    {
     "data": {
      "text/plain": [
       "array([9, 2, 1])"
      ]
     },
     "execution_count": 71,
     "metadata": {},
     "output_type": "execute_result"
    }
   ],
   "source": [
    "# predicting the class of these 3 elements\n",
    "\n",
    "y_pred = model.predict_classes(X_new)\n",
    "y_pred"
   ]
  },
  {
   "cell_type": "code",
   "execution_count": 72,
   "metadata": {},
   "outputs": [
    {
     "data": {
      "text/plain": [
       "array(['Ankle boot', 'Pullover', 'Trouser'], dtype='<U11')"
      ]
     },
     "execution_count": 72,
     "metadata": {},
     "output_type": "execute_result"
    }
   ],
   "source": [
    "np.array(class_names)[y_pred] # getting the class names of the predicted elements"
   ]
  },
  {
   "cell_type": "code",
   "execution_count": 73,
   "metadata": {},
   "outputs": [
    {
     "data": {
      "text/plain": [
       "array([9, 2, 1], dtype=uint8)"
      ]
     },
     "execution_count": 73,
     "metadata": {},
     "output_type": "execute_result"
    }
   ],
   "source": [
    "y_new = y_test[:3] # evaluating the prediction by matching with y_test\n",
    "y_new"
   ]
  },
  {
   "cell_type": "code",
   "execution_count": 74,
   "metadata": {},
   "outputs": [
    {
     "data": {
      "image/png": "[encoded data removed]",
      "text/plain": [
       "<Figure size 518.4x172.8 with 3 Axes>"
      ]
     },
     "metadata": {
      "needs_background": "light"
     },
     "output_type": "display_data"
    }
   ],
   "source": [
    "# Plotting the predicted elements\n",
    "\n",
    "plt.figure(figsize=(7.2, 2.4))\n",
    "for index, image in enumerate(X_new):\n",
    "    plt.subplot(1, 3, index + 1)\n",
    "    plt.imshow(image, cmap=\"binary\", interpolation=\"nearest\")\n",
    "    plt.axis('off')\n",
    "    plt.title(class_names[y_test[index]], fontsize=12)\n",
    "plt.subplots_adjust(wspace=0.2, hspace=0.5)\n",
    "\n",
    "plt.show()"
   ]
  },
  {
   "cell_type": "markdown",
   "metadata": {},
   "source": [
    "# Regression MLP"
   ]
  },
  {
   "cell_type": "markdown",
   "metadata": {},
   "source": [
    "Let's load, split and scale the California housing dataset"
   ]
  },
  {
   "cell_type": "code",
   "execution_count": 13,
   "metadata": {},
   "outputs": [],
   "source": [
    "from sklearn.datasets import fetch_california_housing\n",
    "from sklearn.model_selection import train_test_split\n",
    "from sklearn.preprocessing import StandardScaler\n",
    "\n",
    "housing = fetch_california_housing() # loading the California Housing dataset\n",
    "\n",
    "X_train_full, X_test, y_train_full, y_test = train_test_split(housing.data, housing.target, random_state=42) # test and train\n",
    "X_train, X_valid, y_train, y_valid = train_test_split(X_train_full, y_train_full, random_state=42) # training and validation\n",
    "\n",
    "# Using the StandardScaler to scale the dataset\n",
    "\n",
    "scaler = StandardScaler()\n",
    "X_train = scaler.fit_transform(X_train)\n",
    "X_valid = scaler.transform(X_valid)\n",
    "X_test = scaler.transform(X_test)"
   ]
  },
  {
   "cell_type": "code",
   "execution_count": 14,
   "metadata": {},
   "outputs": [
    {
     "data": {
      "text/plain": [
       "((11610, 8), (3870, 8), (5160, 8))"
      ]
     },
     "execution_count": 14,
     "metadata": {},
     "output_type": "execute_result"
    }
   ],
   "source": [
    "X_train.shape, X_valid.shape, X_test.shape"
   ]
  },
  {
   "cell_type": "code",
   "execution_count": 15,
   "metadata": {},
   "outputs": [],
   "source": [
    "np.random.seed(42) # generating random see\n",
    "tf.random.set_seed(42) # setting random seed"
   ]
  },
  {
   "cell_type": "code",
   "execution_count": 16,
   "metadata": {},
   "outputs": [
    {
     "name": "stderr",
     "output_type": "stream",
     "text": [
      "/usr/local/anaconda/envs/tensorflow2/lib/python3.6/site-packages/keras/optimizer_v2/optimizer_v2.py:356: UserWarning: The `lr` argument is deprecated, use `learning_rate` instead.\n",
      "  \"The `lr` argument is deprecated, use `learning_rate` instead.\")\n"
     ]
    }
   ],
   "source": [
    "model = keras.models.Sequential([\n",
    "    keras.layers.Dense(30, activation=\"relu\", input_shape=X_train.shape[1:]),\n",
    "    keras.layers.Dense(1)\n",
    "])\n",
    "model.compile(loss=\"mean_squared_error\", optimizer=keras.optimizers.SGD(lr=1e-3)) # compiling the model\n"
   ]
  },
  {
   "cell_type": "code",
   "execution_count": 17,
   "metadata": {
    "scrolled": true
   },
   "outputs": [
    {
     "name": "stdout",
     "output_type": "stream",
     "text": [
      "Epoch 1/30\n",
      "363/363 [==============================] - 1s 1ms/step - loss: 1.6419 - val_loss: 0.8560\n",
      "Epoch 2/30\n",
      "363/363 [==============================] - 0s 1ms/step - loss: 0.7047 - val_loss: 0.6531\n",
      "Epoch 3/30\n",
      "363/363 [==============================] - 0s 1ms/step - loss: 0.6345 - val_loss: 0.6099\n",
      "Epoch 4/30\n",
      "363/363 [==============================] - 0s 1ms/step - loss: 0.5977 - val_loss: 0.5658\n",
      "Epoch 5/30\n",
      "363/363 [==============================] - 0s 1ms/step - loss: 0.5706 - val_loss: 0.5355\n",
      "Epoch 6/30\n",
      "363/363 [==============================] - 0s 1ms/step - loss: 0.5472 - val_loss: 0.5173\n",
      "Epoch 7/30\n",
      "363/363 [==============================] - 0s 1ms/step - loss: 0.5288 - val_loss: 0.5081\n",
      "Epoch 8/30\n",
      "363/363 [==============================] - 0s 1ms/step - loss: 0.5130 - val_loss: 0.4799\n",
      "Epoch 9/30\n",
      "363/363 [==============================] - 0s 1ms/step - loss: 0.4992 - val_loss: 0.4690\n",
      "Epoch 10/30\n",
      "363/363 [==============================] - 0s 1ms/step - loss: 0.4875 - val_loss: 0.4656\n",
      "Epoch 11/30\n",
      "363/363 [==============================] - 0s 1ms/step - loss: 0.4777 - val_loss: 0.4482\n",
      "Epoch 12/30\n",
      "363/363 [==============================] - 0s 1ms/step - loss: 0.4688 - val_loss: 0.4479\n",
      "Epoch 13/30\n",
      "363/363 [==============================] - 0s 1ms/step - loss: 0.4615 - val_loss: 0.4296\n",
      "Epoch 14/30\n",
      "363/363 [==============================] - 0s 1ms/step - loss: 0.4547 - val_loss: 0.4233\n",
      "Epoch 15/30\n",
      "363/363 [==============================] - 0s 1ms/step - loss: 0.4488 - val_loss: 0.4176\n",
      "Epoch 16/30\n",
      "363/363 [==============================] - 0s 1ms/step - loss: 0.4435 - val_loss: 0.4123\n",
      "Epoch 17/30\n",
      "363/363 [==============================] - 0s 1ms/step - loss: 0.4389 - val_loss: 0.4071\n",
      "Epoch 18/30\n",
      "363/363 [==============================] - 0s 1ms/step - loss: 0.4347 - val_loss: 0.4037\n",
      "Epoch 19/30\n",
      "363/363 [==============================] - 0s 1ms/step - loss: 0.4306 - val_loss: 0.4000\n",
      "Epoch 20/30\n",
      "363/363 [==============================] - 0s 1ms/step - loss: 0.4273 - val_loss: 0.3969\n",
      "Epoch 21/30\n",
      "363/363 [==============================] - 0s 1ms/step - loss: 0.4240 - val_loss: 0.3938\n",
      "Epoch 22/30\n",
      "363/363 [==============================] - 0s 1ms/step - loss: 0.4211 - val_loss: 0.3913\n",
      "Epoch 23/30\n",
      "363/363 [==============================] - 0s 1ms/step - loss: 0.4183 - val_loss: 0.3884\n",
      "Epoch 24/30\n",
      "363/363 [==============================] - 0s 1ms/step - loss: 0.4158 - val_loss: 0.3871\n",
      "Epoch 25/30\n",
      "363/363 [==============================] - 0s 1ms/step - loss: 0.4135 - val_loss: 0.3857\n",
      "Epoch 26/30\n",
      "363/363 [==============================] - 0s 1ms/step - loss: 0.4115 - val_loss: 0.3818\n",
      "Epoch 27/30\n",
      "363/363 [==============================] - 0s 1ms/step - loss: 0.4096 - val_loss: 0.3800\n",
      "Epoch 28/30\n",
      "363/363 [==============================] - 0s 1ms/step - loss: 0.4077 - val_loss: 0.3794\n",
      "Epoch 29/30\n",
      "363/363 [==============================] - 0s 1ms/step - loss: 0.4061 - val_loss: 0.3769\n",
      "Epoch 30/30\n",
      "363/363 [==============================] - 0s 1ms/step - loss: 0.4045 - val_loss: 0.3763\n",
      "162/162 [==============================] - 0s 748us/step - loss: 0.4009\n"
     ]
    }
   ],
   "source": [
    "# Creating the model using the Sequential API\n",
    "\n",
    "history = model.fit(X_train, y_train, epochs=30, validation_data=(X_valid, y_valid)) # fit the model\n",
    "mse_test = model.evaluate(X_test, y_test) # evaluating\n",
    "X_new = X_test[:3]\n",
    "y_pred = model.predict(X_new) # predicting"
   ]
  },
  {
   "cell_type": "markdown",
   "metadata": {},
   "source": [
    "Hyperparameters:\n",
    " - epoch \n",
    " - number of hidden layers\n",
    " - #numbers of neurons in each layer\n",
    " - learning rate\n",
    " - regularizer\n",
    " - activation function\n",
    " - weight initializer\n",
    " - scaling (Standard Scaler)\n",
    " "
   ]
  },
  {
   "cell_type": "code",
   "execution_count": 138,
   "metadata": {},
   "outputs": [
    {
     "data": {
      "text/plain": [
       "[<tf.Variable 'dense_17/kernel:0' shape=(8, 30) dtype=float32, numpy=\n",
       " array([[ 0.21792153,  0.09671969, -0.34808964, -0.11440642,  0.00359567,\n",
       "         -0.03698157, -0.22787814, -0.17650558, -0.22376639,  0.10655192,\n",
       "          0.16549939, -0.36121926,  0.4393898 , -0.31627572,  0.14737925,\n",
       "         -0.15884118,  0.404067  ,  0.37198395, -0.2836121 ,  0.20510036,\n",
       "          0.12130111, -0.25077668,  0.294025  , -0.38881052, -0.04688293,\n",
       "          0.32429752,  0.27856427, -0.2098605 , -0.25883105, -0.05405326],\n",
       "        [ 0.0521351 , -0.2888794 , -0.07256465,  0.36215726,  0.14105281,\n",
       "          0.40271014, -0.36910334,  0.01259835,  0.14263076,  0.02534874,\n",
       "         -0.30865917, -0.09428684,  0.04278702, -0.19311348,  0.13103715,\n",
       "         -0.07128234,  0.24620877, -0.13150364, -0.00368623, -0.20054857,\n",
       "          0.1477214 ,  0.167994  , -0.19043866, -0.16443142,  0.22774087,\n",
       "          0.37191755,  0.20202664, -0.20835786,  0.12777752, -0.24579713],\n",
       "        [-0.37647054, -0.03301596, -0.26260856,  0.2933452 ,  0.07826801,\n",
       "         -0.24460961,  0.11601777, -0.08424257,  0.18885681,  0.1029484 ,\n",
       "          0.18492138,  0.27689934,  0.3551663 ,  0.32274312, -0.23423879,\n",
       "          0.17941661, -0.02644385,  0.01338219, -0.11582199,  0.42260733,\n",
       "          0.38257134, -0.02381799,  0.29011902,  0.06737315, -0.04788153,\n",
       "         -0.18256374, -0.02229532,  0.04388824,  0.13813496, -0.12818326],\n",
       "        [ 0.24522457,  0.33887947, -0.22015181, -0.07807296, -0.19436081,\n",
       "          0.3116676 ,  0.30799097, -0.20823918,  0.12122433,  0.29903135,\n",
       "         -0.36227077,  0.04371043, -0.19429424,  0.33861876, -0.05496817,\n",
       "          0.29203245, -0.08672249, -0.17461108, -0.19225147,  0.21597192,\n",
       "          0.3215747 ,  0.32207456,  0.28316718,  0.3531283 ,  0.3526447 ,\n",
       "         -0.12568747,  0.24774219, -0.12288866,  0.01952264, -0.04587299],\n",
       "        [ 0.09701786,  0.38091034, -0.00897846,  0.09529603,  0.13487564,\n",
       "          0.23220743,  0.22630636, -0.04424683,  0.32129294, -0.01954488,\n",
       "          0.20137253, -0.10596178,  0.10926829,  0.10393913,  0.01853979,\n",
       "          0.15560839,  0.04739821, -0.29592985,  0.08938914, -0.17933355,\n",
       "          0.18077038, -0.10557837, -0.20647037, -0.22128381, -0.23761253,\n",
       "          0.23633844,  0.0561744 , -0.33210102, -0.16566384, -0.00319359],\n",
       "        [-0.2631058 ,  0.04996024, -0.02534031, -0.36054924,  0.03671981,\n",
       "         -0.2749722 , -0.36390346,  0.18165234,  0.28175783, -0.6994994 ,\n",
       "          0.263072  ,  0.01738912, -0.5007443 , -0.15163478,  0.12595654,\n",
       "         -0.29063952, -0.2608148 , -0.33346143, -0.3227197 , -0.17121415,\n",
       "          0.20966294, -0.01596387, -0.2568562 , -0.36839804, -0.09484516,\n",
       "          0.36477235,  0.30821532, -0.05450303, -0.01368797, -0.46272245],\n",
       "        [-0.6513774 , -0.2936926 , -0.24571621,  0.21402116, -0.26719087,\n",
       "         -0.2223907 , -0.39192033, -0.5110045 , -0.37487796, -0.3641729 ,\n",
       "          0.18602857, -0.39912507,  0.03842417,  0.22458869,  0.35827354,\n",
       "          0.14988011, -0.2991224 ,  0.17774035,  0.3591087 , -0.08212753,\n",
       "         -0.10014547, -0.03922522, -0.23398721,  0.10724487, -0.3991615 ,\n",
       "          0.40937778,  0.21403567,  0.0412843 ,  0.15787016,  0.15520374],\n",
       "        [-0.5687901 , -0.16913225, -0.36270398,  0.35311994, -0.07010265,\n",
       "          0.06119058,  0.22442743,  0.42020044,  0.17313524, -0.3133085 ,\n",
       "          0.19080165, -0.06343843, -0.20894554,  0.42680687, -0.3024747 ,\n",
       "         -0.08133726, -0.25897762, -0.40284348, -0.21857846,  0.07027885,\n",
       "         -0.13176894,  0.01686527, -0.14747913, -0.03633566, -0.36574486,\n",
       "         -0.18664546,  0.3113112 ,  0.02216778,  0.37593257, -0.40919974]],\n",
       "       dtype=float32)>,\n",
       " <tf.Variable 'dense_17/bias:0' shape=(30,) dtype=float32, numpy=\n",
       " array([ 0.32032368, -0.03410841,  0.03224815,  0.00206347, -0.09499343,\n",
       "         0.08384609,  0.15052107,  0.18268904, -0.07990389,  0.2146221 ,\n",
       "         0.05582192, -0.04825106,  0.302343  ,  0.07642883,  0.00313171,\n",
       "        -0.08670947,  0.22209975,  0.02056035,  0.00699273,  0.34595245,\n",
       "         0.15749356, -0.12868382, -0.28808194,  0.01018586,  0.10255117,\n",
       "        -0.00464858,  0.12865096, -0.06640046,  0.04105084,  0.08453852],\n",
       "       dtype=float32)>]"
      ]
     },
     "execution_count": 138,
     "metadata": {},
     "output_type": "execute_result"
    }
   ],
   "source": [
    "model.layers[0].weights"
   ]
  },
  {
   "cell_type": "code",
   "execution_count": 133,
   "metadata": {},
   "outputs": [
    {
     "name": "stdout",
     "output_type": "stream",
     "text": [
      "Model: \"sequential_4\"\n",
      "_________________________________________________________________\n",
      "Layer (type)                 Output Shape              Param #   \n",
      "=================================================================\n",
      "dense_15 (Dense)             (None, 30)                270       \n",
      "_________________________________________________________________\n",
      "dense_16 (Dense)             (None, 1)                 31        \n",
      "=================================================================\n",
      "Total params: 301\n",
      "Trainable params: 301\n",
      "Non-trainable params: 0\n",
      "_________________________________________________________________\n"
     ]
    }
   ],
   "source": [
    "model.summary()"
   ]
  },
  {
   "cell_type": "markdown",
   "metadata": {},
   "source": [
    "The fit() method returns a History object containing the training parameters (history.params), the list of epochs it went through (history.epoch), and most importantly a dictionary (history.history) containing the loss and extra metrics it\n",
    "measured at the end of each epoch on the training set and on the validation set (if any)."
   ]
  },
  {
   "cell_type": "code",
   "execution_count": 134,
   "metadata": {},
   "outputs": [
    {
     "data": {
      "image/png": "[encoded data removed]",
      "text/plain": [
       "<Figure size 432x288 with 1 Axes>"
      ]
     },
     "metadata": {
      "needs_background": "light"
     },
     "output_type": "display_data"
    }
   ],
   "source": [
    "import pandas as pd\n",
    "plt.plot(pd.DataFrame(history.history))\n",
    "plt.grid(True)\n",
    "plt.gca().set_ylim(0, 1) # setting y-axis limit\n",
    "plt.show()"
   ]
  },
  {
   "cell_type": "code",
   "execution_count": 135,
   "metadata": {},
   "outputs": [
    {
     "data": {
      "text/plain": [
       "array([[0.38856643],\n",
       "       [1.6792021 ],\n",
       "       [3.1022794 ]], dtype=float32)"
      ]
     },
     "execution_count": 135,
     "metadata": {},
     "output_type": "execute_result"
    }
   ],
   "source": [
    "y_pred # printing the predictions"
   ]
  },
  {
   "cell_type": "markdown",
   "metadata": {},
   "source": [
    "# Functional API"
   ]
  },
  {
   "cell_type": "markdown",
   "metadata": {},
   "source": [
    "Not all neural network models are simply sequential. Some may have complex topologies. Some may have multiple inputs and/or multiple outputs. For example, a Wide & Deep neural network (see [paper](https://ai.google/research/pubs/pub45413)) connects all or part of the inputs directly to the output layer."
   ]
  },
  {
   "cell_type": "code",
   "execution_count": 143,
   "metadata": {},
   "outputs": [],
   "source": [
    "import tensorflow as tf\n",
    "from tensorflow import keras"
   ]
  },
  {
   "cell_type": "code",
   "execution_count": 144,
   "metadata": {},
   "outputs": [],
   "source": [
    "np.random.seed(42)\n",
    "tf.random.set_seed(42)"
   ]
  },
  {
   "cell_type": "code",
   "execution_count": 145,
   "metadata": {},
   "outputs": [
    {
     "data": {
      "text/plain": [
       "(8,)"
      ]
     },
     "execution_count": 145,
     "metadata": {},
     "output_type": "execute_result"
    }
   ],
   "source": [
    "X_train.shape[1:]"
   ]
  },
  {
   "cell_type": "code",
   "execution_count": 165,
   "metadata": {},
   "outputs": [
    {
     "data": {
      "text/plain": [
       "type"
      ]
     },
     "execution_count": 165,
     "metadata": {},
     "output_type": "execute_result"
    }
   ],
   "source": [
    "type(keras.layers.Dense)"
   ]
  },
  {
   "cell_type": "code",
   "execution_count": 148,
   "metadata": {},
   "outputs": [],
   "source": [
    "l = keras.layers.Dense(30, activation=\"relu\")"
   ]
  },
  {
   "cell_type": "code",
   "execution_count": null,
   "metadata": {},
   "outputs": [],
   "source": [
    "l"
   ]
  },
  {
   "cell_type": "code",
   "execution_count": 166,
   "metadata": {},
   "outputs": [
    {
     "data": {
      "text/plain": [
       "keras.layers.core.Dense"
      ]
     },
     "execution_count": 166,
     "metadata": {},
     "output_type": "execute_result"
    }
   ],
   "source": [
    "type(l)"
   ]
  },
  {
   "cell_type": "code",
   "execution_count": 158,
   "metadata": {},
   "outputs": [],
   "source": [
    "import math\n",
    "def powerBuilder(power):\n",
    "    def mypower(y):\n",
    "        return y**power\n",
    "    return mypower"
   ]
  },
  {
   "cell_type": "code",
   "execution_count": 159,
   "metadata": {},
   "outputs": [],
   "source": [
    "cube = powerBuilder(3)"
   ]
  },
  {
   "cell_type": "code",
   "execution_count": 163,
   "metadata": {},
   "outputs": [
    {
     "data": {
      "text/plain": [
       "function"
      ]
     },
     "execution_count": 163,
     "metadata": {},
     "output_type": "execute_result"
    }
   ],
   "source": [
    "type(cube)"
   ]
  },
  {
   "cell_type": "code",
   "execution_count": 160,
   "metadata": {},
   "outputs": [
    {
     "data": {
      "text/plain": [
       "8000"
      ]
     },
     "execution_count": 160,
     "metadata": {},
     "output_type": "execute_result"
    }
   ],
   "source": [
    "cube(20)"
   ]
  },
  {
   "cell_type": "code",
   "execution_count": 161,
   "metadata": {},
   "outputs": [
    {
     "data": {
      "text/plain": [
       "27000"
      ]
     },
     "execution_count": 161,
     "metadata": {},
     "output_type": "execute_result"
    }
   ],
   "source": [
    "cube(30)"
   ]
  },
  {
   "cell_type": "code",
   "execution_count": 162,
   "metadata": {},
   "outputs": [
    {
     "data": {
      "text/plain": [
       "100"
      ]
     },
     "execution_count": 162,
     "metadata": {},
     "output_type": "execute_result"
    }
   ],
   "source": [
    "sq = powerBuilder(2)\n",
    "sq(10)"
   ]
  },
  {
   "cell_type": "code",
   "execution_count": 157,
   "metadata": {},
   "outputs": [
    {
     "data": {
      "text/plain": [
       "256"
      ]
     },
     "execution_count": 157,
     "metadata": {},
     "output_type": "execute_result"
    }
   ],
   "source": [
    "powerBuilder(8)(2)"
   ]
  },
  {
   "cell_type": "code",
   "execution_count": 58,
   "metadata": {},
   "outputs": [],
   "source": [
    "a = np.array([1,1])"
   ]
  },
  {
   "cell_type": "code",
   "execution_count": 59,
   "metadata": {},
   "outputs": [],
   "source": [
    "b = np.array([2,2])"
   ]
  },
  {
   "cell_type": "code",
   "execution_count": 60,
   "metadata": {},
   "outputs": [
    {
     "data": {
      "text/plain": [
       "array([1, 1, 2, 2])"
      ]
     },
     "execution_count": 60,
     "metadata": {},
     "output_type": "execute_result"
    }
   ],
   "source": [
    "np.concatenate([a, b])"
   ]
  },
  {
   "cell_type": "code",
   "execution_count": 61,
   "metadata": {},
   "outputs": [
    {
     "data": {
      "text/plain": [
       "<tf.Tensor: shape=(4,), dtype=int64, numpy=array([1, 1, 2, 2])>"
      ]
     },
     "execution_count": 61,
     "metadata": {},
     "output_type": "execute_result"
    }
   ],
   "source": [
    "keras.layers.concatenate([a, b])"
   ]
  },
  {
   "cell_type": "code",
   "execution_count": 106,
   "metadata": {},
   "outputs": [],
   "source": [
    "# Defining the layers\n",
    "\n",
    "input_ = keras.layers.Input(shape=X_train.shape[1:])\n",
    "hidden1 = keras.layers.Dense(30, activation=\"relu\")(input_)\n",
    "hidden2 = keras.layers.Dense(30, activation=\"relu\")(hidden1)\n",
    "concat = keras.layers.concatenate([input_, hidden2]) # concatenate inputs\n",
    "output = keras.layers.Dense(1)(concat)\n",
    "model = keras.models.Model(inputs=[input_], outputs=[output])"
   ]
  },
  {
   "cell_type": "code",
   "execution_count": 107,
   "metadata": {
    "scrolled": true
   },
   "outputs": [
    {
     "name": "stdout",
     "output_type": "stream",
     "text": [
      "Model: \"model\"\n",
      "__________________________________________________________________________________________________\n",
      "Layer (type)                    Output Shape         Param #     Connected to                     \n",
      "==================================================================================================\n",
      "input_1 (InputLayer)            [(None, 8)]          0                                            \n",
      "__________________________________________________________________________________________________\n",
      "dense_11 (Dense)                (None, 30)           270         input_1[0][0]                    \n",
      "__________________________________________________________________________________________________\n",
      "dense_12 (Dense)                (None, 30)           930         dense_11[0][0]                   \n",
      "__________________________________________________________________________________________________\n",
      "concatenate (Concatenate)       (None, 38)           0           input_1[0][0]                    \n",
      "                                                                 dense_12[0][0]                   \n",
      "__________________________________________________________________________________________________\n",
      "dense_13 (Dense)                (None, 1)            39          concatenate[0][0]                \n",
      "==================================================================================================\n",
      "Total params: 1,239\n",
      "Trainable params: 1,239\n",
      "Non-trainable params: 0\n",
      "__________________________________________________________________________________________________\n"
     ]
    }
   ],
   "source": [
    "model.summary() # generating model summary"
   ]
  },
  {
   "cell_type": "code",
   "execution_count": 108,
   "metadata": {
    "scrolled": true
   },
   "outputs": [
    {
     "name": "stderr",
     "output_type": "stream",
     "text": [
      "/usr/local/anaconda/envs/tensorflow2/lib/python3.6/site-packages/keras/optimizer_v2/optimizer_v2.py:356: UserWarning: The `lr` argument is deprecated, use `learning_rate` instead.\n",
      "  \"The `lr` argument is deprecated, use `learning_rate` instead.\")\n"
     ]
    },
    {
     "name": "stdout",
     "output_type": "stream",
     "text": [
      "Epoch 1/20\n",
      "363/363 [==============================] - 1s 2ms/step - loss: 1.2611 - val_loss: 3.3940\n",
      "Epoch 2/20\n",
      "363/363 [==============================] - 1s 2ms/step - loss: 0.6580 - val_loss: 0.9360\n",
      "Epoch 3/20\n",
      "363/363 [==============================] - 1s 2ms/step - loss: 0.5878 - val_loss: 0.5649\n",
      "Epoch 4/20\n",
      "363/363 [==============================] - 1s 2ms/step - loss: 0.5582 - val_loss: 0.5712\n",
      "Epoch 5/20\n",
      "363/363 [==============================] - 1s 2ms/step - loss: 0.5347 - val_loss: 0.5045\n",
      "Epoch 6/20\n",
      "363/363 [==============================] - 1s 2ms/step - loss: 0.5158 - val_loss: 0.4831\n",
      "Epoch 7/20\n",
      "363/363 [==============================] - 1s 2ms/step - loss: 0.5002 - val_loss: 0.4639\n",
      "Epoch 8/20\n",
      "363/363 [==============================] - 1s 2ms/step - loss: 0.4876 - val_loss: 0.4638\n",
      "Epoch 9/20\n",
      "363/363 [==============================] - 1s 2ms/step - loss: 0.4760 - val_loss: 0.4421\n",
      "Epoch 10/20\n",
      "363/363 [==============================] - 1s 2ms/step - loss: 0.4659 - val_loss: 0.4313\n",
      "Epoch 11/20\n",
      "363/363 [==============================] - 1s 2ms/step - loss: 0.4577 - val_loss: 0.4345\n",
      "Epoch 12/20\n",
      "363/363 [==============================] - 1s 2ms/step - loss: 0.4498 - val_loss: 0.4168\n",
      "Epoch 13/20\n",
      "363/363 [==============================] - 1s 2ms/step - loss: 0.4428 - val_loss: 0.4230\n",
      "Epoch 14/20\n",
      "363/363 [==============================] - 1s 2ms/step - loss: 0.4366 - val_loss: 0.4047\n",
      "Epoch 15/20\n",
      "363/363 [==============================] - 1s 2ms/step - loss: 0.4307 - val_loss: 0.4078\n",
      "Epoch 16/20\n",
      "363/363 [==============================] - 1s 2ms/step - loss: 0.4257 - val_loss: 0.3938\n",
      "Epoch 17/20\n",
      "363/363 [==============================] - 1s 2ms/step - loss: 0.4210 - val_loss: 0.3952\n",
      "Epoch 18/20\n",
      "363/363 [==============================] - 1s 2ms/step - loss: 0.4167 - val_loss: 0.3860\n",
      "Epoch 19/20\n",
      "363/363 [==============================] - 1s 2ms/step - loss: 0.4121 - val_loss: 0.3827\n",
      "Epoch 20/20\n",
      "363/363 [==============================] - 1s 2ms/step - loss: 0.4088 - val_loss: 0.4054\n",
      "162/162 [==============================] - 0s 1ms/step - loss: 0.4032\n"
     ]
    }
   ],
   "source": [
    "model.compile(loss=\"mean_squared_error\", optimizer=keras.optimizers.SGD(lr=1e-3)) # compile model\n",
    "history = model.fit(X_train, y_train, epochs=20,\n",
    "                    validation_data=(X_valid, y_valid)) # fit model\n",
    "mse_test = model.evaluate(X_test, y_test) # evaluate model\n"
   ]
  },
  {
   "cell_type": "code",
   "execution_count": 65,
   "metadata": {},
   "outputs": [],
   "source": [
    "y_pred = model.predict(X_test) # predict using the model"
   ]
  },
  {
   "cell_type": "code",
   "execution_count": 66,
   "metadata": {},
   "outputs": [
    {
     "data": {
      "text/plain": [
       "array([[0.47011754],\n",
       "       [1.8735292 ],\n",
       "       [3.3798187 ],\n",
       "       ...,\n",
       "       [1.3605638 ],\n",
       "       [2.1719885 ],\n",
       "       [3.8831046 ]], dtype=float32)"
      ]
     },
     "execution_count": 66,
     "metadata": {},
     "output_type": "execute_result"
    }
   ],
   "source": [
    "y_pred"
   ]
  },
  {
   "cell_type": "markdown",
   "metadata": {},
   "source": [
    "What if you want to send different subsets of input features through the wide or deep paths? We will send 5 features (features 0 to 4), and 6 through the deep path (features 2 to 7). Note that 3 features will go through both (features 2, 3 and 4)."
   ]
  },
  {
   "cell_type": "code",
   "execution_count": 67,
   "metadata": {},
   "outputs": [],
   "source": [
    "np.random.seed(42)\n",
    "tf.random.set_seed(42)"
   ]
  },
  {
   "cell_type": "code",
   "execution_count": 18,
   "metadata": {},
   "outputs": [],
   "source": [
    "# creating the model using different number of layers\n",
    "\n",
    "input_A = keras.layers.Input(shape=[5], name=\"wide_input\")\n",
    "input_B = keras.layers.Input(shape=[6], name=\"deep_input\")\n",
    "hidden1 = keras.layers.Dense(30, activation=\"relu\")(input_B)\n",
    "hidden2 = keras.layers.Dense(30, activation=\"relu\")(hidden1)\n",
    "concat = keras.layers.concatenate([input_A, hidden2]) # concatenate inputs\n",
    "output = keras.layers.Dense(1, name=\"output\")(concat)\n",
    "model = keras.models.Model(inputs=[input_A, input_B], outputs=[output])"
   ]
  },
  {
   "cell_type": "code",
   "execution_count": 19,
   "metadata": {},
   "outputs": [
    {
     "data": {
      "text/plain": [
       "(11610, 8)"
      ]
     },
     "execution_count": 19,
     "metadata": {},
     "output_type": "execute_result"
    }
   ],
   "source": [
    "X_train.shape"
   ]
  },
  {
   "cell_type": "code",
   "execution_count": 20,
   "metadata": {},
   "outputs": [
    {
     "data": {
      "text/plain": [
       "[3, 4]"
      ]
     },
     "execution_count": 20,
     "metadata": {},
     "output_type": "execute_result"
    }
   ],
   "source": [
    "[1,2,3,4][2:]"
   ]
  },
  {
   "cell_type": "code",
   "execution_count": 21,
   "metadata": {
    "scrolled": true
   },
   "outputs": [
    {
     "name": "stderr",
     "output_type": "stream",
     "text": [
      "/usr/local/anaconda/envs/tensorflow2/lib/python3.6/site-packages/keras/optimizer_v2/optimizer_v2.py:356: UserWarning: The `lr` argument is deprecated, use `learning_rate` instead.\n",
      "  \"The `lr` argument is deprecated, use `learning_rate` instead.\")\n"
     ]
    },
    {
     "name": "stdout",
     "output_type": "stream",
     "text": [
      "Epoch 1/20\n",
      "363/363 [==============================] - 1s 2ms/step - loss: 2.2622 - val_loss: 0.8088\n",
      "Epoch 2/20\n",
      "363/363 [==============================] - 0s 1ms/step - loss: 0.7076 - val_loss: 0.6408\n",
      "Epoch 3/20\n",
      "363/363 [==============================] - 0s 1ms/step - loss: 0.6205 - val_loss: 0.5704\n",
      "Epoch 4/20\n",
      "363/363 [==============================] - 0s 1ms/step - loss: 0.5843 - val_loss: 0.5613\n",
      "Epoch 5/20\n",
      "363/363 [==============================] - 0s 1ms/step - loss: 0.5605 - val_loss: 0.5309\n",
      "Epoch 6/20\n",
      "363/363 [==============================] - 0s 1ms/step - loss: 0.5409 - val_loss: 0.5067\n",
      "Epoch 7/20\n",
      "363/363 [==============================] - 0s 1ms/step - loss: 0.5248 - val_loss: 0.4905\n",
      "Epoch 8/20\n",
      "363/363 [==============================] - 0s 1ms/step - loss: 0.5110 - val_loss: 0.4846\n",
      "Epoch 9/20\n",
      "363/363 [==============================] - 0s 1ms/step - loss: 0.4982 - val_loss: 0.4718\n",
      "Epoch 10/20\n",
      "363/363 [==============================] - 0s 1ms/step - loss: 0.4873 - val_loss: 0.4557\n",
      "Epoch 11/20\n",
      "363/363 [==============================] - 0s 1ms/step - loss: 0.4780 - val_loss: 0.4627\n",
      "Epoch 12/20\n",
      "363/363 [==============================] - 0s 1ms/step - loss: 0.4697 - val_loss: 0.4407\n",
      "Epoch 13/20\n",
      "363/363 [==============================] - 0s 1ms/step - loss: 0.4624 - val_loss: 0.4473\n",
      "Epoch 14/20\n",
      "363/363 [==============================] - 0s 1ms/step - loss: 0.4558 - val_loss: 0.4277\n",
      "Epoch 15/20\n",
      "363/363 [==============================] - 0s 1ms/step - loss: 0.4505 - val_loss: 0.4504\n",
      "Epoch 16/20\n",
      "363/363 [==============================] - 0s 1ms/step - loss: 0.4459 - val_loss: 0.4208\n",
      "Epoch 17/20\n",
      "363/363 [==============================] - 0s 1ms/step - loss: 0.4421 - val_loss: 0.4384\n",
      "Epoch 18/20\n",
      "363/363 [==============================] - 0s 1ms/step - loss: 0.4382 - val_loss: 0.4307\n",
      "Epoch 19/20\n",
      "363/363 [==============================] - 0s 1ms/step - loss: 0.4345 - val_loss: 0.4174\n",
      "Epoch 20/20\n",
      "363/363 [==============================] - 0s 1ms/step - loss: 0.4321 - val_loss: 0.4516\n",
      "162/162 [==============================] - 0s 899us/step - loss: 0.4277\n"
     ]
    }
   ],
   "source": [
    "model.compile(loss=\"mse\", optimizer=keras.optimizers.SGD(lr=1e-3)) # compile the model\n",
    "\n",
    "X_train_A, X_train_B = X_train[:, :5], X_train[:, 2:]\n",
    "X_valid_A, X_valid_B = X_valid[:, :5], X_valid[:, 2:]\n",
    "X_test_A, X_test_B = X_test[:, :5], X_test[:, 2:]\n",
    "X_new_A, X_new_B = X_test_A[:3], X_test_B[:3]\n",
    "\n",
    "history = model.fit((X_train_A, X_train_B), y_train, epochs=20,\n",
    "                    validation_data=((X_valid_A, X_valid_B), y_valid))\n",
    "mse_test = model.evaluate((X_test_A, X_test_B), y_test)\n",
    "y_pred = model.predict((X_new_A, X_new_B))"
   ]
  },
  {
   "cell_type": "markdown",
   "metadata": {},
   "source": [
    "Adding an auxiliary output for regularization:"
   ]
  },
  {
   "cell_type": "code",
   "execution_count": 72,
   "metadata": {},
   "outputs": [],
   "source": [
    "np.random.seed(42)\n",
    "tf.random.set_seed(42)"
   ]
  },
  {
   "cell_type": "code",
   "execution_count": 30,
   "metadata": {},
   "outputs": [],
   "source": [
    "input_A = keras.layers.Input(shape=[5], name=\"wide_input\")\n",
    "input_B = keras.layers.Input(shape=[6], name=\"deep_input\")\n",
    "hidden1 = keras.layers.Dense(30, activation=\"relu\")(input_B)\n",
    "hidden2 = keras.layers.Dense(30, activation=\"relu\")(hidden1)\n",
    "concat = keras.layers.concatenate([input_A, hidden2]) # concatenate the inputs\n",
    "output = keras.layers.Dense(1, name=\"main_output\")(concat)\n",
    "aux_output = keras.layers.Dense(1, name=\"aux_output\")(hidden2) # aux output for regularization\n",
    "model = keras.models.Model(inputs=[input_A, input_B],\n",
    "                           outputs=[output, aux_output])"
   ]
  },
  {
   "cell_type": "markdown",
   "metadata": {},
   "source": [
    "Activation in Last Layer:\n",
    "\n",
    "    + Binary CLassification: sigmoid\n",
    "    + Multi Class: Softmax\n",
    "    + Regression: None"
   ]
  },
  {
   "cell_type": "markdown",
   "metadata": {},
   "source": [
    "In regression:\n",
    "+ yactual is range (-5 to +30)\n",
    "+ sigmoid activation function will bring ypredicted to -1 to 1\n",
    "+ loss = sum(sq(ypredicted - yactual)"
   ]
  },
  {
   "cell_type": "code",
   "execution_count": 31,
   "metadata": {},
   "outputs": [
    {
     "data": {
      "text/plain": [
       "(11610, 8)"
      ]
     },
     "execution_count": 31,
     "metadata": {},
     "output_type": "execute_result"
    }
   ],
   "source": [
    "X_train.shape"
   ]
  },
  {
   "cell_type": "code",
   "execution_count": 32,
   "metadata": {},
   "outputs": [
    {
     "data": {
      "text/plain": [
       "<KerasTensor: shape=(None, 5) dtype=float32 (created by layer 'wide_input')>"
      ]
     },
     "execution_count": 32,
     "metadata": {},
     "output_type": "execute_result"
    }
   ],
   "source": [
    "input_A"
   ]
  },
  {
   "cell_type": "code",
   "execution_count": 33,
   "metadata": {},
   "outputs": [
    {
     "name": "stderr",
     "output_type": "stream",
     "text": [
      "/usr/local/anaconda/envs/tensorflow2/lib/python3.6/site-packages/keras/optimizer_v2/optimizer_v2.py:356: UserWarning: The `lr` argument is deprecated, use `learning_rate` instead.\n",
      "  \"The `lr` argument is deprecated, use `learning_rate` instead.\")\n"
     ]
    }
   ],
   "source": [
    "model.compile(loss=[\"mse\", \"mse\"], loss_weights=[0.9, 0.1], optimizer=keras.optimizers.SGD(lr=1e-3)) # compile the model"
   ]
  },
  {
   "cell_type": "code",
   "execution_count": 36,
   "metadata": {
    "scrolled": true
   },
   "outputs": [
    {
     "name": "stdout",
     "output_type": "stream",
     "text": [
      "Epoch 1/20\n",
      "363/363 [==============================] - 1s 1ms/step - loss: 0.4361 - main_output_loss: 0.4013 - aux_output_loss: 0.7492 - val_loss: 0.4538 - val_main_output_loss: 0.4093 - val_aux_output_loss: 0.8539\n",
      "Epoch 2/20\n",
      "363/363 [==============================] - 0s 1ms/step - loss: 0.4347 - main_output_loss: 0.4005 - aux_output_loss: 0.7427 - val_loss: 0.4854 - val_main_output_loss: 0.4506 - val_aux_output_loss: 0.7982\n",
      "Epoch 3/20\n",
      "363/363 [==============================] - 1s 1ms/step - loss: 0.4332 - main_output_loss: 0.3996 - aux_output_loss: 0.7355 - val_loss: 0.4605 - val_main_output_loss: 0.4207 - val_aux_output_loss: 0.8184\n",
      "Epoch 4/20\n",
      "363/363 [==============================] - 1s 1ms/step - loss: 0.4321 - main_output_loss: 0.3991 - aux_output_loss: 0.7290 - val_loss: 0.4531 - val_main_output_loss: 0.4119 - val_aux_output_loss: 0.8246\n",
      "Epoch 5/20\n",
      "363/363 [==============================] - 0s 1ms/step - loss: 0.4307 - main_output_loss: 0.3983 - aux_output_loss: 0.7226 - val_loss: 0.4453 - val_main_output_loss: 0.4031 - val_aux_output_loss: 0.8254\n",
      "Epoch 6/20\n",
      "363/363 [==============================] - 1s 1ms/step - loss: 0.4294 - main_output_loss: 0.3975 - aux_output_loss: 0.7171 - val_loss: 0.4582 - val_main_output_loss: 0.4218 - val_aux_output_loss: 0.7850\n",
      "Epoch 7/20\n",
      "363/363 [==============================] - 1s 1ms/step - loss: 0.4282 - main_output_loss: 0.3969 - aux_output_loss: 0.7102 - val_loss: 0.4446 - val_main_output_loss: 0.4055 - val_aux_output_loss: 0.7972\n",
      "Epoch 8/20\n",
      "363/363 [==============================] - 1s 1ms/step - loss: 0.4272 - main_output_loss: 0.3963 - aux_output_loss: 0.7053 - val_loss: 0.4365 - val_main_output_loss: 0.3961 - val_aux_output_loss: 0.8005\n",
      "Epoch 9/20\n",
      "363/363 [==============================] - 1s 1ms/step - loss: 0.4259 - main_output_loss: 0.3954 - aux_output_loss: 0.7004 - val_loss: 0.4572 - val_main_output_loss: 0.4251 - val_aux_output_loss: 0.7462\n",
      "Epoch 10/20\n",
      "363/363 [==============================] - 1s 1ms/step - loss: 0.4248 - main_output_loss: 0.3948 - aux_output_loss: 0.6948 - val_loss: 0.4488 - val_main_output_loss: 0.4159 - val_aux_output_loss: 0.7451\n",
      "Epoch 11/20\n",
      "363/363 [==============================] - 1s 1ms/step - loss: 0.4240 - main_output_loss: 0.3944 - aux_output_loss: 0.6899 - val_loss: 0.4250 - val_main_output_loss: 0.3833 - val_aux_output_loss: 0.7998\n",
      "Epoch 12/20\n",
      "363/363 [==============================] - 1s 2ms/step - loss: 0.4228 - main_output_loss: 0.3935 - aux_output_loss: 0.6863 - val_loss: 0.4648 - val_main_output_loss: 0.4378 - val_aux_output_loss: 0.7076\n",
      "Epoch 13/20\n",
      "363/363 [==============================] - 1s 1ms/step - loss: 0.4220 - main_output_loss: 0.3932 - aux_output_loss: 0.6806 - val_loss: 0.4440 - val_main_output_loss: 0.4124 - val_aux_output_loss: 0.7287\n",
      "Epoch 14/20\n",
      "363/363 [==============================] - 1s 1ms/step - loss: 0.4209 - main_output_loss: 0.3926 - aux_output_loss: 0.6760 - val_loss: 0.4235 - val_main_output_loss: 0.3861 - val_aux_output_loss: 0.7599\n",
      "Epoch 15/20\n",
      "363/363 [==============================] - 1s 2ms/step - loss: 0.4199 - main_output_loss: 0.3918 - aux_output_loss: 0.6731 - val_loss: 0.4459 - val_main_output_loss: 0.4177 - val_aux_output_loss: 0.6994\n",
      "Epoch 16/20\n",
      "363/363 [==============================] - 1s 2ms/step - loss: 0.4192 - main_output_loss: 0.3916 - aux_output_loss: 0.6679 - val_loss: 0.4154 - val_main_output_loss: 0.3776 - val_aux_output_loss: 0.7552\n",
      "Epoch 17/20\n",
      "363/363 [==============================] - 1s 1ms/step - loss: 0.4184 - main_output_loss: 0.3910 - aux_output_loss: 0.6654 - val_loss: 0.4480 - val_main_output_loss: 0.4224 - val_aux_output_loss: 0.6783\n",
      "Epoch 18/20\n",
      "363/363 [==============================] - 1s 1ms/step - loss: 0.4176 - main_output_loss: 0.3905 - aux_output_loss: 0.6614 - val_loss: 0.4333 - val_main_output_loss: 0.4057 - val_aux_output_loss: 0.6821\n",
      "Epoch 19/20\n",
      "363/363 [==============================] - 1s 1ms/step - loss: 0.4167 - main_output_loss: 0.3899 - aux_output_loss: 0.6579 - val_loss: 0.4242 - val_main_output_loss: 0.3946 - val_aux_output_loss: 0.6906\n",
      "Epoch 20/20\n",
      "363/363 [==============================] - 1s 1ms/step - loss: 0.4161 - main_output_loss: 0.3895 - aux_output_loss: 0.6550 - val_loss: 0.4482 - val_main_output_loss: 0.4252 - val_aux_output_loss: 0.6553\n"
     ]
    }
   ],
   "source": [
    "history = model.fit([X_train_A, X_train_B], [y_train, y_train], epochs=20,\n",
    "                    validation_data=([X_valid_A, X_valid_B], [y_valid, y_valid])) # fit the model"
   ]
  },
  {
   "cell_type": "code",
   "execution_count": 37,
   "metadata": {},
   "outputs": [
    {
     "name": "stdout",
     "output_type": "stream",
     "text": [
      "162/162 [==============================] - 0s 932us/step - loss: 0.4080 - main_output_loss: 0.3832 - aux_output_loss: 0.6308\n"
     ]
    }
   ],
   "source": [
    "total_loss, main_loss, aux_loss = model.evaluate(\n",
    "    [X_test_A, X_test_B], [y_test, y_test])\n",
    "y_pred_main, y_pred_aux = model.predict([X_new_A, X_new_B]) # predicting using aux layer"
   ]
  },
  {
   "cell_type": "markdown",
   "metadata": {},
   "source": [
    "Problem:\n",
    "    Given the photo and the general features such weight, height of an animal,\n",
    "    predict the life span of the animal and paint the pic footprint.\n",
    "    "
   ]
  },
  {
   "cell_type": "markdown",
   "metadata": {},
   "source": [
    "Simple features+pixels of photo->NN-->Output_lifespan(1)+784 pixel"
   ]
  },
  {
   "cell_type": "markdown",
   "metadata": {},
   "source": [
    "photo -> CNN1 --> embedding-> Concat--NN2 --> Output_lifespan(1)\n",
    "Simple features ---------------/\\       \\-----> NN3 (inv CNN)---> Pic Footprint"
   ]
  },
  {
   "cell_type": "markdown",
   "metadata": {},
   "source": [
    "# The subclassing API"
   ]
  },
  {
   "cell_type": "code",
   "execution_count": 38,
   "metadata": {},
   "outputs": [],
   "source": [
    "# Creating the WideAndDeepModel using subclassing\n",
    "\n",
    "class WideAndDeepModel(keras.models.Model):\n",
    "    def __init__(self, units=30, activation=\"relu\", **kwargs):\n",
    "        super().__init__(**kwargs)\n",
    "        self.hidden1 = keras.layers.Dense(units, activation=activation)\n",
    "        self.hidden2 = keras.layers.Dense(units, activation=activation)\n",
    "        self.main_output = keras.layers.Dense(1)\n",
    "        self.aux_output = keras.layers.Dense(1)\n",
    "        \n",
    "    def call(self, inputs):\n",
    "        input_A, input_B = inputs\n",
    "        hidden1 = self.hidden1(input_B)\n",
    "        hidden2 = self.hidden2(hidden1)\n",
    "        concat = keras.layers.concatenate([input_A, hidden2])\n",
    "        main_output = self.main_output(concat)\n",
    "        aux_output = self.aux_output(hidden2)\n",
    "        return main_output, aux_output\n",
    "\n",
    "model = WideAndDeepModel(30, activation=\"relu\")"
   ]
  },
  {
   "cell_type": "code",
   "execution_count": 39,
   "metadata": {
    "scrolled": true
   },
   "outputs": [
    {
     "name": "stderr",
     "output_type": "stream",
     "text": [
      "/usr/local/anaconda/envs/tensorflow2/lib/python3.6/site-packages/keras/optimizer_v2/optimizer_v2.py:356: UserWarning: The `lr` argument is deprecated, use `learning_rate` instead.\n",
      "  \"The `lr` argument is deprecated, use `learning_rate` instead.\")\n"
     ]
    },
    {
     "name": "stdout",
     "output_type": "stream",
     "text": [
      "Epoch 1/10\n",
      "363/363 [==============================] - 1s 2ms/step - loss: 2.4779 - output_1_loss: 2.2495 - output_2_loss: 4.5334 - val_loss: 2.3091 - val_output_1_loss: 2.1650 - val_output_2_loss: 3.6064\n",
      "Epoch 2/10\n",
      "363/363 [==============================] - 1s 2ms/step - loss: 1.0367 - output_1_loss: 0.8524 - output_2_loss: 2.6948 - val_loss: 1.1543 - val_output_1_loss: 0.9436 - val_output_2_loss: 3.0508\n",
      "Epoch 3/10\n",
      "363/363 [==============================] - 1s 2ms/step - loss: 0.8111 - output_1_loss: 0.6882 - output_2_loss: 1.9164 - val_loss: 0.8972 - val_output_1_loss: 0.6708 - val_output_2_loss: 2.9343\n",
      "Epoch 4/10\n",
      "363/363 [==============================] - 1s 2ms/step - loss: 0.7203 - output_1_loss: 0.6216 - output_2_loss: 1.6083 - val_loss: 0.8175 - val_output_1_loss: 0.5908 - val_output_2_loss: 2.8576\n",
      "Epoch 5/10\n",
      "363/363 [==============================] - 1s 2ms/step - loss: 0.6718 - output_1_loss: 0.5819 - output_2_loss: 1.4805 - val_loss: 0.7650 - val_output_1_loss: 0.5440 - val_output_2_loss: 2.7535\n",
      "Epoch 6/10\n",
      "363/363 [==============================] - 1s 2ms/step - loss: 0.6404 - output_1_loss: 0.5542 - output_2_loss: 1.4164 - val_loss: 0.7292 - val_output_1_loss: 0.5186 - val_output_2_loss: 2.6250\n",
      "Epoch 7/10\n",
      "363/363 [==============================] - 1s 2ms/step - loss: 0.6174 - output_1_loss: 0.5332 - output_2_loss: 1.3752 - val_loss: 0.6941 - val_output_1_loss: 0.4962 - val_output_2_loss: 2.4752\n",
      "Epoch 8/10\n",
      "363/363 [==============================] - 1s 2ms/step - loss: 0.5992 - output_1_loss: 0.5169 - output_2_loss: 1.3405 - val_loss: 0.6642 - val_output_1_loss: 0.4795 - val_output_2_loss: 2.3269\n",
      "Epoch 9/10\n",
      "363/363 [==============================] - 1s 2ms/step - loss: 0.5837 - output_1_loss: 0.5029 - output_2_loss: 1.3106 - val_loss: 0.6393 - val_output_1_loss: 0.4672 - val_output_2_loss: 2.1884\n",
      "Epoch 10/10\n",
      "363/363 [==============================] - 1s 2ms/step - loss: 0.5704 - output_1_loss: 0.4912 - output_2_loss: 1.2830 - val_loss: 0.6155 - val_output_1_loss: 0.4558 - val_output_2_loss: 2.0534\n",
      "162/162 [==============================] - 0s 1ms/step - loss: 0.5569 - output_1_loss: 0.4791 - output_2_loss: 1.2571\n",
      "WARNING:tensorflow:5 out of the last 5 calls to <function Model.make_predict_function.<locals>.predict_function at 0x7f1dfaea3d08> triggered tf.function retracing. Tracing is expensive and the excessive number of tracings could be due to (1) creating @tf.function repeatedly in a loop, (2) passing tensors with different shapes, (3) passing Python objects instead of tensors. For (1), please define your @tf.function outside of the loop. For (2), @tf.function has experimental_relax_shapes=True option that relaxes argument shapes that can avoid unnecessary retracing. For (3), please refer to https://www.tensorflow.org/guide/function#controlling_retracing and https://www.tensorflow.org/api_docs/python/tf/function for  more details.\n"
     ]
    }
   ],
   "source": [
    "# Compiling, evaluating, and predicting the model\n",
    "\n",
    "model.compile(loss=\"mse\", loss_weights=[0.9, 0.1], optimizer=keras.optimizers.SGD(lr=1e-3))\n",
    "history = model.fit((X_train_A, X_train_B), (y_train, y_train), epochs=10,\n",
    "                    validation_data=((X_valid_A, X_valid_B), (y_valid, y_valid)))\n",
    "total_loss, main_loss, aux_loss = model.evaluate((X_test_A, X_test_B), (y_test, y_test))\n",
    "y_pred_main, y_pred_aux = model.predict((X_new_A, X_new_B))"
   ]
  },
  {
   "cell_type": "code",
   "execution_count": 79,
   "metadata": {},
   "outputs": [],
   "source": [
    "model = WideAndDeepModel(30, activation=\"relu\") # creating an instance of the WideAndDeepModel"
   ]
  },
  {
   "cell_type": "markdown",
   "metadata": {},
   "source": [
    "# Saving and Restoring"
   ]
  },
  {
   "cell_type": "code",
   "execution_count": 7,
   "metadata": {},
   "outputs": [],
   "source": [
    "import tensorflow as tf\n",
    "from tensorflow import keras\n",
    "import numpy as np\n",
    "\n",
    "from sklearn.datasets import fetch_california_housing\n",
    "from sklearn.model_selection import train_test_split\n",
    "from sklearn.preprocessing import StandardScaler\n",
    "\n",
    "housing = fetch_california_housing() # loading the California Housing dataset\n",
    "\n",
    "X_train_full, X_test, y_train_full, y_test = train_test_split(housing.data, housing.target, random_state=42) # test and train\n",
    "X_train, X_valid, y_train, y_valid = train_test_split(X_train_full, y_train_full, random_state=42) # training and validation\n",
    "\n",
    "# Using the StandardScaler to scale the dataset\n",
    "\n",
    "scaler = StandardScaler()\n",
    "X_train = scaler.fit_transform(X_train)\n",
    "X_valid = scaler.transform(X_valid)\n",
    "X_test = scaler.transform(X_test)"
   ]
  },
  {
   "cell_type": "code",
   "execution_count": 8,
   "metadata": {},
   "outputs": [],
   "source": [
    "np.random.seed(42)\n",
    "tf.random.set_seed(42)"
   ]
  },
  {
   "cell_type": "code",
   "execution_count": 9,
   "metadata": {},
   "outputs": [],
   "source": [
    "# creating a model to demonstrate saving and restoring\n",
    "\n",
    "model = keras.models.Sequential([\n",
    "    keras.layers.Dense(30, activation=\"relu\", input_shape=[8]),\n",
    "    keras.layers.Dense(30, activation=\"relu\"),\n",
    "    keras.layers.Dense(1)\n",
    "])"
   ]
  },
  {
   "cell_type": "code",
   "execution_count": 10,
   "metadata": {
    "scrolled": false
   },
   "outputs": [
    {
     "name": "stderr",
     "output_type": "stream",
     "text": [
      "/usr/local/anaconda/envs/tensorflow2/lib/python3.6/site-packages/keras/optimizer_v2/optimizer_v2.py:356: UserWarning: The `lr` argument is deprecated, use `learning_rate` instead.\n",
      "  \"The `lr` argument is deprecated, use `learning_rate` instead.\")\n"
     ]
    },
    {
     "name": "stdout",
     "output_type": "stream",
     "text": [
      "363/363 [==============================] - 1s 2ms/step - loss: 1.8866 - val_loss: 0.7126\n",
      "162/162 [==============================] - 0s 962us/step - loss: 0.7174\n"
     ]
    }
   ],
   "source": [
    "model.compile(loss=\"mse\", optimizer=keras.optimizers.SGD(lr=1e-3)) # compile the model\n",
    "history = model.fit(X_train, y_train, epochs=1, validation_data=(X_valid, y_valid)) # fit the model\n",
    "mse_test = model.evaluate(X_test, y_test) # evalutate the model"
   ]
  },
  {
   "cell_type": "code",
   "execution_count": 6,
   "metadata": {},
   "outputs": [],
   "source": []
  },
  {
   "cell_type": "code",
   "execution_count": 11,
   "metadata": {},
   "outputs": [],
   "source": [
    "model.save(\"/tmp/my_keras_model_1.h5\") # Saving the model"
   ]
  },
  {
   "cell_type": "code",
   "execution_count": 84,
   "metadata": {},
   "outputs": [
    {
     "name": "stdout",
     "output_type": "stream",
     "text": [
      "TREE\r\n",
      "HEAP\r\n",
      "model_weights\r\n",
      "optimizer_weights\r\n",
      "keras_version\r\n",
      "backend\r\n",
      "model_config\r\n",
      "training_config\r\n",
      "TREE\r\n",
      "HEAP\r\n",
      "dense_25\r\n",
      "dense_26\r\n",
      "dense_27\r\n",
      "layer_names\r\n",
      "GCOL\r\n",
      "2.6.0\r\n",
      "tensorflow\r\n",
      "{\"class_name\": \"Sequential\", \"config\": {\"name\": \"sequential_2\", \"layers\": [{\"class_name\": \"InputLayer\", \"config\": {\"batch_input_shape\": [null, 8], \"dtype\": \"float32\", \"sparse\": false, \"ragged\": false, \"name\": \"dense_25_input\"}}, {\"class_name\": \"Dense\", \"config\": {\"name\": \"dense_25\", \"trainable\": true, \"batch_input_shape\": [null, 8], \"dtype\": \"float32\", \"units\": 30, \"activation\": \"relu\", \"use_bias\": true, \"kernel_initializer\": {\"class_name\": \"GlorotUniform\", \"config\": {\"seed\": null}}, \"bias_initializer\": {\"class_name\": \"Zeros\", \"config\": {}}, \"kernel_regularizer\": null, \"bias_regularizer\": null, \"activity_regularizer\": null, \"kernel_constraint\": null, \"bias_constraint\": null}}, {\"class_name\": \"Dense\", \"config\": {\"name\": \"dense_26\", \"trainable\": true, \"dtype\": \"float32\", \"units\": 30, \"activation\": \"relu\", \"use_bias\": true, \"kernel_initializer\": {\"class_name\": \"GlorotUniform\", \"config\": {\"seed\": null}}, \"bias_initializer\": {\"class_name\": \"Zeros\", \"config\": {}}, \"kernel_regularizer\": null, \"bias_regularizer\": null, \"activity_regularizer\": null, \"kernel_constraint\": null, \"bias_constraint\": null}}, {\"class_name\": \"Dense\", \"config\": {\"name\": \"dense_27\", \"trainable\": true, \"dtype\": \"float32\", \"units\": 1, \"activation\": \"linear\", \"use_bias\": true, \"kernel_initializer\": {\"class_name\": \"GlorotUniform\", \"config\": {\"seed\": null}}, \"bias_initializer\": {\"class_name\": \"Zeros\", \"config\": {}}, \"kernel_regularizer\": null, \"bias_regularizer\": null, \"activity_regularizer\": null, \"kernel_constraint\": null, \"bias_constraint\": null}}]}}\r\n",
      "{\"loss\": \"mse\", \"metrics\": null, \"weighted_metrics\": null, \"loss_weights\": null, \"optimizer_config\": {\"class_name\": \"SGD\", \"config\": {\"name\": \"SGD\", \"learning_rate\": 0.0010000000474974513, \"decay\": 0.0, \"momentum\": 0.0, \"nesterov\": false}}}\r\n",
      "dense_27\r\n",
      "dense_26\r\n",
      "dense_25\r\n",
      "tensorflow\r\n",
      "2.6.0\r\n",
      "dense_25/bias:0\r\n",
      "dense_25/kernel:0\r\n",
      "dense_26/bias:0\r\n",
      "dense_26/kernel:0\r\n",
      "dense_27/bias:0\r\n",
      "dense_27/kernel:0\r\n",
      "SGD/iter:0\r\n",
      "SNOD\r\n",
      "backend\r\n",
      "keras_version\r\n",
      "TREE\r\n",
      "HEAP\r\n",
      "dense_25\r\n",
      "SNOD\r\n",
      "weight_names\r\n",
      "TREE\r\n",
      "HEAP\r\n",
      "kernel:0\r\n",
      "bias:0\r\n",
      "SNOD\r\n",
      "c8Fe\r\n",
      "SNOD\r\n",
      ".>ihw\r\n",
      ",t>Y\t\r\n",
      "'sb>\r\n",
      "@K@>\r\n",
      "=@.0>\r\n",
      "y<=s\r\n",
      "F>Em\r\n",
      "a>bvC\r\n",
      "6>m\"\r\n",
      "5yM=\r\n",
      "MO>6\r\n",
      ">\tUP>\r\n",
      ";9^!\r\n",
      "=v^z>\r\n",
      "b=R8\r\n",
      "&o=!\r\n",
      "~>_M\r\n",
      "4>YQ\r\n",
      "Y;wi*?k\r\n",
      "c8Fe\r\n",
      "TREE\r\n",
      "HEAP\r\n",
      "dense_26\r\n",
      "weight_names\r\n",
      "TREE\r\n",
      "HEAP\r\n",
      "kernel:0\r\n",
      "bias:0\r\n",
      "SNOD\r\n",
      "c8Fe\r\n",
      "SNOD\r\n",
      "c>M1p\r\n",
      "e>*%{>\r\n",
      "I>_[\r\n",
      "?5h>\r\n",
      "=wpP\r\n",
      "Y?L>\r\n",
      "No<>\r\n",
      "uW>9\r\n",
      "#c>W\r\n",
      "=;Ld>x![\r\n",
      "Jm<G\r\n",
      "Zk>/\r\n",
      ">j4@\r\n",
      "My%>z\r\n",
      "=UOL>2\r\n",
      "2~>=\r\n",
      "&=K\",\r\n",
      "6>?r\r\n",
      "-w>t\r\n",
      "%kl>H9\r\n",
      "= 0f>M\"<\r\n",
      "l>~e\r\n",
      "@>)O4>S<9>*=_\r\n",
      ">2u+>$\r\n",
      ":=CO\r\n",
      "=OQj\r\n",
      "Fh=6\r\n",
      "4m/>\r\n",
      "@d>O(\r\n",
      ">\\j/>|!\r\n",
      "M>x1\r\n",
      "&g<D\r\n",
      "sP>]\r\n",
      "\t>i1;>\r\n",
      "h)>R\r\n",
      "^>ha\r\n",
      "=W%4\r\n",
      "=Q9Y\r\n",
      ">u|^\r\n",
      "\t\t>D\r\n",
      "hn=8\r\n",
      "i;DE*=\r\n",
      "Jx2>XT\r\n",
      "vWD>\r\n",
      "Hi4>\r\n",
      "=dX,>tyA>v\r\n",
      "n>W/->\r\n",
      "d`#>\r\n",
      "D{>Y\r\n",
      "oW->>Zu\r\n",
      ">J3`\r\n",
      "v=Wj;=\r\n",
      "9@/a\r\n",
      "[C>$p\r\n",
      "iB'>\r\n",
      "0< U\r\n",
      "E<p2\r\n",
      ">PaA\r\n",
      "=piT>\r\n",
      ">~~8>v\r\n",
      "c8Fe\r\n",
      "TREE\r\n",
      "HEAP\r\n",
      "dense_27\r\n",
      "weight_names\r\n",
      "TREE\r\n",
      "HEAP\r\n",
      "kernel:0\r\n",
      "bias:0\r\n",
      "SNOD\r\n",
      "c8Fe\r\n",
      "SNOD\r\n",
      "c8Fe\r\n",
      "TREE\r\n",
      "HEAP\r\n",
      "weight_names\r\n",
      "TREE\r\n",
      "HEAP\r\n",
      "iter:0\r\n",
      "SNOD\r\n",
      "c8Fe\r\n",
      "SNOD\r\n"
     ]
    }
   ],
   "source": [
    "!strings my_keras_model.h5"
   ]
  },
  {
   "cell_type": "code",
   "execution_count": 14,
   "metadata": {},
   "outputs": [],
   "source": [
    "model1 = keras.models.load_model(\"/tmp/my_keras_model_1.h5\") # Loading the model"
   ]
  },
  {
   "cell_type": "code",
   "execution_count": 15,
   "metadata": {},
   "outputs": [
    {
     "ename": "NameError",
     "evalue": "name 'X_new' is not defined",
     "output_type": "error",
     "traceback": [
      "\u001b[0;31m---------------------------------------------------------------------------\u001b[0m",
      "\u001b[0;31mNameError\u001b[0m                                 Traceback (most recent call last)",
      "\u001b[0;32m<ipython-input-15-613f551b0258>\u001b[0m in \u001b[0;36m<module>\u001b[0;34m\u001b[0m\n\u001b[0;32m----> 1\u001b[0;31m \u001b[0mmodel\u001b[0m\u001b[0;34m.\u001b[0m\u001b[0mpredict\u001b[0m\u001b[0;34m(\u001b[0m\u001b[0mX_new\u001b[0m\u001b[0;34m)\u001b[0m \u001b[0;31m# predicting using the model\u001b[0m\u001b[0;34m\u001b[0m\u001b[0;34m\u001b[0m\u001b[0m\n\u001b[0m",
      "\u001b[0;31mNameError\u001b[0m: name 'X_new' is not defined"
     ]
    }
   ],
   "source": [
    "model.predict(X_new) # predicting using the model"
   ]
  },
  {
   "cell_type": "code",
   "execution_count": 26,
   "metadata": {},
   "outputs": [],
   "source": [
    "model.save_weights(\"my_keras_weights.ckpt\") # saving the weights"
   ]
  },
  {
   "cell_type": "code",
   "execution_count": 27,
   "metadata": {},
   "outputs": [
    {
     "data": {
      "text/plain": [
       "<tensorflow.python.training.tracking.util.CheckpointLoadStatus at 0x7f05ab5569b0>"
      ]
     },
     "execution_count": 27,
     "metadata": {},
     "output_type": "execute_result"
    }
   ],
   "source": [
    "model.load_weights(\"my_keras_weights.ckpt\") # loading the saved weights"
   ]
  },
  {
   "cell_type": "code",
   "execution_count": 28,
   "metadata": {},
   "outputs": [
    {
     "name": "stdout",
     "output_type": "stream",
     "text": [
      "-rw-r--r-- 1 sandeepgiri9034 sandeepgiri9034 23K Jan 21 04:34 /tmp/my_keras_model_1.h5\r\n"
     ]
    }
   ],
   "source": [
    "!ls -lh /tmp/my_keras_model_1.h5"
   ]
  },
  {
   "cell_type": "code",
   "execution_count": 30,
   "metadata": {},
   "outputs": [
    {
     "name": "stdout",
     "output_type": "stream",
     "text": [
      "ls: cannot access my_keras_weights.ckpt: No such file or directory\r\n"
     ]
    }
   ],
   "source": [
    "!ls -lh my_keras_weights.ckpt"
   ]
  },
  {
   "cell_type": "markdown",
   "metadata": {},
   "source": [
    "# Using Callbacks during Training"
   ]
  },
  {
   "cell_type": "code",
   "execution_count": 20,
   "metadata": {},
   "outputs": [],
   "source": [
    "# Clearing previous session and\n",
    "# generating random seed and setting\n",
    "# the random seed\n",
    "\n",
    "keras.backend.clear_session()\n",
    "np.random.seed(42)\n",
    "tf.random.set_seed(42)"
   ]
  },
  {
   "cell_type": "code",
   "execution_count": 21,
   "metadata": {},
   "outputs": [],
   "source": [
    "# Defining the model to demostrate callbacks\n",
    "\n",
    "model = keras.models.Sequential([\n",
    "    keras.layers.Dense(30, activation=\"relu\", input_shape=[8]),\n",
    "    keras.layers.Dense(30, activation=\"relu\"),\n",
    "    keras.layers.Dense(1)\n",
    "])    "
   ]
  },
  {
   "cell_type": "code",
   "execution_count": 91,
   "metadata": {
    "scrolled": true
   },
   "outputs": [
    {
     "name": "stdout",
     "output_type": "stream",
     "text": [
      "Epoch 1/10\n",
      "363/363 [==============================] - 1s 2ms/step - loss: 1.8866 - val_loss: 0.7126\n",
      "Epoch 2/10\n",
      "363/363 [==============================] - 1s 1ms/step - loss: 0.6577 - val_loss: 0.6880\n",
      "Epoch 3/10\n",
      "363/363 [==============================] - 1s 1ms/step - loss: 0.5934 - val_loss: 0.5803\n",
      "Epoch 4/10\n",
      "363/363 [==============================] - 1s 1ms/step - loss: 0.5557 - val_loss: 0.5166\n",
      "Epoch 5/10\n",
      "363/363 [==============================] - 1s 1ms/step - loss: 0.5272 - val_loss: 0.4895\n",
      "Epoch 6/10\n",
      "363/363 [==============================] - 1s 1ms/step - loss: 0.5033 - val_loss: 0.4951\n",
      "Epoch 7/10\n",
      "363/363 [==============================] - 1s 1ms/step - loss: 0.4854 - val_loss: 0.4861\n",
      "Epoch 8/10\n",
      "363/363 [==============================] - 1s 2ms/step - loss: 0.4709 - val_loss: 0.4554\n",
      "Epoch 9/10\n",
      "363/363 [==============================] - 1s 1ms/step - loss: 0.4578 - val_loss: 0.4413\n",
      "Epoch 10/10\n",
      "363/363 [==============================] - 1s 2ms/step - loss: 0.4474 - val_loss: 0.4379\n",
      "162/162 [==============================] - 0s 924us/step - loss: 0.4382\n"
     ]
    }
   ],
   "source": [
    "model.compile(loss=\"mse\", optimizer=keras.optimizers.SGD(lr=1e-3))\n",
    "checkpoint_cb = keras.callbacks.ModelCheckpoint(\"my_keras_model.h5\", save_best_only=True) # saving the best model checkpoint\n",
    "history = model.fit(X_train, y_train, epochs=10,\n",
    "                    validation_data=(X_valid, y_valid),\n",
    "                    callbacks=[checkpoint_cb]) # using the callback\n",
    "model = keras.models.load_model(\"my_keras_model.h5\") # rollback to best model\n",
    "mse_test = model.evaluate(X_test, y_test)"
   ]
  },
  {
   "cell_type": "code",
   "execution_count": 92,
   "metadata": {},
   "outputs": [
    {
     "name": "stdout",
     "output_type": "stream",
     "text": [
      "my_keras_model.h5\r\n"
     ]
    }
   ],
   "source": [
    "!ls my_keras_model.h5"
   ]
  },
  {
   "cell_type": "code",
   "execution_count": 94,
   "metadata": {},
   "outputs": [
    {
     "name": "stdout",
     "output_type": "stream",
     "text": [
      "Epoch 1/20\n",
      "363/363 [==============================] - 1s 2ms/step - loss: 0.3977 - val_loss: 0.3718\n",
      "Epoch 2/20\n",
      "363/363 [==============================] - 1s 1ms/step - loss: 0.3949 - val_loss: 0.3704\n",
      "Epoch 3/20\n",
      "363/363 [==============================] - 1s 1ms/step - loss: 0.3923 - val_loss: 0.3671\n",
      "Epoch 4/20\n",
      "363/363 [==============================] - 1s 1ms/step - loss: 0.3897 - val_loss: 0.3653\n",
      "Epoch 5/20\n",
      "363/363 [==============================] - 1s 1ms/step - loss: 0.3874 - val_loss: 0.3628\n",
      "Epoch 6/20\n",
      "363/363 [==============================] - 1s 1ms/step - loss: 0.3851 - val_loss: 0.3605\n",
      "Epoch 7/20\n",
      "363/363 [==============================] - 1s 1ms/step - loss: 0.3829 - val_loss: 0.3583\n",
      "Epoch 8/20\n",
      "363/363 [==============================] - 1s 1ms/step - loss: 0.3809 - val_loss: 0.3575\n",
      "Epoch 9/20\n",
      "363/363 [==============================] - 1s 1ms/step - loss: 0.3788 - val_loss: 0.3563\n",
      "Epoch 10/20\n",
      "363/363 [==============================] - 1s 1ms/step - loss: 0.3767 - val_loss: 0.3538\n",
      "Epoch 11/20\n",
      "363/363 [==============================] - 1s 1ms/step - loss: 0.3750 - val_loss: 0.3510\n",
      "Epoch 12/20\n",
      "363/363 [==============================] - 1s 1ms/step - loss: 0.3732 - val_loss: 0.3556\n",
      "Epoch 13/20\n",
      "363/363 [==============================] - 0s 1ms/step - loss: 0.3715 - val_loss: 0.3522\n",
      "Epoch 14/20\n",
      "363/363 [==============================] - 1s 1ms/step - loss: 0.3699 - val_loss: 0.3472\n",
      "Epoch 15/20\n",
      "363/363 [==============================] - 1s 1ms/step - loss: 0.3685 - val_loss: 0.3614\n",
      "Epoch 16/20\n",
      "363/363 [==============================] - 1s 1ms/step - loss: 0.3672 - val_loss: 0.3450\n",
      "Epoch 17/20\n",
      "363/363 [==============================] - 1s 1ms/step - loss: 0.3660 - val_loss: 0.3600\n",
      "Epoch 18/20\n",
      "363/363 [==============================] - 1s 1ms/step - loss: 0.3647 - val_loss: 0.3510\n",
      "Epoch 19/20\n",
      "363/363 [==============================] - 1s 1ms/step - loss: 0.3633 - val_loss: 0.3459\n",
      "Epoch 20/20\n",
      "363/363 [==============================] - 1s 1ms/step - loss: 0.3624 - val_loss: 0.3842\n",
      "162/162 [==============================] - 0s 921us/step - loss: 0.3607\n"
     ]
    }
   ],
   "source": [
    "model.compile(loss=\"mse\", optimizer=keras.optimizers.SGD(lr=1e-3))\n",
    "early_stopping_cb = keras.callbacks.EarlyStopping(patience=5,\n",
    "                                                  restore_best_weights=True) # saving early stopping\n",
    "history = model.fit(X_train, y_train, epochs=20,\n",
    "                    validation_data=(X_valid, y_valid),\n",
    "                    callbacks=[checkpoint_cb, early_stopping_cb]) # using the callback for checkpoint, and early stopping\n",
    "mse_test = model.evaluate(X_test, y_test)"
   ]
  },
  {
   "cell_type": "code",
   "execution_count": 95,
   "metadata": {},
   "outputs": [
    {
     "name": "stdout",
     "output_type": "stream",
     "text": [
      "121/121 [==============================] - 0s 930us/step - loss: 0.3842\n"
     ]
    }
   ],
   "source": [
    "mse_test = model.evaluate(X_valid, y_valid)"
   ]
  },
  {
   "cell_type": "code",
   "execution_count": 96,
   "metadata": {},
   "outputs": [],
   "source": [
    "# Creating custom callback\n",
    "\n",
    "class PrintValTrainRatioCallback(keras.callbacks.Callback):\n",
    "    def on_epoch_end(self, epoch, logs):\n",
    "        print(\"\\n SG :: val/train: {:.2f}\".format(logs[\"val_loss\"] / logs[\"loss\"]))"
   ]
  },
  {
   "cell_type": "code",
   "execution_count": 97,
   "metadata": {},
   "outputs": [
    {
     "name": "stdout",
     "output_type": "stream",
     "text": [
      "Epoch 1/5\n",
      "363/363 [==============================] - 1s 2ms/step - loss: 0.3613 - val_loss: 0.3490\n",
      "\n",
      " SG :: val/train: 0.97\n",
      "Epoch 2/5\n",
      "363/363 [==============================] - 1s 2ms/step - loss: 0.3600 - val_loss: 0.3741\n",
      "\n",
      " SG :: val/train: 1.04\n",
      "Epoch 3/5\n",
      "363/363 [==============================] - 1s 1ms/step - loss: 0.3591 - val_loss: 0.3520\n",
      "\n",
      " SG :: val/train: 0.98\n",
      "Epoch 4/5\n",
      "363/363 [==============================] - 1s 1ms/step - loss: 0.3582 - val_loss: 0.3430\n",
      "\n",
      " SG :: val/train: 0.96\n",
      "Epoch 5/5\n",
      "363/363 [==============================] - 1s 1ms/step - loss: 0.3571 - val_loss: 0.3457\n",
      "\n",
      " SG :: val/train: 0.97\n"
     ]
    }
   ],
   "source": [
    "val_train_ratio_cb = PrintValTrainRatioCallback() # calling the custom callback\n",
    "history = model.fit(X_train, y_train, epochs=5,\n",
    "                    validation_data=(X_valid, y_valid),\n",
    "                    callbacks=[val_train_ratio_cb]) # fitting the model using the custom callback"
   ]
  },
  {
   "cell_type": "code",
   "execution_count": 23,
   "metadata": {},
   "outputs": [
    {
     "name": "stdout",
     "output_type": "stream",
     "text": [
      "Epoch 1/100\n",
      "363/363 [==============================] - 1s 2ms/step - loss: 0.3448 - val_loss: 0.3539\n",
      "Epoch 2/100\n",
      "363/363 [==============================] - 1s 2ms/step - loss: 0.3443 - val_loss: 0.3587\n",
      "Epoch 3/100\n",
      "363/363 [==============================] - 1s 2ms/step - loss: 0.3438 - val_loss: 0.3445\n",
      "Epoch 4/100\n",
      "363/363 [==============================] - 1s 2ms/step - loss: 0.3435 - val_loss: 0.3291\n",
      "Epoch 5/100\n",
      "363/363 [==============================] - 1s 1ms/step - loss: 0.3429 - val_loss: 0.3374\n",
      "Epoch 6/100\n",
      "363/363 [==============================] - 1s 2ms/step - loss: 0.3424 - val_loss: 0.3400\n",
      "Epoch 7/100\n",
      "363/363 [==============================] - 1s 1ms/step - loss: 0.3419 - val_loss: 0.3305\n",
      "Epoch 8/100\n",
      "363/363 [==============================] - 1s 1ms/step - loss: 0.3415 - val_loss: 0.3288\n",
      "Epoch 9/100\n",
      "363/363 [==============================] - 1s 1ms/step - loss: 0.3410 - val_loss: 0.3471\n",
      "Epoch 10/100\n",
      "363/363 [==============================] - 1s 1ms/step - loss: 0.3405 - val_loss: 0.3421\n",
      "Epoch 11/100\n",
      "363/363 [==============================] - 1s 1ms/step - loss: 0.3401 - val_loss: 0.3216\n",
      "Epoch 12/100\n",
      "363/363 [==============================] - 1s 1ms/step - loss: 0.3396 - val_loss: 0.3885\n",
      "Epoch 13/100\n",
      "363/363 [==============================] - 1s 1ms/step - loss: 0.3393 - val_loss: 0.3279\n",
      "Epoch 14/100\n",
      "363/363 [==============================] - 1s 2ms/step - loss: 0.3387 - val_loss: 0.3246\n",
      "Epoch 15/100\n",
      "363/363 [==============================] - 1s 1ms/step - loss: 0.3382 - val_loss: 0.3551\n",
      "Epoch 16/100\n",
      "363/363 [==============================] - 1s 1ms/step - loss: 0.3380 - val_loss: 0.3218\n",
      "162/162 [==============================] - 0s 869us/step - loss: 0.3396\n"
     ]
    }
   ],
   "source": [
    "# SG - Idempotent code\n",
    "keras.backend.clear_session()\n",
    "np.random.seed(42)\n",
    "tf.random.set_seed(42)\n",
    "\n",
    "path = \"my_keras_model.h5\"\n",
    "ck_file = \"my_keras_model_ch_pt.h5\"\n",
    "if os.path.exists(path):\n",
    "    model = keras.models.load_model(path) # Loading the model\n",
    "    if os.path.exists(ck_file):\n",
    "        model.load_weights(ck_file) # loading the saved weights\n",
    "else:\n",
    "    model = keras.models.Sequential([\n",
    "        keras.layers.Dense(30, activation=\"relu\", input_shape=[8]),\n",
    "        keras.layers.Dense(30, activation=\"relu\"),\n",
    "        keras.layers.Dense(1)\n",
    "    ])\n",
    "    model.compile(loss=\"mse\", optimizer=keras.optimizers.SGD(lr=1e-3)) # compile the model\n",
    "    model.save(\"my_keras_model.h5\") # Saving the model\n",
    "\n",
    "checkpoint_cb = keras.callbacks.ModelCheckpoint(ck_file, save_best_only=True) # saving the best model checkpoint\n",
    "early_stopping_cb = keras.callbacks.EarlyStopping(patience=5, restore_best_weights=True) # saving early stopping\n",
    "\n",
    "history = model.fit(X_train, y_train, epochs=100,\n",
    "                    validation_data=(X_valid, y_valid),\n",
    "                    callbacks=[checkpoint_cb, early_stopping_cb]) # using the callback for checkpoint, and early stopping\n",
    "\n",
    "mse_test = model.evaluate(X_test, y_test)\n",
    "\n"
   ]
  },
  {
   "cell_type": "markdown",
   "metadata": {},
   "source": [
    "# TensorBoard"
   ]
  },
  {
   "cell_type": "code",
   "execution_count": 16,
   "metadata": {},
   "outputs": [],
   "source": [
    "import tensorflow as tf\n",
    "from tensorflow import keras\n",
    "import numpy as np\n",
    "\n",
    "from sklearn.datasets import fetch_california_housing\n",
    "from sklearn.model_selection import train_test_split\n",
    "from sklearn.preprocessing import StandardScaler\n",
    "\n",
    "housing = fetch_california_housing() # loading the California Housing dataset\n",
    "\n",
    "X_train_full, X_test, y_train_full, y_test = train_test_split(housing.data, housing.target, random_state=42) # test and train\n",
    "X_train, X_valid, y_train, y_valid = train_test_split(X_train_full, y_train_full, random_state=42) # training and validation\n",
    "\n",
    "# Using the StandardScaler to scale the dataset\n",
    "\n",
    "scaler = StandardScaler()\n",
    "X_train = scaler.fit_transform(X_train)\n",
    "X_valid = scaler.transform(X_valid)\n",
    "X_test = scaler.transform(X_test)"
   ]
  },
  {
   "cell_type": "code",
   "execution_count": 17,
   "metadata": {},
   "outputs": [],
   "source": [
    "root_logdir = os.path.join(os.curdir, \"my_logs\") # defining root log directory"
   ]
  },
  {
   "cell_type": "code",
   "execution_count": 36,
   "metadata": {},
   "outputs": [
    {
     "data": {
      "text/plain": [
       "'./my_logs/run_2024_01_28-04_04_18'"
      ]
     },
     "execution_count": 36,
     "metadata": {},
     "output_type": "execute_result"
    }
   ],
   "source": [
    "# generate a subdirectory path based on the current date\n",
    "# and time so that it’s different at every run\n",
    "\n",
    "def get_run_logdir():\n",
    "    import time\n",
    "    run_id = time.strftime(\"run_%Y_%m_%d-%H_%M_%S\") \n",
    "    return os.path.join(root_logdir, run_id)\n",
    "\n",
    "run_logdir = get_run_logdir()\n",
    "run_logdir"
   ]
  },
  {
   "cell_type": "code",
   "execution_count": 30,
   "metadata": {},
   "outputs": [
    {
     "name": "stdout",
     "output_type": "stream",
     "text": [
      "train  validation\r\n"
     ]
    }
   ],
   "source": [
    "!ls ./my_logs/run_2024_01_28-03_53_07"
   ]
  },
  {
   "cell_type": "code",
   "execution_count": 22,
   "metadata": {},
   "outputs": [
    {
     "name": "stdout",
     "output_type": "stream",
     "text": [
      "/home/sandeepgiri9034/advanced-certification-in-data-science-ai\r\n"
     ]
    }
   ],
   "source": [
    "!pwd"
   ]
  },
  {
   "cell_type": "code",
   "execution_count": 37,
   "metadata": {},
   "outputs": [],
   "source": [
    "keras.backend.clear_session()\n",
    "np.random.seed(42)\n",
    "tf.random.set_seed(42)"
   ]
  },
  {
   "cell_type": "code",
   "execution_count": 38,
   "metadata": {},
   "outputs": [
    {
     "name": "stderr",
     "output_type": "stream",
     "text": [
      "/usr/local/anaconda/envs/tensorflow2/lib/python3.6/site-packages/keras/optimizer_v2/optimizer_v2.py:356: UserWarning: The `lr` argument is deprecated, use `learning_rate` instead.\n",
      "  \"The `lr` argument is deprecated, use `learning_rate` instead.\")\n"
     ]
    }
   ],
   "source": [
    "# defining the model to demostrate Tensorboard functionality\n",
    "\n",
    "model = keras.models.Sequential([\n",
    "    keras.layers.Dense(30, activation=\"relu\", input_shape=[8]),\n",
    "    keras.layers.Dense(30, activation=\"relu\"),\n",
    "    keras.layers.Dense(30, activation=\"relu\"),\n",
    "    keras.layers.Dense(1)\n",
    "])\n",
    "model.compile(loss=\"mse\", optimizer=keras.optimizers.SGD(lr=1e-3)) # compiling the model"
   ]
  },
  {
   "cell_type": "code",
   "execution_count": 39,
   "metadata": {},
   "outputs": [
    {
     "name": "stdout",
     "output_type": "stream",
     "text": [
      "Model: \"sequential\"\n",
      "_________________________________________________________________\n",
      "Layer (type)                 Output Shape              Param #   \n",
      "=================================================================\n",
      "dense (Dense)                (None, 30)                270       \n",
      "_________________________________________________________________\n",
      "dense_1 (Dense)              (None, 30)                930       \n",
      "_________________________________________________________________\n",
      "dense_2 (Dense)              (None, 30)                930       \n",
      "_________________________________________________________________\n",
      "dense_3 (Dense)              (None, 1)                 31        \n",
      "=================================================================\n",
      "Total params: 2,161\n",
      "Trainable params: 2,161\n",
      "Non-trainable params: 0\n",
      "_________________________________________________________________\n"
     ]
    }
   ],
   "source": [
    "model.summary()"
   ]
  },
  {
   "cell_type": "code",
   "execution_count": 40,
   "metadata": {
    "scrolled": true
   },
   "outputs": [
    {
     "name": "stdout",
     "output_type": "stream",
     "text": [
      "The tensorboard extension is already loaded. To reload it, use:\n",
      "  %reload_ext tensorboard\n"
     ]
    }
   ],
   "source": [
    "%load_ext tensorboard"
   ]
  },
  {
   "cell_type": "code",
   "execution_count": 41,
   "metadata": {
    "scrolled": true
   },
   "outputs": [
    {
     "name": "stdout",
     "output_type": "stream",
     "text": [
      "Epoch 1/150\n",
      "363/363 [==============================] - 1s 2ms/step - loss: 2.2779 - val_loss: 1.6831\n",
      "Epoch 2/150\n",
      "363/363 [==============================] - 1s 1ms/step - loss: 0.8083 - val_loss: 0.7846\n",
      "Epoch 3/150\n",
      "363/363 [==============================] - 1s 2ms/step - loss: 0.6376 - val_loss: 0.5802\n",
      "Epoch 4/150\n",
      "363/363 [==============================] - 1s 2ms/step - loss: 0.5831 - val_loss: 0.5377\n",
      "Epoch 5/150\n",
      "363/363 [==============================] - 1s 1ms/step - loss: 0.5474 - val_loss: 0.5037\n",
      "Epoch 6/150\n",
      "363/363 [==============================] - 1s 2ms/step - loss: 0.5176 - val_loss: 0.4804\n",
      "Epoch 7/150\n",
      "363/363 [==============================] - 1s 2ms/step - loss: 0.4940 - val_loss: 0.4659\n",
      "Epoch 8/150\n",
      "363/363 [==============================] - 1s 1ms/step - loss: 0.4746 - val_loss: 0.4444\n",
      "Epoch 9/150\n",
      "363/363 [==============================] - 1s 2ms/step - loss: 0.4585 - val_loss: 0.4269\n",
      "Epoch 10/150\n",
      "363/363 [==============================] - 1s 1ms/step - loss: 0.4455 - val_loss: 0.4122\n",
      "Epoch 11/150\n",
      "363/363 [==============================] - 1s 2ms/step - loss: 0.4353 - val_loss: 0.4002\n",
      "Epoch 12/150\n",
      "363/363 [==============================] - 1s 2ms/step - loss: 0.4268 - val_loss: 0.3928\n",
      "Epoch 13/150\n",
      "363/363 [==============================] - 1s 1ms/step - loss: 0.4197 - val_loss: 0.3908\n",
      "Epoch 14/150\n",
      "363/363 [==============================] - 1s 1ms/step - loss: 0.4138 - val_loss: 0.3894\n",
      "Epoch 15/150\n",
      "363/363 [==============================] - 1s 2ms/step - loss: 0.4088 - val_loss: 0.3900\n",
      "Epoch 16/150\n",
      "363/363 [==============================] - 1s 1ms/step - loss: 0.4043 - val_loss: 0.3906\n",
      "Epoch 17/150\n",
      "363/363 [==============================] - 1s 2ms/step - loss: 0.4005 - val_loss: 0.3910\n",
      "Epoch 18/150\n",
      "363/363 [==============================] - 1s 2ms/step - loss: 0.3970 - val_loss: 0.3923\n",
      "Epoch 19/150\n",
      "363/363 [==============================] - 1s 1ms/step - loss: 0.3936 - val_loss: 0.3916\n",
      "Epoch 20/150\n",
      "363/363 [==============================] - 1s 2ms/step - loss: 0.3912 - val_loss: 0.3993\n",
      "Epoch 21/150\n",
      "363/363 [==============================] - 1s 2ms/step - loss: 0.3881 - val_loss: 0.4021\n",
      "Epoch 22/150\n",
      "363/363 [==============================] - 1s 2ms/step - loss: 0.3860 - val_loss: 0.4052\n",
      "Epoch 23/150\n",
      "363/363 [==============================] - 1s 2ms/step - loss: 0.3834 - val_loss: 0.3915\n",
      "Epoch 24/150\n",
      "363/363 [==============================] - 1s 2ms/step - loss: 0.3815 - val_loss: 0.3933\n",
      "Epoch 25/150\n",
      "363/363 [==============================] - 1s 1ms/step - loss: 0.3793 - val_loss: 0.3987\n",
      "Epoch 26/150\n",
      "363/363 [==============================] - 1s 2ms/step - loss: 0.3777 - val_loss: 0.3996\n",
      "Epoch 27/150\n",
      "363/363 [==============================] - 1s 2ms/step - loss: 0.3761 - val_loss: 0.3926\n",
      "Epoch 28/150\n",
      "363/363 [==============================] - 1s 2ms/step - loss: 0.3746 - val_loss: 0.3940\n",
      "Epoch 29/150\n",
      "363/363 [==============================] - 1s 2ms/step - loss: 0.3731 - val_loss: 0.3879\n",
      "Epoch 30/150\n",
      "363/363 [==============================] - 1s 2ms/step - loss: 0.3718 - val_loss: 0.3893\n",
      "Epoch 31/150\n",
      "363/363 [==============================] - 1s 2ms/step - loss: 0.3698 - val_loss: 0.3858\n",
      "Epoch 32/150\n",
      "363/363 [==============================] - 1s 2ms/step - loss: 0.3687 - val_loss: 0.3934\n",
      "Epoch 33/150\n",
      "363/363 [==============================] - 1s 2ms/step - loss: 0.3678 - val_loss: 0.3842\n",
      "Epoch 34/150\n",
      "363/363 [==============================] - 1s 2ms/step - loss: 0.3664 - val_loss: 0.3820\n",
      "Epoch 35/150\n",
      "363/363 [==============================] - 1s 2ms/step - loss: 0.3652 - val_loss: 0.3876\n",
      "Epoch 36/150\n",
      "363/363 [==============================] - 1s 2ms/step - loss: 0.3640 - val_loss: 0.3758\n",
      "Epoch 37/150\n",
      "363/363 [==============================] - 1s 2ms/step - loss: 0.3629 - val_loss: 0.3805\n",
      "Epoch 38/150\n",
      "363/363 [==============================] - 1s 2ms/step - loss: 0.3619 - val_loss: 0.3751\n",
      "Epoch 39/150\n",
      "363/363 [==============================] - 1s 2ms/step - loss: 0.3609 - val_loss: 0.3753\n",
      "Epoch 40/150\n",
      "363/363 [==============================] - 1s 2ms/step - loss: 0.3598 - val_loss: 0.3765\n",
      "Epoch 41/150\n",
      "363/363 [==============================] - 1s 1ms/step - loss: 0.3590 - val_loss: 0.3807\n",
      "Epoch 42/150\n",
      "363/363 [==============================] - 1s 2ms/step - loss: 0.3582 - val_loss: 0.3807\n",
      "Epoch 43/150\n",
      "363/363 [==============================] - 1s 2ms/step - loss: 0.3567 - val_loss: 0.3848\n",
      "Epoch 44/150\n",
      "363/363 [==============================] - 1s 2ms/step - loss: 0.3560 - val_loss: 0.3903\n",
      "Epoch 45/150\n",
      "363/363 [==============================] - 1s 2ms/step - loss: 0.3553 - val_loss: 0.3724\n",
      "Epoch 46/150\n",
      "363/363 [==============================] - 1s 2ms/step - loss: 0.3542 - val_loss: 0.3745\n",
      "Epoch 47/150\n",
      "363/363 [==============================] - 1s 3ms/step - loss: 0.3536 - val_loss: 0.3734\n",
      "Epoch 48/150\n",
      "363/363 [==============================] - 1s 2ms/step - loss: 0.3528 - val_loss: 0.3818\n",
      "Epoch 49/150\n",
      "363/363 [==============================] - 1s 2ms/step - loss: 0.3519 - val_loss: 0.3770\n",
      "Epoch 50/150\n",
      "363/363 [==============================] - 1s 2ms/step - loss: 0.3511 - val_loss: 0.3652\n",
      "Epoch 51/150\n",
      "363/363 [==============================] - 1s 2ms/step - loss: 0.3504 - val_loss: 0.3756\n",
      "Epoch 52/150\n",
      "363/363 [==============================] - 1s 1ms/step - loss: 0.3497 - val_loss: 0.3646\n",
      "Epoch 53/150\n",
      "363/363 [==============================] - 1s 2ms/step - loss: 0.3490 - val_loss: 0.3753\n",
      "Epoch 54/150\n",
      "363/363 [==============================] - 1s 1ms/step - loss: 0.3480 - val_loss: 0.3724\n",
      "Epoch 55/150\n",
      "363/363 [==============================] - 1s 2ms/step - loss: 0.3477 - val_loss: 0.3645\n",
      "Epoch 56/150\n",
      "363/363 [==============================] - 1s 1ms/step - loss: 0.3469 - val_loss: 0.3696\n",
      "Epoch 57/150\n",
      "363/363 [==============================] - 1s 2ms/step - loss: 0.3461 - val_loss: 0.3645\n",
      "Epoch 58/150\n",
      "363/363 [==============================] - 1s 2ms/step - loss: 0.3455 - val_loss: 0.3708\n",
      "Epoch 59/150\n",
      "363/363 [==============================] - 1s 2ms/step - loss: 0.3450 - val_loss: 0.3704\n",
      "Epoch 60/150\n",
      "363/363 [==============================] - 1s 2ms/step - loss: 0.3444 - val_loss: 0.3746\n",
      "Epoch 61/150\n",
      "363/363 [==============================] - 1s 2ms/step - loss: 0.3433 - val_loss: 0.3830\n",
      "Epoch 62/150\n",
      "363/363 [==============================] - 1s 2ms/step - loss: 0.3432 - val_loss: 0.3730\n",
      "Epoch 63/150\n",
      "363/363 [==============================] - 1s 2ms/step - loss: 0.3418 - val_loss: 0.3789\n",
      "Epoch 64/150\n",
      "363/363 [==============================] - 1s 2ms/step - loss: 0.3419 - val_loss: 0.3668\n",
      "Epoch 65/150\n",
      "363/363 [==============================] - 1s 2ms/step - loss: 0.3411 - val_loss: 0.3650\n",
      "Epoch 66/150\n",
      "363/363 [==============================] - 1s 2ms/step - loss: 0.3405 - val_loss: 0.3654\n",
      "Epoch 67/150\n",
      "363/363 [==============================] - 1s 2ms/step - loss: 0.3397 - val_loss: 0.3719\n",
      "Epoch 68/150\n",
      "363/363 [==============================] - 1s 2ms/step - loss: 0.3391 - val_loss: 0.3710\n",
      "Epoch 69/150\n",
      "363/363 [==============================] - 1s 2ms/step - loss: 0.3388 - val_loss: 0.3723\n",
      "Epoch 70/150\n",
      "363/363 [==============================] - 1s 2ms/step - loss: 0.3379 - val_loss: 0.3727\n",
      "Epoch 71/150\n",
      "363/363 [==============================] - 1s 2ms/step - loss: 0.3374 - val_loss: 0.3812\n",
      "Epoch 72/150\n",
      "363/363 [==============================] - 1s 2ms/step - loss: 0.3368 - val_loss: 0.3753\n",
      "Epoch 73/150\n",
      "363/363 [==============================] - 1s 2ms/step - loss: 0.3359 - val_loss: 0.3637\n",
      "Epoch 74/150\n",
      "363/363 [==============================] - 1s 2ms/step - loss: 0.3358 - val_loss: 0.3790\n",
      "Epoch 75/150\n",
      "363/363 [==============================] - 1s 2ms/step - loss: 0.3350 - val_loss: 0.3774\n",
      "Epoch 76/150\n",
      "363/363 [==============================] - 1s 2ms/step - loss: 0.3346 - val_loss: 0.3714\n",
      "Epoch 77/150\n",
      "363/363 [==============================] - 1s 2ms/step - loss: 0.3337 - val_loss: 0.3815\n",
      "Epoch 78/150\n",
      "363/363 [==============================] - 1s 2ms/step - loss: 0.3334 - val_loss: 0.3774\n",
      "Epoch 79/150\n",
      "363/363 [==============================] - 1s 2ms/step - loss: 0.3328 - val_loss: 0.3771\n",
      "Epoch 80/150\n",
      "363/363 [==============================] - 1s 2ms/step - loss: 0.3323 - val_loss: 0.3752\n",
      "Epoch 81/150\n",
      "363/363 [==============================] - 1s 2ms/step - loss: 0.3316 - val_loss: 0.3741\n",
      "Epoch 82/150\n",
      "363/363 [==============================] - 1s 2ms/step - loss: 0.3310 - val_loss: 0.3599\n",
      "Epoch 83/150\n",
      "363/363 [==============================] - 1s 2ms/step - loss: 0.3306 - val_loss: 0.3577\n",
      "Epoch 84/150\n",
      "363/363 [==============================] - 1s 1ms/step - loss: 0.3300 - val_loss: 0.3776\n",
      "Epoch 85/150\n",
      "363/363 [==============================] - 1s 2ms/step - loss: 0.3295 - val_loss: 0.3678\n",
      "Epoch 86/150\n",
      "363/363 [==============================] - 1s 2ms/step - loss: 0.3292 - val_loss: 0.3561\n",
      "Epoch 87/150\n",
      "363/363 [==============================] - 1s 1ms/step - loss: 0.3286 - val_loss: 0.3693\n",
      "Epoch 88/150\n",
      "363/363 [==============================] - 1s 2ms/step - loss: 0.3279 - val_loss: 0.3705\n",
      "Epoch 89/150\n",
      "363/363 [==============================] - 1s 2ms/step - loss: 0.3275 - val_loss: 0.3802\n",
      "Epoch 90/150\n",
      "363/363 [==============================] - 1s 2ms/step - loss: 0.3272 - val_loss: 0.3833\n",
      "Epoch 91/150\n",
      "363/363 [==============================] - 1s 2ms/step - loss: 0.3268 - val_loss: 0.3722\n",
      "Epoch 92/150\n",
      "363/363 [==============================] - 1s 2ms/step - loss: 0.3263 - val_loss: 0.3760\n",
      "Epoch 93/150\n",
      "363/363 [==============================] - 1s 2ms/step - loss: 0.3257 - val_loss: 0.3755\n",
      "Epoch 94/150\n",
      "363/363 [==============================] - 1s 2ms/step - loss: 0.3254 - val_loss: 0.3696\n",
      "Epoch 95/150\n",
      "363/363 [==============================] - 1s 2ms/step - loss: 0.3248 - val_loss: 0.3707\n",
      "Epoch 96/150\n",
      "363/363 [==============================] - 1s 2ms/step - loss: 0.3241 - val_loss: 0.3780\n",
      "Epoch 97/150\n",
      "363/363 [==============================] - 1s 2ms/step - loss: 0.3242 - val_loss: 0.3766\n",
      "Epoch 98/150\n",
      "363/363 [==============================] - 1s 2ms/step - loss: 0.3238 - val_loss: 0.3638\n",
      "Epoch 99/150\n",
      "363/363 [==============================] - 1s 2ms/step - loss: 0.3232 - val_loss: 0.3505\n",
      "Epoch 100/150\n",
      "363/363 [==============================] - 1s 2ms/step - loss: 0.3227 - val_loss: 0.3647\n",
      "Epoch 101/150\n",
      "363/363 [==============================] - 1s 2ms/step - loss: 0.3224 - val_loss: 0.3684\n",
      "Epoch 102/150\n",
      "363/363 [==============================] - 1s 2ms/step - loss: 0.3220 - val_loss: 0.3633\n",
      "Epoch 103/150\n",
      "363/363 [==============================] - 1s 2ms/step - loss: 0.3214 - val_loss: 0.3610\n",
      "Epoch 104/150\n",
      "363/363 [==============================] - 1s 2ms/step - loss: 0.3210 - val_loss: 0.3690\n",
      "Epoch 105/150\n",
      "363/363 [==============================] - 1s 2ms/step - loss: 0.3207 - val_loss: 0.3695\n",
      "Epoch 106/150\n",
      "363/363 [==============================] - 1s 1ms/step - loss: 0.3202 - val_loss: 0.3628\n",
      "Epoch 107/150\n",
      "363/363 [==============================] - 1s 2ms/step - loss: 0.3198 - val_loss: 0.3579\n",
      "Epoch 108/150\n",
      "363/363 [==============================] - 1s 2ms/step - loss: 0.3190 - val_loss: 0.3534\n",
      "Epoch 109/150\n",
      "363/363 [==============================] - 1s 2ms/step - loss: 0.3187 - val_loss: 0.3676\n",
      "Epoch 110/150\n",
      "363/363 [==============================] - 1s 2ms/step - loss: 0.3187 - val_loss: 0.3664\n",
      "Epoch 111/150\n",
      "363/363 [==============================] - 1s 2ms/step - loss: 0.3181 - val_loss: 0.3527\n",
      "Epoch 112/150\n",
      "363/363 [==============================] - 1s 1ms/step - loss: 0.3178 - val_loss: 0.3517\n",
      "Epoch 113/150\n",
      "363/363 [==============================] - 1s 1ms/step - loss: 0.3175 - val_loss: 0.3501\n",
      "Epoch 114/150\n",
      "363/363 [==============================] - 1s 2ms/step - loss: 0.3172 - val_loss: 0.3455\n",
      "Epoch 115/150\n",
      "363/363 [==============================] - 1s 2ms/step - loss: 0.3163 - val_loss: 0.3702\n",
      "Epoch 116/150\n",
      "363/363 [==============================] - 1s 2ms/step - loss: 0.3164 - val_loss: 0.3490\n",
      "Epoch 117/150\n",
      "363/363 [==============================] - 1s 1ms/step - loss: 0.3160 - val_loss: 0.3529\n",
      "Epoch 118/150\n",
      "363/363 [==============================] - 1s 1ms/step - loss: 0.3156 - val_loss: 0.3390\n",
      "Epoch 119/150\n",
      "363/363 [==============================] - 1s 2ms/step - loss: 0.3150 - val_loss: 0.3582\n",
      "Epoch 120/150\n",
      "363/363 [==============================] - 1s 2ms/step - loss: 0.3148 - val_loss: 0.3591\n",
      "Epoch 121/150\n",
      "363/363 [==============================] - 1s 2ms/step - loss: 0.3146 - val_loss: 0.3570\n",
      "Epoch 122/150\n",
      "363/363 [==============================] - 1s 2ms/step - loss: 0.3142 - val_loss: 0.3409\n",
      "Epoch 123/150\n",
      "363/363 [==============================] - 1s 2ms/step - loss: 0.3140 - val_loss: 0.3489\n",
      "Epoch 124/150\n",
      "363/363 [==============================] - 1s 2ms/step - loss: 0.3136 - val_loss: 0.3502\n",
      "Epoch 125/150\n",
      "363/363 [==============================] - 1s 1ms/step - loss: 0.3133 - val_loss: 0.3434\n",
      "Epoch 126/150\n",
      "363/363 [==============================] - 1s 2ms/step - loss: 0.3129 - val_loss: 0.3363\n",
      "Epoch 127/150\n",
      "363/363 [==============================] - 1s 2ms/step - loss: 0.3121 - val_loss: 0.3438\n",
      "Epoch 128/150\n",
      "363/363 [==============================] - 1s 2ms/step - loss: 0.3124 - val_loss: 0.3392\n",
      "Epoch 129/150\n",
      "363/363 [==============================] - 1s 2ms/step - loss: 0.3120 - val_loss: 0.3378\n",
      "Epoch 130/150\n",
      "363/363 [==============================] - 1s 2ms/step - loss: 0.3117 - val_loss: 0.3452\n",
      "Epoch 131/150\n",
      "363/363 [==============================] - 1s 2ms/step - loss: 0.3112 - val_loss: 0.3474\n",
      "Epoch 132/150\n",
      "363/363 [==============================] - 1s 2ms/step - loss: 0.3108 - val_loss: 0.3520\n",
      "Epoch 133/150\n",
      "363/363 [==============================] - 1s 2ms/step - loss: 0.3105 - val_loss: 0.3502\n",
      "Epoch 134/150\n",
      "363/363 [==============================] - 1s 2ms/step - loss: 0.3103 - val_loss: 0.3442\n",
      "Epoch 135/150\n",
      "363/363 [==============================] - 1s 1ms/step - loss: 0.3102 - val_loss: 0.3341\n",
      "Epoch 136/150\n",
      "363/363 [==============================] - 1s 2ms/step - loss: 0.3094 - val_loss: 0.3507\n",
      "Epoch 137/150\n",
      "363/363 [==============================] - 1s 2ms/step - loss: 0.3091 - val_loss: 0.3348\n",
      "Epoch 138/150\n",
      "363/363 [==============================] - 1s 2ms/step - loss: 0.3087 - val_loss: 0.3459\n",
      "Epoch 139/150\n",
      "363/363 [==============================] - 1s 2ms/step - loss: 0.3087 - val_loss: 0.3453\n",
      "Epoch 140/150\n",
      "363/363 [==============================] - 1s 2ms/step - loss: 0.3084 - val_loss: 0.3541\n",
      "Epoch 141/150\n",
      "363/363 [==============================] - 1s 2ms/step - loss: 0.3082 - val_loss: 0.3349\n",
      "Epoch 142/150\n",
      "363/363 [==============================] - 1s 2ms/step - loss: 0.3078 - val_loss: 0.3387\n",
      "Epoch 143/150\n",
      "363/363 [==============================] - 1s 2ms/step - loss: 0.3075 - val_loss: 0.3385\n",
      "Epoch 144/150\n",
      "363/363 [==============================] - 1s 1ms/step - loss: 0.3074 - val_loss: 0.3465\n",
      "Epoch 145/150\n",
      "363/363 [==============================] - 1s 2ms/step - loss: 0.3069 - val_loss: 0.3426\n",
      "Epoch 146/150\n",
      "363/363 [==============================] - 1s 2ms/step - loss: 0.3068 - val_loss: 0.3321\n",
      "Epoch 147/150\n",
      "363/363 [==============================] - 1s 2ms/step - loss: 0.3064 - val_loss: 0.3465\n",
      "Epoch 148/150\n",
      "363/363 [==============================] - 1s 2ms/step - loss: 0.3063 - val_loss: 0.3450\n",
      "Epoch 149/150\n",
      "363/363 [==============================] - 1s 2ms/step - loss: 0.3055 - val_loss: 0.3540\n",
      "Epoch 150/150\n",
      "363/363 [==============================] - 1s 2ms/step - loss: 0.3055 - val_loss: 0.3334\n"
     ]
    }
   ],
   "source": [
    "tensorboard_cb = keras.callbacks.TensorBoard(run_logdir) # Using Tensorboard callback\n",
    "history = model.fit(X_train, y_train, epochs=150,\n",
    "                    validation_data=(X_valid, y_valid),\n",
    "                    callbacks=[tensorboard_cb])"
   ]
  },
  {
   "cell_type": "code",
   "execution_count": 110,
   "metadata": {},
   "outputs": [
    {
     "data": {
      "text/plain": [
       "ERROR: Could not find `tensorboard`. Please ensure that your PATH\n",
       "contains an executable `tensorboard` program, or explicitly specify\n",
       "the path to a TensorBoard binary by setting the `TENSORBOARD_BINARY`\n",
       "environment variable."
      ]
     },
     "metadata": {},
     "output_type": "display_data"
    }
   ],
   "source": []
  },
  {
   "cell_type": "markdown",
   "metadata": {},
   "source": [
    "To start the TensorBoard server, open a terminal and type below command in terminal\n",
    "\n",
    "```bash\n",
    "/usr/local/anaconda/envs/tensorflow2/bin/tensorboard --logdir=./my_logs --port=4049 --bind_all\n",
    "```\n",
    "\n",
    "If you are getting error that port is already in use, then please use any other port in the range of 4040 to 4140. Once TensorBoard server is started then please go to below url to access it\n",
    "\n",
    "http://your_web_console:your_port_number\n",
    "\n",
    "Replace *your_web_console* with your CloudxLab web console address. Say your console is on f.cloudxlab.com then *your_web_console* will be f.cloudxlab.com. *your_port_number* will be the port on which your TensorBoard server is running. Below is the fully qualified url for accessing your TensorBoard server\n",
    "\n",
    "http://f.cloudxlab.com:4049\n",
    "\n",
    "\n",
    "Once you are done, press Ctrl-C in the terminal window, this will shutdown the TensorBoard server."
   ]
  },
  {
   "cell_type": "code",
   "execution_count": 130,
   "metadata": {},
   "outputs": [
    {
     "data": {
      "text/plain": [
       "'./my_logs/run_2020_07_19-15_43_31'"
      ]
     },
     "execution_count": 130,
     "metadata": {},
     "output_type": "execute_result"
    }
   ],
   "source": [
    "run_logdir2 = get_run_logdir()\n",
    "run_logdir2"
   ]
  },
  {
   "cell_type": "code",
   "execution_count": 131,
   "metadata": {},
   "outputs": [],
   "source": [
    "keras.backend.clear_session()\n",
    "np.random.seed(42)\n",
    "tf.random.set_seed(42)"
   ]
  },
  {
   "cell_type": "code",
   "execution_count": 132,
   "metadata": {},
   "outputs": [],
   "source": [
    "# running another model to compare\n",
    "\n",
    "model = keras.models.Sequential([\n",
    "    keras.layers.Dense(30, activation=\"relu\", input_shape=[8]),\n",
    "    keras.layers.Dense(30, activation=\"relu\"),\n",
    "    keras.layers.Dense(1)\n",
    "])    \n",
    "model.compile(loss=\"mse\", optimizer=keras.optimizers.SGD(lr=0.05))"
   ]
  },
  {
   "cell_type": "code",
   "execution_count": 133,
   "metadata": {},
   "outputs": [
    {
     "name": "stdout",
     "output_type": "stream",
     "text": [
      "Train on 11610 samples, validate on 3870 samples\n",
      "Epoch 1/30\n",
      "11610/11610 [==============================] - 1s 97us/sample - loss: 5.6341 - val_loss: 1.3205\n",
      "Epoch 2/30\n",
      "11610/11610 [==============================] - 1s 67us/sample - loss: 1.2704 - val_loss: 1.0757\n",
      "Epoch 3/30\n",
      "11610/11610 [==============================] - 1s 67us/sample - loss: 0.9370 - val_loss: 0.7769\n",
      "Epoch 4/30\n",
      "11610/11610 [==============================] - 1s 68us/sample - loss: 0.8854 - val_loss: 0.8254\n",
      "Epoch 5/30\n",
      "11610/11610 [==============================] - 1s 66us/sample - loss: 0.9501 - val_loss: 0.9415\n",
      "Epoch 6/30\n",
      "11610/11610 [==============================] - 1s 67us/sample - loss: 0.8283 - val_loss: 0.6111\n",
      "Epoch 7/30\n",
      "11610/11610 [==============================] - 1s 66us/sample - loss: 0.8095 - val_loss: 0.7394\n",
      "Epoch 8/30\n",
      "11610/11610 [==============================] - 1s 67us/sample - loss: 1.1857 - val_loss: 1.0356\n",
      "Epoch 9/30\n",
      "11610/11610 [==============================] - 1s 66us/sample - loss: 0.8920 - val_loss: 0.6564\n",
      "Epoch 10/30\n",
      "11610/11610 [==============================] - 1s 67us/sample - loss: 1.2295 - val_loss: 1.1277\n",
      "Epoch 11/30\n",
      "11610/11610 [==============================] - 1s 66us/sample - loss: 0.8992 - val_loss: 0.6219\n",
      "Epoch 12/30\n",
      "11610/11610 [==============================] - 1s 67us/sample - loss: 0.7697 - val_loss: 0.6959\n",
      "Epoch 13/30\n",
      "11610/11610 [==============================] - 1s 66us/sample - loss: 0.7375 - val_loss: 0.6471\n",
      "Epoch 14/30\n",
      "11610/11610 [==============================] - 1s 67us/sample - loss: 0.9825 - val_loss: 1.0278\n",
      "Epoch 15/30\n",
      "11610/11610 [==============================] - 1s 66us/sample - loss: 0.9653 - val_loss: 0.9092\n",
      "Epoch 16/30\n",
      "11610/11610 [==============================] - 1s 66us/sample - loss: 0.9008 - val_loss: 0.8451\n",
      "Epoch 17/30\n",
      "11610/11610 [==============================] - 1s 67us/sample - loss: 0.7838 - val_loss: 0.5818\n",
      "Epoch 18/30\n",
      "11610/11610 [==============================] - 1s 66us/sample - loss: 0.9960 - val_loss: 1.0598\n",
      "Epoch 19/30\n",
      "11610/11610 [==============================] - 1s 66us/sample - loss: 0.7887 - val_loss: 0.6405\n",
      "Epoch 20/30\n",
      "11610/11610 [==============================] - 1s 67us/sample - loss: 0.5706 - val_loss: 0.5093\n",
      "Epoch 21/30\n",
      "11610/11610 [==============================] - 1s 65us/sample - loss: 0.5192 - val_loss: 0.5457\n",
      "Epoch 22/30\n",
      "11610/11610 [==============================] - 1s 67us/sample - loss: 0.4971 - val_loss: 0.4644\n",
      "Epoch 23/30\n",
      "11610/11610 [==============================] - 1s 67us/sample - loss: 0.4815 - val_loss: 0.4120\n",
      "Epoch 24/30\n",
      "11610/11610 [==============================] - 1s 68us/sample - loss: 0.4678 - val_loss: 0.4853\n",
      "Epoch 25/30\n",
      "11610/11610 [==============================] - 1s 68us/sample - loss: 0.4490 - val_loss: 0.3972\n",
      "Epoch 26/30\n",
      "11610/11610 [==============================] - 1s 72us/sample - loss: 0.4348 - val_loss: 0.4258\n",
      "Epoch 27/30\n",
      "11610/11610 [==============================] - 1s 74us/sample - loss: 0.4377 - val_loss: 0.3829\n",
      "Epoch 28/30\n",
      "11610/11610 [==============================] - 1s 72us/sample - loss: 0.4353 - val_loss: 0.3860\n",
      "Epoch 29/30\n",
      "11610/11610 [==============================] - 1s 73us/sample - loss: 0.4209 - val_loss: 0.3763\n",
      "Epoch 30/30\n",
      "11610/11610 [==============================] - 1s 72us/sample - loss: 0.4441 - val_loss: 0.4186\n"
     ]
    }
   ],
   "source": [
    "tensorboard_cb = keras.callbacks.TensorBoard(run_logdir2) # calling the Tensorboard using the second model\n",
    "history = model.fit(X_train, y_train, epochs=30,\n",
    "                    validation_data=(X_valid, y_valid),\n",
    "                    callbacks=[checkpoint_cb, tensorboard_cb])"
   ]
  },
  {
   "cell_type": "markdown",
   "metadata": {},
   "source": [
    "Notice how TensorBoard now sees two runs, and you can compare the learning curves."
   ]
  },
  {
   "cell_type": "markdown",
   "metadata": {},
   "source": [
    "Check out the other available logging options:"
   ]
  },
  {
   "cell_type": "code",
   "execution_count": 96,
   "metadata": {},
   "outputs": [
    {
     "name": "stdout",
     "output_type": "stream",
     "text": [
      "Help on function __init__ in module tensorflow.python.keras.callbacks:\n",
      "\n",
      "__init__(self, log_dir='logs', histogram_freq=0, write_graph=True, write_images=False, update_freq='epoch', profile_batch=2, embeddings_freq=0, embeddings_metadata=None, **kwargs)\n",
      "    Initialize self.  See help(type(self)) for accurate signature.\n",
      "\n"
     ]
    }
   ],
   "source": [
    "help(keras.callbacks.TensorBoard.__init__)"
   ]
  }
 ],
 "metadata": {
  "kernelspec": {
   "display_name": "tensorflow2",
   "language": "python",
   "name": "tensorflow2"
  },
  "language_info": {
   "codemirror_mode": {
    "name": "ipython",
    "version": 3
   },
   "file_extension": ".py",
   "mimetype": "text/x-python",
   "name": "python",
   "nbconvert_exporter": "python",
   "pygments_lexer": "ipython3",
   "version": "3.6.8"
  },
  "nav_menu": {
   "height": "264px",
   "width": "369px"
  },
  "toc": {
   "base_numbering": 1,
   "nav_menu": {},
   "number_sections": true,
   "sideBar": true,
   "skip_h1_title": false,
   "title_cell": "Table of Contents",
   "title_sidebar": "Contents",
   "toc_cell": false,
   "toc_position": {},
   "toc_section_display": "block",
   "toc_window_display": false
  }
 },
 "nbformat": 4,
 "nbformat_minor": 4
}
