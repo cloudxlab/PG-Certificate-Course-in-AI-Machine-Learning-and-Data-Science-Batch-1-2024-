{
 "cells": [
  {
   "cell_type": "markdown",
   "metadata": {},
   "source": [
    "\n",
    "70,000 Images of digits - MNIST. [Semi Supervised Learning]\n",
    "   - Facee-mbeddings -> embedding\n",
    "   - Grouped these images into 10 groups. Kmeans\n",
    "   - Label each group manually with 0 to 9.\n",
    "\n",
    "----\n",
    "Other task - Scanned Resume -> OCR -> extract name, education, work history...\n",
    " * Surya - document parsing, \n",
    " * Marker -> Convert to markdown format\n",
    " * Phi3vision -> Q/A on image\n",
    " * PaliGemma\n",
    "----\n",
    "## Task1 -> Whether something is a resume or not.\n",
    "----\n",
    "    - Pattern based logic to label them. -> labeling of resume\n",
    "    - when model is confused - 50%, manual label those instances.\n",
    "\n",
    "Resume -> convert it text -> embedding -> train a model to classify whether a document is a resume or not.\n",
    "-----\n",
    "Docs -> OCR -> LLM -> embeddings --> kmeans(2) --> Unsupervised learning and put these docs into 2 buckets.\n",
    "\n",
    "Manually look at the resume:\n",
    "    1 bucket == Resume\n",
    "    2 bucket != resume\n"
   ]
  },
  {
   "cell_type": "markdown",
   "metadata": {},
   "source": [
    "# 100 millions images of things to be labeled 5 classes.\n",
    "How would label?\n"
   ]
  },
  {
   "cell_type": "code",
   "execution_count": 3,
   "metadata": {},
   "outputs": [],
   "source": [
    "# Auto Encoders and GAN\n",
    "\n",
    "# Image -- train a model -> Image"
   ]
  },
  {
   "cell_type": "code",
   "execution_count": null,
   "metadata": {},
   "outputs": [],
   "source": [
    "from random import random\n",
    "random()\n",
    "def unbiased_coin():\n",
    "    r = random()\n",
    "    if r <= 0.5:\n",
    "        return 0\n",
    "    else:\n",
    "        return 1\n",
    "sum([unbiased_coin() for _ in range(100000)])/100000"
   ]
  },
  {
   "cell_type": "code",
   "execution_count": null,
   "metadata": {},
   "outputs": [],
   "source": [
    "def biased_coin():\n",
    "    # return 1 80% of time\n",
    "    r = random()\n",
    "    if r <= 0.8:\n",
    "        return 1\n",
    "    else:\n",
    "        return 0"
   ]
  },
  {
   "cell_type": "code",
   "execution_count": null,
   "metadata": {},
   "outputs": [],
   "source": [
    "sum([biased_coin() for _ in range(100000)])/100000\n",
    "\n",
    "def three_face_die():\n",
    "    # Return 0 - 20%\n",
    "    # return 1 - 30%\n",
    "    # return 2 - 50%\n",
    "    r = random()\n",
    "    if r <= 0.2:\n",
    "        return 0\n",
    "    elif r <= 0.5:\n",
    "        return 1\n",
    "    else:\n",
    "        return 2"
   ]
  },
  {
   "cell_type": "code",
   "execution_count": 4,
   "metadata": {},
   "outputs": [],
   "source": [
    "# def multi_biased_dice(arr_of_probabilities): # Weighted Chances, Serendipity\n",
    "#     return index with same chances\n",
    "\n",
    "# multi_biased_dice([0.2, 0.3, 0.5])\n",
    "# 0 - 20% of time time\n",
    "# 1 - 30% of times\n",
    "# 2 - 50% of times\n",
    "\n",
    "# multi_biased_dice([0.2, 0.3, 0.1, 0.1, 0.1, 0.2])\n",
    "# 0 - 20% of time time\n",
    "# 1 - 30% of times\n",
    "# 2 - 10%\n",
    "# 3 - 10%\n",
    "# 4 - 10%\n",
    "# 5 - 20%"
   ]
  },
  {
   "cell_type": "code",
   "execution_count": 5,
   "metadata": {},
   "outputs": [
    {
     "data": {
      "text/plain": [
       "'0b1010100000010111110001111111111'"
      ]
     },
     "execution_count": 5,
     "metadata": {},
     "output_type": "execute_result"
    }
   ],
   "source": [
    "bin(0b1110 & 0b111)\n",
    "bin(14294967295)\n",
    "bin(14294967295 & 0xffffffff)"
   ]
  },
  {
   "cell_type": "code",
   "execution_count": null,
   "metadata": {},
   "outputs": [],
   "source": []
  }
 ],
 "metadata": {
  "kernelspec": {
   "display_name": "Python 3",
   "language": "python",
   "name": "python3"
  },
  "language_info": {
   "codemirror_mode": {
    "name": "ipython",
    "version": 3
   },
   "file_extension": ".py",
   "mimetype": "text/x-python",
   "name": "python",
   "nbconvert_exporter": "python",
   "pygments_lexer": "ipython3",
   "version": "3.6.8"
  },
  "toc": {
   "base_numbering": 1,
   "nav_menu": {},
   "number_sections": true,
   "sideBar": true,
   "skip_h1_title": false,
   "title_cell": "Table of Contents",
   "title_sidebar": "Contents",
   "toc_cell": false,
   "toc_position": {},
   "toc_section_display": true,
   "toc_window_display": false
  }
 },
 "nbformat": 4,
 "nbformat_minor": 2
}
