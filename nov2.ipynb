{
 "cells": [
  {
   "cell_type": "code",
   "execution_count": 1,
   "metadata": {},
   "outputs": [],
   "source": [
    "import numpy as np"
   ]
  },
  {
   "cell_type": "code",
   "execution_count": 11,
   "metadata": {},
   "outputs": [],
   "source": [
    "arr = np.array([1,2, 4, 10, 50, 100, 200, 2000, 1000, 3000])\n"
   ]
  },
  {
   "cell_type": "code",
   "execution_count": 12,
   "metadata": {},
   "outputs": [
    {
     "name": "stdout",
     "output_type": "stream",
     "text": [
      "SD:  999.9376030533106\n",
      "[-0.63573967 -0.63473961 -0.63273948 -0.62673911 -0.58673661 -0.53673349\n",
      " -0.43672725  1.36338507  0.36332267  2.36344747]\n"
     ]
    }
   ],
   "source": [
    "sd = np.std(arr)\n",
    "print(\"SD: \", sd)\n",
    "stdv = (arr - np.mean(arr))/sd\n",
    "print(stdv)"
   ]
  },
  {
   "cell_type": "code",
   "execution_count": 13,
   "metadata": {},
   "outputs": [
    {
     "data": {
      "text/plain": [
       "1.0"
      ]
     },
     "execution_count": 13,
     "metadata": {},
     "output_type": "execute_result"
    }
   ],
   "source": [
    "np.std(stdv)"
   ]
  },
  {
   "cell_type": "code",
   "execution_count": 14,
   "metadata": {},
   "outputs": [
    {
     "data": {
      "text/plain": [
       "-4.4408920985006264e-17"
      ]
     },
     "execution_count": 14,
     "metadata": {},
     "output_type": "execute_result"
    }
   ],
   "source": [
    "np.mean(stdv)"
   ]
  },
  {
   "cell_type": "code",
   "execution_count": 15,
   "metadata": {},
   "outputs": [
    {
     "data": {
      "text/plain": [
       "0.0"
      ]
     },
     "execution_count": 15,
     "metadata": {},
     "output_type": "execute_result"
    }
   ],
   "source": [
    "np.std([1])"
   ]
  },
  {
   "cell_type": "code",
   "execution_count": 16,
   "metadata": {},
   "outputs": [
    {
     "data": {
      "text/plain": [
       "1.0"
      ]
     },
     "execution_count": 16,
     "metadata": {},
     "output_type": "execute_result"
    }
   ],
   "source": [
    "np.mean([1])"
   ]
  },
  {
   "cell_type": "code",
   "execution_count": 18,
   "metadata": {},
   "outputs": [
    {
     "name": "stdout",
     "output_type": "stream",
     "text": [
      "SD:  0.0\n",
      "[0.]\n"
     ]
    }
   ],
   "source": [
    "arr = np.array([1])\n",
    "sd = np.std(arr)\n",
    "print(\"SD: \", sd)\n",
    "stdv = (arr - np.mean(arr))/(sd + 1e-10)\n",
    "print(stdv)"
   ]
  },
  {
   "cell_type": "code",
   "execution_count": 26,
   "metadata": {},
   "outputs": [
    {
     "name": "stdout",
     "output_type": "stream",
     "text": [
      "mean: 0.4, sd: 0.16329931618554522\n",
      "[ 3.67423461  9.79795897 15.92168333]\n",
      "mean: 1.12, sd: 0.2939387691339814\n",
      "[ 6.39588988  9.79795897 13.20002806]\n",
      "mean: 1.4293333333333336, sd: 0.3294319194653915\n",
      "[4.76780352 4.76780352 1.73227496]\n",
      "mean: 1.6434666666666669, sd: 0.48715233332229224\n",
      "[-1.32087362  0.73187237  2.78461836  4.83736436]\n",
      "mean: 3.3147733333333336, sd: 0.3897218666578338\n",
      "[17.15384031]\n"
     ]
    },
    {
     "name": "stderr",
     "output_type": "stream",
     "text": [
      "/usr/local/anaconda/envs/tensorflow2/lib/python3.6/site-packages/ipykernel_launcher.py:1: VisibleDeprecationWarning: Creating an ndarray from ragged nested sequences (which is a list-or-tuple of lists-or-tuples-or ndarrays with different lengths or shapes) is deprecated. If you meant to do this, you must specify 'dtype=object' when creating the ndarray\n",
      "  \"\"\"Entry point for launching an IPython kernel.\n"
     ]
    }
   ],
   "source": [
    "arr = np.array([[1,2,3], [3, 4, 5],[3,3,2], [1,2,3,4],[10]])\n",
    "mean = 0\n",
    "sd = 0\n",
    "for i in range(len(arr)):\n",
    "    mean = 0.8*mean + 0.2*np.mean(arr[i])\n",
    "    sd = 0.8*sd + 0.2*np.std(arr[i])\n",
    "    print(f\"mean: {mean}, sd: {sd}\")\n",
    "    sarr = (arr[i] - mean)/sd\n",
    "    print(sarr)\n",
    "    "
   ]
  },
  {
   "cell_type": "code",
   "execution_count": null,
   "metadata": {},
   "outputs": [],
   "source": []
  }
 ],
 "metadata": {
  "kernelspec": {
   "display_name": "tensorflow2",
   "language": "python",
   "name": "tensorflow2"
  },
  "language_info": {
   "codemirror_mode": {
    "name": "ipython",
    "version": 3
   },
   "file_extension": ".py",
   "mimetype": "text/x-python",
   "name": "python",
   "nbconvert_exporter": "python",
   "pygments_lexer": "ipython3",
   "version": "3.6.8"
  },
  "toc": {
   "base_numbering": 1,
   "nav_menu": {},
   "number_sections": true,
   "sideBar": true,
   "skip_h1_title": false,
   "title_cell": "Table of Contents",
   "title_sidebar": "Contents",
   "toc_cell": false,
   "toc_position": {},
   "toc_section_display": true,
   "toc_window_display": false
  }
 },
 "nbformat": 4,
 "nbformat_minor": 2
}
